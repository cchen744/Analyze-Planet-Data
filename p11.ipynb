{
 "cells": [
  {
   "cell_type": "markdown",
   "id": "86a952bb",
   "metadata": {
    "deletable": false,
    "editable": false
   },
   "source": [
    "# Assignment 11:  Scatter Plots and Recursion"
   ]
  },
  {
   "cell_type": "markdown",
   "id": "508d7047-950b-405c-849d-a86ec5df1a0d",
   "metadata": {
    "deletable": false,
    "editable": false
   },
   "source": [
    "## Your Information"
   ]
  },
  {
   "cell_type": "markdown",
   "id": "ac4b8ea9-4b86-48c4-a10e-e76f765b5274",
   "metadata": {
    "deletable": false,
    "editable": false
   },
   "source": [
    "At the start of each assignment, you will need to provide us your name and the name of the partner you worked with for this assignment (if you had one). Double click on the cell below or click once and hit enter to edit it. Replace \"First Last\" with your first name and last name. Replace \"None\" with the first and last name of your partner if you had one for this assignment. We ask for this information so we don't accuse you of cheating when your code looks like your partner's.\n",
    "\n",
    "Please keep these lines commented so they don't cause an error."
   ]
  },
  {
   "cell_type": "code",
   "execution_count": 1,
   "id": "b0a7a44a-2bcf-410b-9081-991f543e3ba1",
   "metadata": {
    "deletable": false
   },
   "outputs": [],
   "source": [
    "# MY NAME: Chen Chen\n",
    "\n",
    "# My PARTNER'S NAME: Akshana Jose"
   ]
  },
  {
   "cell_type": "markdown",
   "id": "994f572d-a80f-48ca-bd42-d6c15d6ba6b6",
   "metadata": {
    "deletable": false,
    "editable": false
   },
   "source": [
    "## Imports"
   ]
  },
  {
   "cell_type": "markdown",
   "id": "ac0de44d-274e-4d38-abc9-e25a218bfb2d",
   "metadata": {
    "deletable": false,
    "editable": false
   },
   "source": [
    "Every project will begin with some import statements. It's crucial that you run the cell below, otherwise we will not be able to grade your code and provide feedback to you."
   ]
  },
  {
   "cell_type": "code",
   "execution_count": 2,
   "id": "8ea8da83-a5c1-4f11-a742-bf0308716ad0",
   "metadata": {
    "deletable": false
   },
   "outputs": [],
   "source": [
    "# it is considered a good coding practice to place all import statements at the top of the notebook\n",
    "\n",
    "import json\n",
    "from collections import namedtuple\n",
    "import matplotlib.pyplot as plt\n",
    "\n",
    "try:\n",
    "    get_ipython().run_line_magic('matplotlib', 'inline') # running from notebook, show plots\n",
    "except NameError:\n",
    "    pass # Not running from notebook, no need to plot\n",
    "\n",
    "import csv\n",
    "import statistics\n",
    "\n",
    "import os\n",
    "import student_grader\n",
    "student_grader.initialize(os.getcwd(), \"p11\")"
   ]
  },
  {
   "cell_type": "markdown",
   "id": "1655dc59-d3c3-44ee-ad62-639de2325663",
   "metadata": {
    "deletable": false,
    "editable": false
   },
   "source": [
    "## Feedback Server and Privacy/User Agreement"
   ]
  },
  {
   "cell_type": "markdown",
   "id": "9ebc8a69-a292-435c-8715-c4b5a136d314",
   "metadata": {
    "deletable": false,
    "editable": false
   },
   "source": [
    "By using our feedback server, you are consenting to the transmission of your netid and password to authenticate your identity. We assure you that we will not store this information. This process is necessary for accessing feedback from our LLM system and is conducted in compliance with FERPA regulations.\n",
    "\n",
    "To receive assistance from our LLM feedback system, you will need to provide your netid and password the first time you run a grader check cell with `should_get_llm_feedback=True`. Your credentials will be sent securely to our feedback server solely for authentication purposes. Upon successful authentication, you will receive a token that allows you to receive feedback without logging in again. This token will expire in 5 hours, after which you will need to log in again to continue using the feedback service.\n",
    "\n",
    "If you have any questions or concerns about data privacy and security, please make a post on Piazza."
   ]
  },
  {
   "cell_type": "markdown",
   "id": "25b2334a-736f-497b-b46d-a295a901c2cf",
   "metadata": {
    "deletable": false,
    "editable": false
   },
   "source": [
    "## Learning Objectives"
   ]
  },
  {
   "cell_type": "markdown",
   "id": "d7a1fcf6-a8f4-407f-8731-13c673d14598",
   "metadata": {
    "deletable": false,
    "editable": false
   },
   "source": [
    "After completing this assignment, you will be able to...\n",
    "* create scatter plots\n",
    "* define recursive functions\n",
    "* analyze the data from P10\n",
    "* make scatter plots using `matplotlib`\n",
    "* remove outliers to make the plots more useful\n",
    "* use recursion to gather new data"
   ]
  },
  {
   "cell_type": "markdown",
   "id": "e08f1bc5",
   "metadata": {
    "deletable": false,
    "editable": false
   },
   "source": [
    "<h2 style=\"color:red\">Warning (Note on Academic Misconduct):</h2>\n",
    "\n",
    "**IMPORTANT**: **P10 and P11 are two parts of the same data analysis.** You **cannot** switch project partners between these two projects. That is, if you partnered up with someone for P10, you have to sustain that partnership until end of P11. You may either continue to work with the same partner, or work on P11 alone. Now may be a good time to review [our course policies](https://cs220.cs.wisc.edu/f24/syllabus.html).\n",
    "\n",
    "Under any circumstances, **no more than two students are allowed to work together on a project** as mentioned in the course policies. If your code is flagged by our code similarity detection tools, **both partners will be responsible** for sharing/copying the code, even if the code is shared/copied by one of the partners with/from other non-partner student(s). Note that each case of plagiarism will be reported to the Dean of Students with a zero grade on the project. **If you think that someone cannot be your project partner then don’t make that student your lab partner.**"
   ]
  },
  {
   "cell_type": "markdown",
   "id": "a71e4806-a9ff-44ac-bbd8-2f2f0bdf8b6a",
   "metadata": {
    "deletable": false,
    "editable": false
   },
   "source": [
    "## Setup:"
   ]
  },
  {
   "cell_type": "markdown",
   "id": "2b1fb32f",
   "metadata": {
    "deletable": false,
    "editable": false
   },
   "source": [
    "Before proceeding much further, make sure you have unzipped the p11 zip file.\n",
    "\n",
    "Make sure that the project files are stored in the following structure:\n",
    "(Note: In any of these directories, you may see files named `.DS_Store` and `.ipynb_checkpoints`. You will not use these automatically-generated files, but you will need to filter them out when you read the folder contents later in the notebook)\n",
    "\n",
    "```\n",
    "+-- p11.ipynb\n",
    "+-- planets_small.json\n",
    "+-- sample_data\n",
    "|   +-- file_1.json\n",
    "|   +-- 10\n",
    "|   |   +-- file_2.json\n",
    "|   |   +-- file_3.json\n",
    "|   +-- 100\n",
    "|   |   +-- file_4.json\n",
    "|   |   +-- 1000\n",
    "|   |   |   +-- file_5.json\n",
    "+-- data\n",
    "|   +-- mapping_1.json\n",
    "|   +-- mapping_2.json\n",
    "|   +-- mapping_3.json\n",
    "|   +-- mapping_4.json\n",
    "|   +-- mapping_5.json\n",
    "|   +-- planets_1.csv\n",
    "|   +-- planets_2.csv\n",
    "|   +-- planets_3.csv\n",
    "|   +-- planets_4.csv\n",
    "|   +-- planets_5.csv\n",
    "|   +-- stars_1.csv\n",
    "|   +-- stars_2.csv\n",
    "|   +-- stars_3.csv\n",
    "|   +-- stars_4.csv\n",
    "|   +-- stars_5.csv\n",
    "+-- broken_data\n",
    "|   +-- k2s.json\n",
    "|   +-- others.json\n",
    "|   +-- gj\n",
    "|   |   +-- gjs.json\n",
    "|   +-- hd\n",
    "|   |   +-- 10000\n",
    "|   |   |   +-- 10000s.json\n",
    "|   |   +-- other\n",
    "|   |   |   +-- others.json\n",
    "|   +-- kepler\n",
    "|   |   +-- 10\n",
    "|   |   |   +-- 30\n",
    "|   |   |   |   +-- 30s.json\n",
    "|   |   |   +-- 20s.json\n",
    "|   |   |   +-- 80s.json\n",
    "|   |   |   +-- others.json\n",
    "|   |   +-- 100\n",
    "|   |   |   +-- 100\n",
    "|   |   |   |   +-- 100s.json\n",
    "|   |   |   |   +-- others.json\n",
    "|   |   |   +-- 200\n",
    "|   |   |   |   +-- 220s.json\n",
    "|   |   |   |   +-- others.json\n",
    "|   |   |   |   +-- 290\n",
    "|   |   |   |   |   +-- 290s.json\n",
    "|   |   |   +-- other\n",
    "|   |   |   |   +-- others.json\n",
    "|   |   +-- other\n",
    "|   |   |   +-- others.json\n",
    "|   +-- toi\n",
    "|   |   +-- tois.json\n",
    "```\n",
    "\n",
    "Make sure that **all** files are stored in this **exact** file structure."
   ]
  },
  {
   "cell_type": "markdown",
   "id": "77a28e9a-cfe3-4453-acc2-65233489e273",
   "metadata": {
    "deletable": false,
    "editable": false
   },
   "source": [
    "## Introduction:"
   ]
  },
  {
   "cell_type": "markdown",
   "id": "10b22d09",
   "metadata": {
    "deletable": false,
    "editable": false
   },
   "source": [
    "In P10, you parsed the data in the `data` directory and created some useful data structures. In P11, you will be creating scatter plots, and using recursion to gather even more data.\n",
    "\n",
    "In Lab-P11, you will practice creating scatter plots on a smaller dataset, and also practice writing some recursive functions."
   ]
  },
  {
   "cell_type": "markdown",
   "id": "0dfce6ef-e7bc-4afc-8b8b-106900da4381",
   "metadata": {
    "deletable": false,
    "editable": false
   },
   "source": [
    "## Lab Portion (22 questions, 2 functions)"
   ]
  },
  {
   "cell_type": "markdown",
   "id": "5fe4f09d-7c2f-43e8-a62a-a4de09bc2656",
   "metadata": {
    "deletable": false,
    "editable": false
   },
   "source": [
    "### Loading in data:"
   ]
  },
  {
   "cell_type": "markdown",
   "id": "b1a0982c",
   "metadata": {
    "deletable": false,
    "editable": false
   },
   "source": [
    "Before proceeding further, we will need to load in some data. Recall that in P10, we created a **list** of `Planet` objects called `planets_list`. In P11, you will be analyzing this **list** and using the data in there to create scatter plots. If you have not finished P10, do not worry about it. For Lab-P11, you will instead be working with a sample dataset. The data we will be analyzing in Lab-P11 is stored in `planets_small.json`.\n",
    "\n",
    "**Warning:** Note that the data in `planets_small.json` is **not** stored in the same format as the files in the `data` directory that you parsed in P10. This file has been created solely for Lab-P11, so it is easier to load in the data without having to create the functions that you need to create in P10 to read the actual dataset."
   ]
  },
  {
   "cell_type": "code",
   "execution_count": 3,
   "id": "7a3ce7f3",
   "metadata": {
    "deletable": false
   },
   "outputs": [],
   "source": [
    "# we have defined the namedtuple 'Planet' for you\n",
    "\n",
    "planets_attributes = ['planet_name',\n",
    "                     'host_name', \n",
    "                     'discovery_method',\n",
    "                     'discovery_year',\n",
    "                     'controversial_flag',\n",
    "                     'orbital_period',\n",
    "                     'planet_radius',\n",
    "                     'planet_mass',\n",
    "                     'semi_major_radius',\n",
    "                     'eccentricity',\n",
    "                     'equilibrium_temperature',\n",
    "                     'insolation_flux']\n",
    "\n",
    "Planet = namedtuple(\"Planet\", planets_attributes)"
   ]
  },
  {
   "cell_type": "code",
   "execution_count": 4,
   "id": "73724c3e",
   "metadata": {
    "deletable": false
   },
   "outputs": [
    {
     "data": {
      "text/plain": [
       "[Planet(planet_name='11 Com b', host_name='11 Com', discovery_method='Radial Velocity', discovery_year=2007, controversial_flag=False, orbital_period=326.03, planet_radius=12.1, planet_mass=6165.6, semi_major_radius=1.29, eccentricity=0.231, equilibrium_temperature=None, insolation_flux=None),\n",
       " Planet(planet_name='11 UMi b', host_name='11 UMi', discovery_method='Radial Velocity', discovery_year=2009, controversial_flag=False, orbital_period=516.21997, planet_radius=12.3, planet_mass=4684.8142, semi_major_radius=1.53, eccentricity=0.08, equilibrium_temperature=None, insolation_flux=None),\n",
       " Planet(planet_name='14 And b', host_name='14 And', discovery_method='Radial Velocity', discovery_year=2008, controversial_flag=False, orbital_period=185.84, planet_radius=12.9, planet_mass=1525.5, semi_major_radius=0.83, eccentricity=0.0, equilibrium_temperature=None, insolation_flux=None)]"
      ]
     },
     "execution_count": 4,
     "metadata": {},
     "output_type": "execute_result"
    }
   ],
   "source": [
    "# we have parsed the data in 'planets_small.json' and created a list of Planet objects for you\n",
    "\n",
    "def read_json(path):\n",
    "    with open(path, encoding=\"utf-8\") as f:\n",
    "        return json.load(f)\n",
    "\n",
    "# add the planets in 'planets_small.json' as Planet objects to 'small_planets_list'\n",
    "small_planets_list = []\n",
    "for planet in read_json('planets_small.json'):\n",
    "    small_planets_list.append(Planet(**planet))\n",
    "\n",
    "# display the first three Planet objects in 'small_planets_list'\n",
    "small_planets_list[:3]"
   ]
  },
  {
   "cell_type": "markdown",
   "id": "7467149b-7505-4885-b7a5-1b42b1308f37",
   "metadata": {
    "deletable": false,
    "editable": false
   },
   "source": [
    "### Segment 1: Scatter Plots"
   ]
  },
  {
   "cell_type": "markdown",
   "id": "ff724f62",
   "metadata": {
    "deletable": false,
    "editable": false
   },
   "source": [
    "We will first learn to create simple scatter plots."
   ]
  },
  {
   "cell_type": "markdown",
   "id": "bbf2dff8-c993-42c6-97bc-4ad360f0c72d",
   "metadata": {
    "deletable": false,
    "editable": false
   },
   "source": [
    "### Lab Function 1: `plot_scatter(x_data, y_data, x_label, y_label, c, s)`"
   ]
  },
  {
   "cell_type": "markdown",
   "id": "502016aa",
   "metadata": {
    "deletable": false,
    "editable": false
   },
   "source": [
    "You have been provided with a function `plot_scatter` which can create scatter plots. You do not need to worry about how it works just yet. The function will be explained to you over the course of the lab."
   ]
  },
  {
   "cell_type": "code",
   "execution_count": 5,
   "id": "37fc3c80",
   "metadata": {
    "deletable": false
   },
   "outputs": [],
   "source": [
    "def plot_scatter(x_data, y_data, x_label='x axis', y_label='y axis', c=None, s=7):\n",
    "    plt.scatter(x_data, y_data, c=c, s=s)\n",
    "    plt.xlabel(x_label)\n",
    "    plt.ylabel(y_label)\n",
    "    plt.show()"
   ]
  },
  {
   "cell_type": "markdown",
   "id": "97c6ed04",
   "metadata": {
    "deletable": false,
    "editable": false
   },
   "source": [
    "### Task 1.1: Simple plots with `plot_scatter`"
   ]
  },
  {
   "cell_type": "markdown",
   "id": "4e576a03-4bf4-4c7e-9f4d-c7959d94a867",
   "metadata": {
    "deletable": false,
    "editable": false
   },
   "source": [
    "#### Lab Question 1: Create a **scatter plot** with the points *(1, 1)*, *(2, 2)*, *(3, 3)*, and *(4, 4)*."
   ]
  },
  {
   "cell_type": "markdown",
   "id": "c537a82d",
   "metadata": {
    "deletable": false,
    "editable": false
   },
   "source": [
    "You **must** first compute **two lists** which contain the *x*-coordinates and *y*-coordinates of the above points respectively. "
   ]
  },
  {
   "cell_type": "markdown",
   "id": "921b7fc2-7680-46eb-9ebb-07a8f5410e54",
   "metadata": {
    "deletable": false,
    "editable": false
   },
   "source": [
    "Points possible: 4.0"
   ]
  },
  {
   "cell_type": "code",
   "execution_count": 6,
   "id": "47e6815c",
   "metadata": {
    "deletable": false,
    "editable": true,
    "tags": [
     "lab-q1-code"
    ]
   },
   "outputs": [],
   "source": [
    "# first compute and store the lists 'x' and 'y', but do NOT display them\n",
    "# do NOT create the plot just yet\n",
    "\n",
    "# we have done this one for you\n",
    "x = [1, 2, 3, 4]\n",
    "y = [1, 2, 3, 4]"
   ]
  },
  {
   "cell_type": "code",
   "execution_count": 7,
   "id": "4c4f2e1f-7e35-41d4-acbf-f78662dc2aee",
   "metadata": {
    "deletable": false,
    "editable": true
   },
   "outputs": [
    {
     "name": "stdout",
     "output_type": "stream",
     "text": [
      "Make sure you saved the notebook before running this cell. Running check for lab-q1...\n",
      "Great job! You passed all test cases for this question.\n"
     ]
    },
    {
     "data": {
      "text/plain": [
       "True"
      ]
     },
     "execution_count": 7,
     "metadata": {},
     "output_type": "execute_result"
    }
   ],
   "source": [
    "student_grader.check(\"lab-q1\", should_get_llm_feedback=False)"
   ]
  },
  {
   "cell_type": "markdown",
   "id": "1483cef2",
   "metadata": {
    "deletable": false,
    "editable": false
   },
   "source": [
    "Now, **plot** `x` and `y` as **scatter plot**. Your plot should look like this:"
   ]
  },
  {
   "cell_type": "markdown",
   "id": "045a4661",
   "metadata": {
    "deletable": false,
    "editable": false
   },
   "source": [
    "<div><img src=\"images/lab-q1.jpg\" style=\"height: 300px;\"/></div>"
   ]
  },
  {
   "cell_type": "code",
   "execution_count": 8,
   "id": "6949919b",
   "metadata": {
    "deletable": false
   },
   "outputs": [
    {
     "data": {
      "image/png": "[encoded data removed]",
      "text/plain": [
       "<Figure size 640x480 with 1 Axes>"
      ]
     },
     "metadata": {},
     "output_type": "display_data"
    }
   ],
   "source": [
    "# plot 'x' and 'y'\n",
    "# we have done this one for you\n",
    "\n",
    "plot_scatter(x, y)\n"
   ]
  },
  {
   "cell_type": "markdown",
   "id": "7b8c8355",
   "metadata": {
    "deletable": false,
    "editable": false
   },
   "source": [
    "As you can see, in order to create the **scatter plot**, we had to create **two** lists `x` and `y`. The **list** `x` contains the data in the **x axis** and the **list** `y` contains the data in the **y axis**. For example, the element at index *0* of `x` is *1*, and the element at index *0* of `y` is *1*. Therefore, a point is added to the **scatter plot** at the position *(1, 1)*. Similarly, the other points are also added to the **scatter plot** using the `x` and `y` lists."
   ]
  },
  {
   "cell_type": "markdown",
   "id": "12153094-4c47-4bfd-a13a-7591441c07e9",
   "metadata": {
    "deletable": false,
    "editable": false
   },
   "source": [
    "#### Lab Question 2: Create a **scatter plot** with the points *(1, 4)*, *(2, 1)*, *(3, 2)*, and *(4, 3)*."
   ]
  },
  {
   "cell_type": "markdown",
   "id": "0e4fd201",
   "metadata": {
    "deletable": false,
    "editable": false
   },
   "source": [
    "You **must** create **two lists** and store the **x** and **y** values in these lists. In order to pass the autograder for scatter plots, you **must** define **both** **lists** properly."
   ]
  },
  {
   "cell_type": "markdown",
   "id": "955753c5-849f-4798-984a-6ad7e9b40eaf",
   "metadata": {
    "deletable": false,
    "editable": false
   },
   "source": [
    "Points possible: 4.0"
   ]
  },
  {
   "cell_type": "code",
   "execution_count": 9,
   "id": "56e4093f",
   "metadata": {
    "deletable": false,
    "editable": true,
    "tags": [
     "lab-q2-code"
    ]
   },
   "outputs": [],
   "source": [
    "# first compute and store the lists 'x' and 'y', but do NOT display them\n",
    "# do NOT create the plot just yet\n",
    "\n",
    "# replace the ... with your code\n",
    "\n",
    "x = [1, 2, 3, 4]\n",
    "y = [4, 1, 2, 3]\n"
   ]
  },
  {
   "cell_type": "code",
   "execution_count": 10,
   "id": "2ee598f8",
   "metadata": {
    "deletable": false,
    "editable": true
   },
   "outputs": [
    {
     "name": "stdout",
     "output_type": "stream",
     "text": [
      "Make sure you saved the notebook before running this cell. Running check for lab-q2...\n",
      "Great job! You passed all test cases for this question.\n"
     ]
    },
    {
     "data": {
      "text/plain": [
       "True"
      ]
     },
     "execution_count": 10,
     "metadata": {},
     "output_type": "execute_result"
    }
   ],
   "source": [
    "student_grader.check(\"lab-q2\", should_get_llm_feedback=False)"
   ]
  },
  {
   "cell_type": "markdown",
   "id": "8e8e143d",
   "metadata": {
    "deletable": false,
    "editable": false
   },
   "source": [
    "Now, **plot** `x` and `y` as **scatter plot**. Your plot should look like this:"
   ]
  },
  {
   "cell_type": "markdown",
   "id": "fb4881c1",
   "metadata": {
    "deletable": false,
    "editable": false
   },
   "source": [
    "<div><img src=\"images/lab-q2.jpg\" style=\"height: 300px;\"/></div>"
   ]
  },
  {
   "cell_type": "code",
   "execution_count": 11,
   "id": "9acf1d64",
   "metadata": {
    "deletable": false
   },
   "outputs": [
    {
     "data": {
      "image/png": "[encoded data removed]",
      "text/plain": [
       "<Figure size 640x480 with 1 Axes>"
      ]
     },
     "metadata": {},
     "output_type": "display_data"
    }
   ],
   "source": [
    "# plot 'x' and 'y'\n",
    "# uncomment the line below and replace ... with your code\n",
    "\n",
    "plot_scatter(x, y)\n"
   ]
  },
  {
   "cell_type": "markdown",
   "id": "6f2379ec-d44b-481d-bdb5-efaaff8a85b5",
   "metadata": {
    "deletable": false,
    "editable": false
   },
   "source": [
    "#### Lab Question 3: Create a **scatter plot** having the numbers *(1, 2, 3, ... 10)* on the **x axis** and their **squares** on the **y axis**."
   ]
  },
  {
   "cell_type": "markdown",
   "id": "9fc8dd0e",
   "metadata": {
    "deletable": false,
    "editable": false
   },
   "source": [
    "You **must** create **two lists** and store the **x** and **y** values in these lists. In order to pass `grader.check` for scatter plots, you **must** define **both** **lists** properly."
   ]
  },
  {
   "cell_type": "markdown",
   "id": "368a2ca0-6a57-49ae-bf6f-bd29f4040d5e",
   "metadata": {
    "deletable": false,
    "editable": false
   },
   "source": [
    "Points possible: 4.0"
   ]
  },
  {
   "cell_type": "code",
   "execution_count": 12,
   "id": "bb3ca11c",
   "metadata": {
    "deletable": false,
    "editable": true,
    "tags": [
     "lab-q3-code"
    ]
   },
   "outputs": [],
   "source": [
    "# first compute and store the lists 'x' and 'y', but do NOT display them\n",
    "# do NOT create the plot just yet\n",
    "\n",
    "# replace the ... with your code\n",
    "\n",
    "x = [i for i in range(1, 11)]\n",
    "y = [j**2 for j in x]\n"
   ]
  },
  {
   "cell_type": "code",
   "execution_count": 13,
   "id": "5913214b",
   "metadata": {
    "deletable": false,
    "editable": true
   },
   "outputs": [
    {
     "name": "stdout",
     "output_type": "stream",
     "text": [
      "Make sure you saved the notebook before running this cell. Running check for lab-q3...\n",
      "Great job! You passed all test cases for this question.\n"
     ]
    },
    {
     "data": {
      "text/plain": [
       "True"
      ]
     },
     "execution_count": 13,
     "metadata": {},
     "output_type": "execute_result"
    }
   ],
   "source": [
    "student_grader.check(\"lab-q3\", should_get_llm_feedback=False)"
   ]
  },
  {
   "cell_type": "markdown",
   "id": "5f01f63a",
   "metadata": {
    "deletable": false,
    "editable": false
   },
   "source": [
    "Now, **plot** `x` and `y` as **scatter plot**. Your plot should look like this:"
   ]
  },
  {
   "cell_type": "markdown",
   "id": "b45a5bb9",
   "metadata": {
    "deletable": false,
    "editable": false
   },
   "source": [
    "<div><img src=\"images/lab-q3.jpg\" style=\"height: 300px;\"/></div>"
   ]
  },
  {
   "cell_type": "code",
   "execution_count": 14,
   "id": "c5623a98",
   "metadata": {
    "deletable": false
   },
   "outputs": [
    {
     "data": {
      "image/png": "[encoded data removed]",
      "text/plain": [
       "<Figure size 640x480 with 1 Axes>"
      ]
     },
     "metadata": {},
     "output_type": "display_data"
    }
   ],
   "source": [
    "# plot 'x' and 'y'\n",
    "\n",
    "plot_scatter(x, y)\n"
   ]
  },
  {
   "cell_type": "markdown",
   "id": "c1730c5b",
   "metadata": {
    "deletable": false,
    "editable": false
   },
   "source": [
    "Note that the labels on the **x axis** and the **y axis** are not very descriptive. We can add in our own labels using the `plot_scatter` function by passing two optional arguments to the parameters `x_label` and `y_label` respectively."
   ]
  },
  {
   "cell_type": "markdown",
   "id": "8cfe6d01",
   "metadata": {
    "deletable": false,
    "editable": false
   },
   "source": [
    "Now, **Plot** `x` and `y` as **scatter plot** with the **x-axis** labelled *Numbers*, and the **y-axis** labelled *Squares*. Your plot should look like this:"
   ]
  },
  {
   "cell_type": "markdown",
   "id": "6f6d01be",
   "metadata": {
    "deletable": false,
    "editable": false
   },
   "source": [
    "<div><img src=\"images/lab-q4.jpg\" style=\"height: 300px;\"/></div>"
   ]
  },
  {
   "cell_type": "code",
   "execution_count": 15,
   "id": "dd31a5ee",
   "metadata": {
    "deletable": false
   },
   "outputs": [
    {
     "data": {
      "image/png": "[encoded data removed]",
      "text/plain": [
       "<Figure size 640x480 with 1 Axes>"
      ]
     },
     "metadata": {},
     "output_type": "display_data"
    }
   ],
   "source": [
    "# we have already added in the label for the x axis\n",
    "# complete the rest of the code and add the label for the y axis\n",
    "\n",
    "plot_scatter(x, y, x_label=\"Numbers\", y_label=\"Squares\")\n"
   ]
  },
  {
   "cell_type": "markdown",
   "id": "66186bc6-c7a4-4076-8089-525885dc2028",
   "metadata": {
    "deletable": false,
    "editable": false
   },
   "source": [
    "### Task 1.2: Plotting planets with `plot_scatter`"
   ]
  },
  {
   "cell_type": "markdown",
   "id": "aaff939b",
   "metadata": {
    "deletable": false,
    "editable": false
   },
   "source": [
    "We will now create more interesting plots using the data in the variable `small_planets_list`. However, let us first get acquainted with the dataset."
   ]
  },
  {
   "cell_type": "markdown",
   "id": "77485362-5264-4904-8470-5857f157c8b7",
   "metadata": {
    "deletable": false,
    "editable": false
   },
   "source": [
    "#### Lab Question 4: What is the **number** of `Planet` objects in `small_planets_list` that were discovered in the time period *2000* to *2010* (both, inclusive)?"
   ]
  },
  {
   "cell_type": "markdown",
   "id": "dab9092a",
   "metadata": {
    "deletable": false,
    "editable": false
   },
   "source": [
    "**Hint:** You can find the year of discovery of each `Planet` using the `discovery_year` attribute of the `Planet` objects."
   ]
  },
  {
   "cell_type": "markdown",
   "id": "534c9331-2620-41c9-af1a-7488936c74e3",
   "metadata": {
    "deletable": false,
    "editable": false
   },
   "source": [
    "Points possible: 4.0"
   ]
  },
  {
   "cell_type": "code",
   "execution_count": 16,
   "id": "972df04c",
   "metadata": {
    "deletable": false,
    "editable": true,
    "tags": [
     "lab-q4-code"
    ]
   },
   "outputs": [
    {
     "data": {
      "text/plain": [
       "480"
      ]
     },
     "execution_count": 16,
     "metadata": {},
     "output_type": "execute_result"
    }
   ],
   "source": [
    "# compute and store the answer in the variable 'planet_count_2000_2010', then display it\n",
    "\n",
    "planet_count_2000_2010 = 0\n",
    "for planet in small_planets_list:\n",
    "    if planet.discovery_year >= 2000 and planet.discovery_year<=2010:\n",
    "        planet_count_2000_2010 += 1\n",
    "\n",
    "planet_count_2000_2010"
   ]
  },
  {
   "cell_type": "code",
   "execution_count": 17,
   "id": "a84483c4",
   "metadata": {
    "deletable": false,
    "editable": true
   },
   "outputs": [
    {
     "name": "stdout",
     "output_type": "stream",
     "text": [
      "Make sure you saved the notebook before running this cell. Running check for lab-q4...\n",
      "Great job! You passed all test cases for this question.\n"
     ]
    },
    {
     "data": {
      "text/plain": [
       "True"
      ]
     },
     "execution_count": 17,
     "metadata": {},
     "output_type": "execute_result"
    }
   ],
   "source": [
    "student_grader.check(\"lab-q4\", should_get_llm_feedback=False)"
   ]
  },
  {
   "cell_type": "markdown",
   "id": "ab95cf96-24fb-40c8-a356-760313c085d5",
   "metadata": {
    "deletable": false,
    "editable": false
   },
   "source": [
    "#### Lab Question 5: What is the **percentage** of planets (in the range *0* to *100*) that have `insolation_flux` **greater** than *1000*?"
   ]
  },
  {
   "cell_type": "markdown",
   "id": "1207c30f",
   "metadata": {
    "deletable": false,
    "editable": false
   },
   "source": [
    "You **must** ignore the `Planet` objects with **missing** `insolation_flux` data."
   ]
  },
  {
   "cell_type": "markdown",
   "id": "6151aa12-893e-4839-a5bd-c30300105aa4",
   "metadata": {
    "deletable": false,
    "editable": false
   },
   "source": [
    "Points possible: 4.0"
   ]
  },
  {
   "cell_type": "code",
   "execution_count": 211,
   "id": "f951cfea",
   "metadata": {
    "deletable": false,
    "editable": true,
    "tags": [
     "lab-q5-code"
    ]
   },
   "outputs": [
    {
     "data": {
      "text/plain": [
       "9.482758620689655"
      ]
     },
     "execution_count": 211,
     "metadata": {},
     "output_type": "execute_result"
    }
   ],
   "source": [
    "# compute and store the answer in the variable 'flux_1000_percentage', then display it\n",
    "planet_count_insolation_flux = 0\n",
    "planet_with_insolation_flux = 0\n",
    "for planet in small_planets_list:\n",
    "    if planet.insolation_flux != None:\n",
    "        planet_with_insolation_flux += 1\n",
    "        if planet.insolation_flux > 1000:\n",
    "            planet_count_insolation_flux += 1\n",
    "\n",
    "flux_1000_percentage = planet_count_insolation_flux*100/planet_with_insolation_flux\n",
    "flux_1000_percentage"
   ]
  },
  {
   "cell_type": "code",
   "execution_count": 212,
   "id": "65443181",
   "metadata": {
    "deletable": false,
    "editable": true
   },
   "outputs": [
    {
     "name": "stdout",
     "output_type": "stream",
     "text": [
      "Make sure you saved the notebook before running this cell. Running check for lab-q5...\n",
      "Great job! You passed all test cases for this question.\n"
     ]
    },
    {
     "data": {
      "text/plain": [
       "True"
      ]
     },
     "execution_count": 212,
     "metadata": {},
     "output_type": "execute_result"
    }
   ],
   "source": [
    "student_grader.check(\"lab-q5\", should_get_llm_feedback=False)"
   ]
  },
  {
   "cell_type": "markdown",
   "id": "aa6401a8-bff7-49c6-a982-583bb870711e",
   "metadata": {
    "deletable": false,
    "editable": false
   },
   "source": [
    "#### Lab Question 6: Create a **scatter plot** representing the `orbital_period` (on the **x-axis**) against the `semi_major_radius` (on the **y-axis**) of each `Planet` object in `small_planets_list`."
   ]
  },
  {
   "cell_type": "markdown",
   "id": "01860db9",
   "metadata": {
    "deletable": false,
    "editable": false
   },
   "source": [
    "You **must** ignore any `Planet` objects for which **either** the `orbital_period` or the `semi_major_radius` data is **missing**."
   ]
  },
  {
   "cell_type": "markdown",
   "id": "e9814305-5092-4987-8655-c7fc1e4e73ef",
   "metadata": {
    "deletable": false,
    "editable": false
   },
   "source": [
    "Points possible: 4.0"
   ]
  },
  {
   "cell_type": "code",
   "execution_count": 20,
   "id": "7d166fe2",
   "metadata": {
    "deletable": false,
    "editable": true,
    "tags": [
     "lab-q6-code"
    ]
   },
   "outputs": [],
   "source": [
    "# we have computed the lists 'orbital_period' and 'semi_major_radii' for you\n",
    "\n",
    "orbital_periods = []\n",
    "semi_major_radii = []\n",
    "for planet in small_planets_list:\n",
    "    orbital_period = planet.orbital_period\n",
    "    semi_major_radius = planet.semi_major_radius\n",
    "    if orbital_period == None or semi_major_radius == None:\n",
    "        continue\n",
    "    orbital_periods.append(orbital_period)\n",
    "    semi_major_radii.append(semi_major_radius)"
   ]
  },
  {
   "cell_type": "code",
   "execution_count": 21,
   "id": "b1a423a8",
   "metadata": {
    "deletable": false,
    "editable": true
   },
   "outputs": [
    {
     "name": "stdout",
     "output_type": "stream",
     "text": [
      "Make sure you saved the notebook before running this cell. Running check for lab-q6...\n",
      "Great job! You passed all test cases for this question.\n"
     ]
    },
    {
     "data": {
      "text/plain": [
       "True"
      ]
     },
     "execution_count": 21,
     "metadata": {},
     "output_type": "execute_result"
    }
   ],
   "source": [
    "student_grader.check(\"lab-q6\", should_get_llm_feedback=False)"
   ]
  },
  {
   "cell_type": "markdown",
   "id": "2ba9f7aa",
   "metadata": {
    "deletable": false,
    "editable": false
   },
   "source": [
    "Now, we will **plot** `orbital_periods` and `semi_major_radii` as **scatter plot** with the **x-axis** labelled *Orbital Period*, and the **y-axis** labelled *Semi Major Radius*."
   ]
  },
  {
   "cell_type": "code",
   "execution_count": 22,
   "id": "8970ad42",
   "metadata": {
    "deletable": false
   },
   "outputs": [
    {
     "data": {
      "image/png": "[encoded data removed]",
      "text/plain": [
       "<Figure size 640x480 with 1 Axes>"
      ]
     },
     "metadata": {},
     "output_type": "display_data"
    }
   ],
   "source": [
    "# we have done this for you\n",
    "\n",
    "plot_scatter(orbital_periods, semi_major_radii, 'Orbital Period','Semi Major Radius')"
   ]
  },
  {
   "cell_type": "markdown",
   "id": "74c36a3c",
   "metadata": {
    "deletable": false,
    "editable": false
   },
   "source": [
    "Note that almost all the points in the plot are clustered near the **y axis**. This is because there are a few outliers with **extremely high** `orbital_period`. To get a better idea of what the data looks like, it would be useful to create a **scatter plot** without the **outliers**."
   ]
  },
  {
   "cell_type": "markdown",
   "id": "d7d8bd22-b682-45cc-a639-380340428b80",
   "metadata": {
    "deletable": false,
    "editable": false
   },
   "source": [
    "#### Lab Question 7: Create the same **scatter plot** as above, but **exclude** planets with `orbital_period` **more than** *1000*."
   ]
  },
  {
   "cell_type": "markdown",
   "id": "8491507c",
   "metadata": {
    "deletable": false,
    "editable": false
   },
   "source": [
    "You **must** ignore any `Planet` objects for which **either** the `orbital_period` or the `semi_major_radius` data is **missing**. You **must** also ignore any `Planet` object with `orbital_period` **greater than** *1000*."
   ]
  },
  {
   "cell_type": "markdown",
   "id": "648bb11f-468d-4927-97c1-f978bcd8d2a3",
   "metadata": {
    "deletable": false,
    "editable": false
   },
   "source": [
    "Points possible: 4.0"
   ]
  },
  {
   "cell_type": "code",
   "execution_count": 23,
   "id": "7bc93ba8",
   "metadata": {
    "deletable": false,
    "editable": true,
    "tags": [
     "lab-q7-code"
    ]
   },
   "outputs": [],
   "source": [
    "# first compute and store the lists 'orbital_periods_no_outliers' and 'semi_major_radii_no_outliers', \n",
    "# but do NOT display them\n",
    "# do NOT create the plot just yet\n",
    "\n",
    "orbital_periods_no_outliers = []\n",
    "semi_major_radii_no_outliers = []\n",
    "\n",
    "for planet in small_planets_list:\n",
    "    orbital_period = planet.orbital_period\n",
    "    semi_major_radius = planet.semi_major_radius\n",
    "    if orbital_period == None or semi_major_radius == None:\n",
    "        continue\n",
    "    if orbital_period > 1000:\n",
    "        continue\n",
    "        \n",
    "    orbital_periods_no_outliers.append(orbital_period)\n",
    "    semi_major_radii_no_outliers.append(semi_major_radius)"
   ]
  },
  {
   "cell_type": "code",
   "execution_count": 24,
   "id": "2292bae4",
   "metadata": {
    "deletable": false,
    "editable": true
   },
   "outputs": [
    {
     "name": "stdout",
     "output_type": "stream",
     "text": [
      "Make sure you saved the notebook before running this cell. Running check for lab-q7...\n",
      "Great job! You passed all test cases for this question.\n"
     ]
    },
    {
     "data": {
      "text/plain": [
       "True"
      ]
     },
     "execution_count": 24,
     "metadata": {},
     "output_type": "execute_result"
    }
   ],
   "source": [
    "student_grader.check(\"lab-q7\", should_get_llm_feedback=False)"
   ]
  },
  {
   "cell_type": "markdown",
   "id": "21c00a49",
   "metadata": {
    "deletable": false,
    "editable": false
   },
   "source": [
    "Now, **plot** `orbital_periods_no_outliers` and `semi_major_radii_no_outliers` as **scatter plot** with the **x-axis** labelled *Orbital Period*, and the **y-axis** labelled *Semi Major Radius*. Your plot should look like this:"
   ]
  },
  {
   "cell_type": "markdown",
   "id": "5be65b1b",
   "metadata": {
    "deletable": false,
    "editable": false
   },
   "source": [
    "<div><img src=\"images/lab-q8.jpg\" style=\"height: 300px;\"/></div>"
   ]
  },
  {
   "cell_type": "code",
   "execution_count": 25,
   "id": "fcb720d3",
   "metadata": {
    "deletable": false
   },
   "outputs": [
    {
     "data": {
      "image/png": "[encoded data removed]",
      "text/plain": [
       "<Figure size 640x480 with 1 Axes>"
      ]
     },
     "metadata": {},
     "output_type": "display_data"
    }
   ],
   "source": [
    "# plot 'orbital_periods_no_outliers' and 'semi_major_radii_no_outliers'\n",
    "\n",
    "plot_scatter(orbital_periods_no_outliers, semi_major_radii_no_outliers,y_label='semi_major_radii_no_outliers',x_label = 'orbital_periods_no_outliers')\n"
   ]
  },
  {
   "cell_type": "markdown",
   "id": "d1bf9c03-ab65-44e2-973d-df85ae3f3337",
   "metadata": {
    "deletable": false,
    "editable": false
   },
   "source": [
    "#### Lab Question 8: Create a **scatter plot** representing the `planet_mass` (on the **x-axis**) against the `planet_radius` (on the **y-axis**) of each `Planet` object in `small_planets_list` whose `discovery_method` is *Transit*."
   ]
  },
  {
   "cell_type": "markdown",
   "id": "3bcc7781",
   "metadata": {
    "deletable": false,
    "editable": false
   },
   "source": [
    "You **must** ignore any `Planet` objects for which **either** the `planet_mass`, `planet_radius` or `discovery_method` data is **missing**. You **must** also ignore any `Planet` objects whose `discovery_method` is **not** *Transit*."
   ]
  },
  {
   "cell_type": "markdown",
   "id": "23e768bd-e288-4b94-9259-19752724966a",
   "metadata": {
    "deletable": false,
    "editable": false
   },
   "source": [
    "Points possible: 4.0"
   ]
  },
  {
   "cell_type": "code",
   "execution_count": 26,
   "id": "3ffe471e",
   "metadata": {
    "deletable": false,
    "editable": true,
    "tags": [
     "lab-q8-code"
    ]
   },
   "outputs": [],
   "source": [
    "# first compute and store the lists 'transit_planet_masses', and 'transit_planet_radii'\n",
    "# do NOT create the plot just yet\n",
    "\n",
    "transit_planet_masses = []\n",
    "transit_planet_radii = []\n",
    "\n",
    "for planet in small_planets_list:\n",
    "    planet_mass = planet.planet_mass\n",
    "    planet_radius = planet.planet_radius\n",
    "    if planet.discovery_method=='Transit':\n",
    "        if planet_mass!=None and planet_radius!=None:\n",
    "            transit_planet_masses.append(planet_mass)\n",
    "            transit_planet_radii.append(planet_radius)\n"
   ]
  },
  {
   "cell_type": "code",
   "execution_count": 27,
   "id": "6e03e3a3",
   "metadata": {
    "deletable": false,
    "editable": true
   },
   "outputs": [
    {
     "name": "stdout",
     "output_type": "stream",
     "text": [
      "Make sure you saved the notebook before running this cell. Running check for lab-q8...\n",
      "Great job! You passed all test cases for this question.\n"
     ]
    },
    {
     "data": {
      "text/plain": [
       "True"
      ]
     },
     "execution_count": 27,
     "metadata": {},
     "output_type": "execute_result"
    }
   ],
   "source": [
    "student_grader.check(\"lab-q8\", should_get_llm_feedback=False)"
   ]
  },
  {
   "cell_type": "markdown",
   "id": "7780b50d",
   "metadata": {
    "deletable": false,
    "editable": false
   },
   "source": [
    "Now, **plot** `transit_planet_masses` and `transit_planet_radii` as **scatter plot** with the **x-axis** labelled *Planet Mass*, and the **y-axis** labelled *Planet Radius*. Your plot should look like this:"
   ]
  },
  {
   "cell_type": "markdown",
   "id": "be240e35",
   "metadata": {
    "deletable": false,
    "editable": false
   },
   "source": [
    "<div><img src=\"images/lab-q9.jpg\" style=\"height: 300px;\"/></div>"
   ]
  },
  {
   "cell_type": "code",
   "execution_count": 28,
   "id": "36bf1d4c",
   "metadata": {
    "deletable": false
   },
   "outputs": [
    {
     "data": {
      "image/png": "[encoded data removed]",
      "text/plain": [
       "<Figure size 640x480 with 1 Axes>"
      ]
     },
     "metadata": {},
     "output_type": "display_data"
    }
   ],
   "source": [
    "# plot 'transit_planet_masses' and 'transit_planet_radii'\n",
    "\n",
    "plot_scatter(transit_planet_masses, transit_planet_radii, x_label = 'Planet Mass', y_label = 'Planet Radius')\n"
   ]
  },
  {
   "cell_type": "markdown",
   "id": "fa82a073-f973-4c98-9dcb-1bf1358ad584",
   "metadata": {
    "deletable": false,
    "editable": false
   },
   "source": [
    "#### Lab Question 9: Create the same **scatter plot** as above, but **exclude** planets with `planet_mass` **more than** *250*."
   ]
  },
  {
   "cell_type": "markdown",
   "id": "77d5cdc5",
   "metadata": {
    "deletable": false,
    "editable": false
   },
   "source": [
    "You **must** ignore any `Planet` objects for which **either** the `planet_mass`, `planet_radius` or `discovery_method` data is **missing**. You **must** also ignore any `Planet` objects whose `discovery_method` is **not** *Transit* or have a `planet_mass` greater than *250*."
   ]
  },
  {
   "cell_type": "markdown",
   "id": "eebd8e57-a28f-47aa-806e-6791858306da",
   "metadata": {
    "deletable": false,
    "editable": false
   },
   "source": [
    "Points possible: 4.0"
   ]
  },
  {
   "cell_type": "code",
   "execution_count": 29,
   "id": "b535ec08",
   "metadata": {
    "deletable": false,
    "editable": true,
    "tags": [
     "lab-q9-code"
    ]
   },
   "outputs": [],
   "source": [
    "# first compute and store the lists 'transit_planet_masses_no_outliers', and 'transit_planet_radii_no_outliers'\n",
    "# do NOT create the plot just yet\n",
    "\n",
    "transit_planet_masses_no_outliers = []\n",
    "transit_planet_radii_no_outliers = []\n",
    "\n",
    "\n",
    "for planet in small_planets_list:\n",
    "    planet_mass = planet.planet_mass\n",
    "    planet_radius = planet.planet_radius\n",
    "    if planet.discovery_method=='Transit':\n",
    "        if planet_mass!=None and planet_radius!=None and planet_mass <= 250:\n",
    "            transit_planet_masses_no_outliers.append(planet_mass)\n",
    "            transit_planet_radii_no_outliers.append(planet_radius)\n"
   ]
  },
  {
   "cell_type": "code",
   "execution_count": 30,
   "id": "253ea0f2-3df1-4860-acca-c73b7a2ef299",
   "metadata": {
    "deletable": false,
    "editable": true
   },
   "outputs": [
    {
     "name": "stdout",
     "output_type": "stream",
     "text": [
      "Make sure you saved the notebook before running this cell. Running check for lab-q9...\n",
      "Great job! You passed all test cases for this question.\n"
     ]
    },
    {
     "data": {
      "text/plain": [
       "True"
      ]
     },
     "execution_count": 30,
     "metadata": {},
     "output_type": "execute_result"
    }
   ],
   "source": [
    "student_grader.check(\"lab-q9\", should_get_llm_feedback=False)"
   ]
  },
  {
   "cell_type": "markdown",
   "id": "16d62fce",
   "metadata": {
    "deletable": false,
    "editable": false
   },
   "source": [
    "Now, **plot** `transit_planet_masses_no_outliers` and `transit_planet_radii_no_outliers` as **scatter plot** with the **x-axis** labelled *Planet Mass*, and the **y-axis** labelled *Planet Radius*. Your plot should look like this:"
   ]
  },
  {
   "cell_type": "markdown",
   "id": "891f45b4",
   "metadata": {
    "deletable": false,
    "editable": false
   },
   "source": [
    "<div><img src=\"images/lab-q10.jpg\" style=\"height: 300px;\"/></div>"
   ]
  },
  {
   "cell_type": "code",
   "execution_count": 31,
   "id": "903474ca",
   "metadata": {
    "deletable": false
   },
   "outputs": [
    {
     "data": {
      "image/png": "[encoded data removed]",
      "text/plain": [
       "<Figure size 640x480 with 1 Axes>"
      ]
     },
     "metadata": {},
     "output_type": "display_data"
    }
   ],
   "source": [
    "# plot 'transit_planet_masses_no_outliers' and 'transit_planet_radii_no_outliers'\n",
    "\n",
    "plot_scatter(transit_planet_masses_no_outliers, transit_planet_radii_no_outliers, x_label = 'transit_planet_masses_no_outliers', y_label = 'transit_planet_radii_no_outliers')"
   ]
  },
  {
   "cell_type": "markdown",
   "id": "f5aef22d-bb22-4cc4-bfb9-8330a7c31265",
   "metadata": {
    "deletable": false,
    "editable": false
   },
   "source": [
    "### Task 1.3: Changing the color and the size of points with `plot_scatter`"
   ]
  },
  {
   "cell_type": "markdown",
   "id": "d9041fb2",
   "metadata": {
    "deletable": false,
    "editable": false
   },
   "source": [
    "So far, we have not used two of the **optional arguments** of the `plot_scatter` function: `c` and `s`. The parameter `c` can be used to change the **color** to the points on the **scatter plot**, while `s` can be used to change the **sizes** of the points on the **scatter plot**. These arguments can help in visualizing the data better, as in the examples below."
   ]
  },
  {
   "cell_type": "code",
   "execution_count": 32,
   "id": "c5efee52",
   "metadata": {
    "deletable": false
   },
   "outputs": [
    {
     "data": {
      "image/png": "[encoded data removed]",
      "text/plain": [
       "<Figure size 640x480 with 1 Axes>"
      ]
     },
     "metadata": {},
     "output_type": "display_data"
    }
   ],
   "source": [
    "# run this cell\n",
    "\n",
    "x = [10, 20, 30, 40]\n",
    "y = [10, 20, 30, 40]\n",
    "c = [10, 20, 30, 40]\n",
    "\n",
    "plot_scatter(x, y, c=c)"
   ]
  },
  {
   "cell_type": "markdown",
   "id": "3a3bd03e",
   "metadata": {
    "deletable": false,
    "editable": false
   },
   "source": [
    "#### Understanding the `c` argument:\n",
    "\n",
    "In the example above, the argument passed to the `c` parameter was a **list** of numbers. The `plot_scatter` function used the values in this **list** to color each point in the plot. For example, the element at index *0* of `x` is *10*, the element at index *0* of `y` is *10*, and the element at index *0* of `c` is *10*. Therefore, the point at the position *(10, 10)* is colored using the number *10*. Similarly, the point at position *(20, 20)* is colored using the number *20*.\n",
    "\n",
    "A **high** color value means that the color will be **lighter** while a **low** color value means that the color will be **darker**."
   ]
  },
  {
   "cell_type": "markdown",
   "id": "dafb40d4",
   "metadata": {
    "deletable": false,
    "editable": false
   },
   "source": [
    "#### Understanding the `s` argument:\n",
    "\n",
    "In comparison to the `c` argument, the `s` argument is relatively simpler to understand. Run the cell below, and try to figure out what happened."
   ]
  },
  {
   "cell_type": "code",
   "execution_count": 33,
   "id": "d96127b8",
   "metadata": {
    "deletable": false
   },
   "outputs": [
    {
     "data": {
      "image/png": "[encoded data removed]",
      "text/plain": [
       "<Figure size 640x480 with 1 Axes>"
      ]
     },
     "metadata": {},
     "output_type": "display_data"
    }
   ],
   "source": [
    "# run this cell\n",
    "\n",
    "x = [10, 20, 30, 40]\n",
    "y = [10, 20, 30, 40]\n",
    "s = [10, 20, 30, 40]\n",
    "\n",
    "plot_scatter(x, y, s=s)"
   ]
  },
  {
   "cell_type": "markdown",
   "id": "5253a99c-f82f-4139-bee7-74e6b1e89114",
   "metadata": {
    "deletable": false,
    "editable": false
   },
   "source": [
    "#### Lab Question 10: Create a **scatter plot** representing the `planet_mass` (on the **x-axis**) against the `planet_radius` (on the **y-axis**) of each `Planet` object in `small_planets_list` whose `discovery_method` is *Radial Velocity*. Additionally, **color** the points on the **scatter plot** depending on the `discovery_year`."
   ]
  },
  {
   "cell_type": "markdown",
   "id": "3b6b7e19",
   "metadata": {
    "deletable": false,
    "editable": false
   },
   "source": [
    "You **must** ignore all `Planet` objects with **missing** `planet_mass`, `planet_radius`, or `discovery_year` data."
   ]
  },
  {
   "cell_type": "markdown",
   "id": "0dae5931-c293-45d0-b253-a31eb4f2f55a",
   "metadata": {
    "deletable": false,
    "editable": false
   },
   "source": [
    "Points possible: 4.0"
   ]
  },
  {
   "cell_type": "code",
   "execution_count": 34,
   "id": "c9833e12",
   "metadata": {
    "deletable": false,
    "editable": true,
    "tags": [
     "lab-q10-code"
    ]
   },
   "outputs": [],
   "source": [
    "# we have computed the lists 'orbital_period' and 'semi_major_radii' for you\n",
    "\n",
    "rad_vel_planet_masses = []\n",
    "rad_vel_planet_radii = []\n",
    "rad_vel_discovery_years = []\n",
    "for planet in small_planets_list:\n",
    "    mass = planet.planet_mass\n",
    "    radius = planet.planet_radius\n",
    "    year = planet.discovery_year\n",
    "    if mass == None or radius == None or year == None:\n",
    "        continue\n",
    "    if planet.discovery_method == 'Radial Velocity':\n",
    "        rad_vel_planet_masses.append(mass)\n",
    "        rad_vel_planet_radii.append(radius)\n",
    "        rad_vel_discovery_years.append(year)"
   ]
  },
  {
   "cell_type": "code",
   "execution_count": 35,
   "id": "ff9ec336",
   "metadata": {
    "deletable": false,
    "editable": true
   },
   "outputs": [
    {
     "name": "stdout",
     "output_type": "stream",
     "text": [
      "Make sure you saved the notebook before running this cell. Running check for lab-q10...\n",
      "Great job! You passed all test cases for this question.\n"
     ]
    },
    {
     "data": {
      "text/plain": [
       "True"
      ]
     },
     "execution_count": 35,
     "metadata": {},
     "output_type": "execute_result"
    }
   ],
   "source": [
    "student_grader.check(\"lab-q10\", should_get_llm_feedback=False)"
   ]
  },
  {
   "cell_type": "markdown",
   "id": "a3e8f337",
   "metadata": {
    "deletable": false,
    "editable": false
   },
   "source": [
    "Now, we will **plot** `rad_vel_planet_masses` and `rad_vel_planet_radii` as **scatter plot** with the **x-axis** labelled *Planet Mass*, and the **y-axis** labelled *Planet Radius*, and **colored** using `rad_vel_discovery_years`."
   ]
  },
  {
   "cell_type": "code",
   "execution_count": 36,
   "id": "8e27b128",
   "metadata": {
    "deletable": false
   },
   "outputs": [
    {
     "data": {
      "image/png": "[encoded data removed]",
      "text/plain": [
       "<Figure size 640x480 with 1 Axes>"
      ]
     },
     "metadata": {},
     "output_type": "display_data"
    }
   ],
   "source": [
    "# we have done this for you\n",
    "\n",
    "plot_scatter(rad_vel_planet_masses, rad_vel_planet_radii, 'Planet Mass','Planet Radius', c=rad_vel_discovery_years)"
   ]
  },
  {
   "cell_type": "markdown",
   "id": "134c0125",
   "metadata": {
    "deletable": false,
    "editable": false
   },
   "source": [
    "**Food for thought:** What do you think this plot signifies? Recall that a **lighter** color implies a **larger** value in the list `rad_vel_discovery_years`. Where are the lighter colors present in this plot? Can you guess why the colors are spread out the way they are?"
   ]
  },
  {
   "cell_type": "code",
   "execution_count": 37,
   "id": "55ea148c-f4fc-42c6-9b42-bbeb6e70a6d4",
   "metadata": {
    "deletable": false
   },
   "outputs": [],
   "source": [
    "# Food for thought is an entirely OPTIONAL exercise\n",
    "# you may leave your thoughts here as a comment if you wish to\n",
    "# The lighter colors represent the planets discovered earlier."
   ]
  },
  {
   "cell_type": "markdown",
   "id": "0ba6789c-02c8-4df3-8c04-5b6471ac5c86",
   "metadata": {
    "deletable": false,
    "editable": false
   },
   "source": [
    "#### Lab Question 11: Excluding planets with `orbital_period` **more than** *1000*, create a **scatter plot** representing the `orbital_period` (on the **x-axis**) against the `semi_major_radius` (on the **y-axis**) of each `Planet` object in `small_planets_list`. Additionally, **color** the points on the **scatter plot** depending on the `discovery_year`."
   ]
  },
  {
   "cell_type": "markdown",
   "id": "0d7c2abd",
   "metadata": {
    "deletable": false,
    "editable": false
   },
   "source": [
    "You **must** ignore any `Planet` objects for which **either** the `orbital_period`, `semi_major_radius` or `discovery_year` data is **missing**. You **must** also ignore any `Planet` objects whose `orbital_period` is greater than *1000*. You **must** use the `discovery_year` to **color** the points in the **scatter plot**."
   ]
  },
  {
   "cell_type": "markdown",
   "id": "d3c46514-a06c-440b-b2f5-d732ebffdf0f",
   "metadata": {
    "deletable": false,
    "editable": false
   },
   "source": [
    "Points possible: 4.0"
   ]
  },
  {
   "cell_type": "code",
   "execution_count": 38,
   "id": "4d948b1c",
   "metadata": {
    "deletable": false,
    "editable": true,
    "tags": [
     "lab-q11-code"
    ]
   },
   "outputs": [],
   "source": [
    "# first compute and store the lists 'orbital_periods', 'semi_major_radii', and 'discovery_years'\n",
    "# do NOT create the plot just yet\n",
    "\n",
    "orbital_periods = []\n",
    "semi_major_radii = []\n",
    "discovery_years = []\n",
    "\n",
    "for planet in small_planets_list:\n",
    "    orbital_period = planet.orbital_period\n",
    "    semi_major_radius = planet.semi_major_radius\n",
    "    discovery_year = planet.discovery_year\n",
    "    if orbital_period == None or semi_major_radius==None or discovery_year==None:\n",
    "        continue\n",
    "    if orbital_period > 1000:\n",
    "        continue\n",
    "\n",
    "    orbital_periods.append(orbital_period)\n",
    "    semi_major_radii.append(semi_major_radius)\n",
    "    discovery_years.append(discovery_year)\n"
   ]
  },
  {
   "cell_type": "code",
   "execution_count": 39,
   "id": "673363b9",
   "metadata": {
    "deletable": false,
    "editable": true
   },
   "outputs": [
    {
     "name": "stdout",
     "output_type": "stream",
     "text": [
      "Make sure you saved the notebook before running this cell. Running check for lab-q11...\n",
      "Great job! You passed all test cases for this question.\n"
     ]
    },
    {
     "data": {
      "text/plain": [
       "True"
      ]
     },
     "execution_count": 39,
     "metadata": {},
     "output_type": "execute_result"
    }
   ],
   "source": [
    "student_grader.check(\"lab-q11\", should_get_llm_feedback=False)"
   ]
  },
  {
   "cell_type": "markdown",
   "id": "cf152303",
   "metadata": {
    "deletable": false,
    "editable": false
   },
   "source": [
    "Now, **plot** `orbital_periods` and `semi_major_radii` as **scatter plot** with the **x-axis** labelled *Orbital Period*, and the **y-axis** labelled *Semi Major Radius*, and **colored** using `discovery_years`. Your plot should look like this:"
   ]
  },
  {
   "cell_type": "markdown",
   "id": "93b8b599",
   "metadata": {
    "deletable": false,
    "editable": false
   },
   "source": [
    "<div><img src=\"images/lab-q12.jpg\" style=\"height: 300px;\"/></div>"
   ]
  },
  {
   "cell_type": "code",
   "execution_count": 40,
   "id": "876fadba",
   "metadata": {
    "deletable": false
   },
   "outputs": [
    {
     "data": {
      "image/png": "[encoded data removed]",
      "text/plain": [
       "<Figure size 640x480 with 1 Axes>"
      ]
     },
     "metadata": {},
     "output_type": "display_data"
    }
   ],
   "source": [
    "# plot 'orbital_periods' and 'semi_major_radii' with 'discovery_years' as colors\n",
    "\n",
    "plot_scatter(orbital_periods, semi_major_radii, 'Orbital Period','Semi Major Radius', c=discovery_years)\n",
    "    \n"
   ]
  },
  {
   "cell_type": "markdown",
   "id": "f0704dfb-401a-4924-bf7a-867bee2f6885",
   "metadata": {
    "deletable": false,
    "editable": false
   },
   "source": [
    "#### Lab Question 12: Create the same plot as above, but additionally change the **size** of the points depending on the `planet_mass`."
   ]
  },
  {
   "cell_type": "markdown",
   "id": "42a91b8a",
   "metadata": {
    "deletable": false,
    "editable": false
   },
   "source": [
    "You **must** ignore any `Planet` objects for which **either** the `orbital_period`, `semi_major_radius`, `discovery_year` or `planet_mass` data is **missing**. You **must** also ignore any `Planet` objects whose `orbital_period` is greater than *1000*. You **must** use the `discovery_year` to **color** the points in the **scatter plot** and you **must** use the `planet_mass` to change the **size** of the points."
   ]
  },
  {
   "cell_type": "markdown",
   "id": "a7debf53-453d-45e7-b5f9-34b4c9ad75da",
   "metadata": {
    "deletable": false,
    "editable": false
   },
   "source": [
    "Points possible: 4.0"
   ]
  },
  {
   "cell_type": "code",
   "execution_count": 41,
   "id": "60f7b2aa",
   "metadata": {
    "deletable": false,
    "editable": true,
    "tags": [
     "lab-q12-code"
    ]
   },
   "outputs": [],
   "source": [
    "# first compute and store the lists 'orbital_periods', 'semi_major_radii', 'discovery_years', and 'planet_masses'\n",
    "# do NOT create the plot just yet\n",
    "\n",
    "orbital_periods = []\n",
    "semi_major_radii = []\n",
    "discovery_years = []\n",
    "planet_masses = []\n",
    "\n",
    "for planet in small_planets_list:\n",
    "    \n",
    "    orbital_period = planet.orbital_period\n",
    "    semi_major_radius = planet.semi_major_radius\n",
    "    discovery_year = planet.discovery_year\n",
    "    planet_mass = planet.planet_mass\n",
    "    \n",
    "    if orbital_period == None or semi_major_radius== None or discovery_year==None or planet_mass == None:\n",
    "        continue\n",
    "    if orbital_period > 1000:\n",
    "        continue\n",
    "\n",
    "    orbital_periods.append(orbital_period)\n",
    "    semi_major_radii.append(semi_major_radius)\n",
    "    discovery_years.append(discovery_year)\n",
    "    planet_masses.append(planet_mass)\n"
   ]
  },
  {
   "cell_type": "code",
   "execution_count": 42,
   "id": "27cb60a2",
   "metadata": {
    "deletable": false,
    "editable": true
   },
   "outputs": [
    {
     "name": "stdout",
     "output_type": "stream",
     "text": [
      "Make sure you saved the notebook before running this cell. Running check for lab-q12...\n",
      "Great job! You passed all test cases for this question.\n"
     ]
    },
    {
     "data": {
      "text/plain": [
       "True"
      ]
     },
     "execution_count": 42,
     "metadata": {},
     "output_type": "execute_result"
    }
   ],
   "source": [
    "student_grader.check(\"lab-q12\", should_get_llm_feedback=False)"
   ]
  },
  {
   "cell_type": "markdown",
   "id": "09043827",
   "metadata": {
    "deletable": false,
    "editable": false
   },
   "source": [
    "Now, **plot** `orbital_periods` and `semi_major_radii` as **scatter plot** with the **x-axis** labelled *Orbital Period*, and the **y-axis** labelled *Semi Major Radius*, **colored** using `discovery_years`, and **sized** using `planet_masses`. Your plot should look like this:"
   ]
  },
  {
   "cell_type": "markdown",
   "id": "99baca2a",
   "metadata": {
    "deletable": false,
    "editable": false
   },
   "source": [
    "<div><img src=\"images/lab-q13.jpg\" style=\"height: 300px;\"/></div>"
   ]
  },
  {
   "cell_type": "code",
   "execution_count": 43,
   "id": "9ebf14f0",
   "metadata": {
    "deletable": false
   },
   "outputs": [
    {
     "data": {
      "image/png": "[encoded data removed]",
      "text/plain": [
       "<Figure size 640x480 with 1 Axes>"
      ]
     },
     "metadata": {},
     "output_type": "display_data"
    }
   ],
   "source": [
    "# plot 'orbital_periods' and 'semi_major_radii' with 'discovery_years' as colors and 'planet_masses' as sizes\n",
    "\n",
    "plot_scatter(orbital_periods, semi_major_radii, 'Orbital Period','Semi Major Radius', c=discovery_years,s = planet_masses)\n"
   ]
  },
  {
   "cell_type": "markdown",
   "id": "2145b250",
   "metadata": {
    "deletable": false,
    "editable": false
   },
   "source": [
    "### Task 1.4: Plotting multiple scatter plots with `plot_scatter_multiple`"
   ]
  },
  {
   "cell_type": "markdown",
   "id": "ada3a9e9-314d-4aa9-9734-ce2005fa0274",
   "metadata": {
    "deletable": false,
    "editable": false
   },
   "source": [
    "### Lab Function 2: `plot_scatter_multiple(x_data_dict, y_data_dict, x_label, y_label)`"
   ]
  },
  {
   "cell_type": "markdown",
   "id": "79ab9547",
   "metadata": {
    "deletable": false,
    "editable": false
   },
   "source": [
    "So far, we have used `plot_scatter` to create **scatter plots** using two **lists**, and we have seen how to use the `c` argument to color the **scatter plots** based on another **list** containing *numeric* data. It would be good if we could also **color** the points using *non-numeric* data. For example, we might want to create a **scatter plot** of the `planet_mass` against the `planet_radius`, and **color** the points differently depending on the `discovery_method`. However, since the `discovery_method` is **non-numeric**, the `plot_scatter` function will not be of help (you can try!)\n",
    "\n",
    "You have been provided with another function `plot_scatter_multiple` which can create **multiple** scatter plots on the same plot."
   ]
  },
  {
   "cell_type": "code",
   "execution_count": 44,
   "id": "5afbd70a",
   "metadata": {
    "deletable": false
   },
   "outputs": [],
   "source": [
    "def plot_scatter_multiple(x_data_dict, y_data_dict, x_label='x axis', y_label='y axis'):\n",
    "    legend_values = list(x_data_dict.keys())\n",
    "    for key in x_data_dict:\n",
    "        plt.scatter(x_data_dict[key], y_data_dict[key], s=7)\n",
    "    plt.xlabel(x_label)\n",
    "    plt.ylabel(y_label)\n",
    "    plt.legend(legend_values)\n",
    "    plt.show()"
   ]
  },
  {
   "cell_type": "markdown",
   "id": "6a2273f8",
   "metadata": {
    "deletable": false,
    "editable": false
   },
   "source": [
    "Here is a quick example to see how this function works:"
   ]
  },
  {
   "cell_type": "code",
   "execution_count": 45,
   "id": "eee29241",
   "metadata": {
    "deletable": false
   },
   "outputs": [
    {
     "data": {
      "image/png": "[encoded data removed]",
      "text/plain": [
       "<Figure size 640x480 with 1 Axes>"
      ]
     },
     "metadata": {},
     "output_type": "display_data"
    }
   ],
   "source": [
    "# run this cell\n",
    "\n",
    "x_dict = {'A': [1, 2, 3, 4], 'B': [5, 6, 7, 8]}\n",
    "y_dict = {'A': [1, 2, 3, 4], 'B': [5, 6, 7, 8]}\n",
    "plot_scatter_multiple(x_dict, y_dict)"
   ]
  },
  {
   "cell_type": "markdown",
   "id": "5df64ca4",
   "metadata": {
    "deletable": false,
    "editable": false
   },
   "source": [
    "As you can see, in order to create the **scatter plot**, we had to create **two** dictionaries `x_dict` and `y_dict`. Both **dictionaries** contain the same **keys** (which correspond to the **different colors** on the plot). Corresponding to each **key**, the value in the **dictionary** `x_dict` contains the data in the **x axis** and the value in the **dictionary** `y_dict` contains the data in the **y axis**. For example, the element at index *0* of `x_dict['A']` is *1*, and the element at index *0* of `y_dict['A']` is *1*. Therefore, a point is added to the **scatter plot** at the position *(1, 1)* in the **color** corresponding to the **key** `A`. On the other hand, the element at index *0* of `x_dict['B']` is *5*, and the element at index *0* of `y_dict['B']` is *5*. Therefore, a point is added to the **scatter plot** at the position *(5, 5)* in the **color** corresponding to the **key** `B`."
   ]
  },
  {
   "cell_type": "markdown",
   "id": "7b7e5a8c-04ee-4098-986e-6c06e04c84c3",
   "metadata": {
    "deletable": false,
    "editable": false
   },
   "source": [
    "#### Lab Question 13: Excluding planets with `planet_mass` **more than** *250*, create a **scatter plot** representing the `planet_mass` (on the **x-axis**) against the `planet_radius` (on the **y-axis**) of each `Planet` object of **each** `discovery_method`."
   ]
  },
  {
   "cell_type": "markdown",
   "id": "4553d72c",
   "metadata": {
    "deletable": false,
    "editable": false
   },
   "source": [
    "You **must** ignore any `Planet` objects for which **either** the `planet_mass`, `planet_radius` or `discovery_method` data is **missing**. You **must** also ignore any `Planet` objects whose `planet_mass` is more than *250*. You **must** color the points depending on the `discovery_method`."
   ]
  },
  {
   "cell_type": "markdown",
   "id": "d54f3c0c-f87e-4d6e-addf-1058bc503c0d",
   "metadata": {
    "deletable": false,
    "editable": false
   },
   "source": [
    "Points possible: 4.0"
   ]
  },
  {
   "cell_type": "code",
   "execution_count": 46,
   "id": "216f387f",
   "metadata": {
    "deletable": false,
    "editable": true,
    "tags": [
     "lab-q13-code"
    ]
   },
   "outputs": [
    {
     "data": {
      "text/plain": [
       "{'Radial Velocity': [146.2018,\n",
       "  228.83645,\n",
       "  187.5197,\n",
       "  3.95,\n",
       "  138.89171,\n",
       "  2.58,\n",
       "  10.62,\n",
       "  7.4,\n",
       "  10.2,\n",
       "  16.2,\n",
       "  4.0,\n",
       "  13.0,\n",
       "  8.2,\n",
       "  11.73969,\n",
       "  6.6,\n",
       "  10.6,\n",
       "  13.9,\n",
       "  8.4,\n",
       "  8.0,\n",
       "  1.71,\n",
       "  7.14,\n",
       "  11.07,\n",
       "  16.57,\n",
       "  22.1,\n",
       "  13.2,\n",
       "  2.82,\n",
       "  5.2,\n",
       "  5.36,\n",
       "  2.82,\n",
       "  104.244,\n",
       "  11.09,\n",
       "  9.0,\n",
       "  13.64,\n",
       "  2.96,\n",
       "  216.0,\n",
       "  66.74397,\n",
       "  19.66,\n",
       "  9.65,\n",
       "  13.02,\n",
       "  5.63,\n",
       "  6.624,\n",
       "  79.4575,\n",
       "  54.0311,\n",
       "  130.3103,\n",
       "  16.0,\n",
       "  113.9,\n",
       "  28.6047,\n",
       "  197.046,\n",
       "  116.0,\n",
       "  11.2,\n",
       "  50.8528,\n",
       "  203.41018,\n",
       "  82.95,\n",
       "  85.8141,\n",
       "  143.02278,\n",
       "  113.46531,\n",
       "  55.30242,\n",
       "  72.85079,\n",
       "  238.37131,\n",
       "  6.3566,\n",
       "  75.32571,\n",
       "  119.96298,\n",
       "  26.61699,\n",
       "  51.25631,\n",
       "  63.566,\n",
       "  13.63484,\n",
       "  20.42286,\n",
       "  28.55,\n",
       "  120.7754,\n",
       "  6.6,\n",
       "  238.37131,\n",
       "  235.18,\n",
       "  181.16219,\n",
       "  82.6358,\n",
       "  22.1,\n",
       "  140.79869,\n",
       "  16.14,\n",
       "  9.53485,\n",
       "  85.8141,\n",
       "  209.7678,\n",
       "  190.06234,\n",
       "  8.98,\n",
       "  15.1,\n",
       "  25.74423,\n",
       "  12.214,\n",
       "  127.132,\n",
       "  16.46,\n",
       "  177.9848,\n",
       "  42.86581,\n",
       "  73.1009,\n",
       "  123.42834,\n",
       "  34.2,\n",
       "  165.265,\n",
       "  232.0159,\n",
       "  153.1,\n",
       "  212.9461,\n",
       "  13.0,\n",
       "  162.0933,\n",
       "  9.51349,\n",
       "  65.9,\n",
       "  181.1631,\n",
       "  188.02679,\n",
       "  63.566,\n",
       "  247.90616,\n",
       "  63.566,\n",
       "  222.481,\n",
       "  5.57,\n",
       "  6.89,\n",
       "  11.8,\n",
       "  133.4886,\n",
       "  8.47,\n",
       "  98.81588,\n",
       "  8.4,\n",
       "  149.37,\n",
       "  197.0546,\n",
       "  222.481,\n",
       "  152.5584,\n",
       "  104.56607,\n",
       "  238.37131,\n",
       "  72.46524,\n",
       "  54.98431,\n",
       "  127.132,\n",
       "  8.5,\n",
       "  14.4,\n",
       "  15.8915,\n",
       "  184.33,\n",
       "  137.62039,\n",
       "  71.8,\n",
       "  31.783,\n",
       "  104.88,\n",
       "  79.4575,\n",
       "  168.4499,\n",
       "  17.8,\n",
       "  155.7367,\n",
       "  85.8141,\n",
       "  155.7367,\n",
       "  66.7443,\n",
       "  15.9,\n",
       "  203.41018,\n",
       "  66.6,\n",
       "  216.1244,\n",
       "  31.46517,\n",
       "  3.6,\n",
       "  17.98,\n",
       "  117.59,\n",
       "  42.44,\n",
       "  227.88411,\n",
       "  8.3,\n",
       "  139.8452,\n",
       "  22.2481,\n",
       "  12.9,\n",
       "  114.4188,\n",
       "  12.7,\n",
       "  14.4,\n",
       "  22.9,\n",
       "  162.09249,\n",
       "  18.8,\n",
       "  225.65817,\n",
       "  4.67,\n",
       "  13.3,\n",
       "  101.7056,\n",
       "  127.132,\n",
       "  146.2018,\n",
       "  171.6282,\n",
       "  1.07,\n",
       "  1.4,\n",
       "  4.0,\n",
       "  182.11568,\n",
       "  104.88337,\n",
       "  222.481,\n",
       "  196.411,\n",
       "  1.26,\n",
       "  209.76675,\n",
       "  162.09249,\n",
       "  8.5,\n",
       "  53.0,\n",
       "  12.7132,\n",
       "  104.0,\n",
       "  206.5895,\n",
       "  15.37,\n",
       "  2.5,\n",
       "  3.75,\n",
       "  1.08,\n",
       "  1.36,\n",
       "  2.64,\n",
       "  96.7,\n",
       "  68.06,\n",
       "  3.03,\n",
       "  36.0,\n",
       "  4.59248,\n",
       "  8.57613,\n",
       "  14.85045,\n",
       "  2.89,\n",
       "  1.18,\n",
       "  2.02,\n",
       "  2.31,\n",
       "  7.41,\n",
       "  146.20107,\n",
       "  63.56568,\n",
       "  5.71,\n",
       "  2.47,\n",
       "  6.26,\n",
       "  2.69,\n",
       "  7.6,\n",
       "  53.83,\n",
       "  4.4,\n",
       "  8.7,\n",
       "  17.2,\n",
       "  16.0,\n",
       "  223.11554,\n",
       "  4.2,\n",
       "  7.6,\n",
       "  25.14472,\n",
       "  66.741,\n",
       "  19.89606,\n",
       "  17.162,\n",
       "  24.154,\n",
       "  10.5,\n",
       "  114.41,\n",
       "  194.19413,\n",
       "  30.03873,\n",
       "  198.0,\n",
       "  25.0,\n",
       "  10.33369,\n",
       "  133.4886,\n",
       "  10.1,\n",
       "  29.29,\n",
       "  11.2,\n",
       "  9.96,\n",
       "  14.64775,\n",
       "  6.44,\n",
       "  5.59,\n",
       "  37.24604,\n",
       "  7.50192,\n",
       "  17.14419,\n",
       "  4.15,\n",
       "  31.4968,\n",
       "  244.09344,\n",
       "  249.05159,\n",
       "  5.74,\n",
       "  9.18,\n",
       "  47.6725,\n",
       "  10.50968,\n",
       "  166.218,\n",
       "  8.5,\n",
       "  7.0,\n",
       "  19.069,\n",
       "  16.9,\n",
       "  24.0,\n",
       "  11.66,\n",
       "  14.44,\n",
       "  177.9848,\n",
       "  232.0159,\n",
       "  19.95,\n",
       "  6.3566,\n",
       "  104.3,\n",
       "  10.26,\n",
       "  9.44,\n",
       "  8.23,\n",
       "  17.37,\n",
       "  7.35886,\n",
       "  18.94937,\n",
       "  63.88351,\n",
       "  38.02619,\n",
       "  206.34463,\n",
       "  176.03781,\n",
       "  12.19,\n",
       "  8.81,\n",
       "  60.16492,\n",
       "  174.4878,\n",
       "  22.2481,\n",
       "  111.42,\n",
       "  12.77,\n",
       "  14.31,\n",
       "  18.4,\n",
       "  11.1,\n",
       "  127.76702,\n",
       "  143.0235,\n",
       "  3.53853,\n",
       "  222.472,\n",
       "  13.6,\n",
       "  20.59095,\n",
       "  8.1,\n",
       "  48.4,\n",
       "  8.62,\n",
       "  12.44,\n",
       "  136.03124,\n",
       "  249.17872,\n",
       "  9.9,\n",
       "  11.3,\n",
       "  7.51,\n",
       "  126.4,\n",
       "  9.78,\n",
       "  26.7,\n",
       "  84.0,\n",
       "  11.8,\n",
       "  1.05,\n",
       "  1.11,\n",
       "  115.0,\n",
       "  124.58874,\n",
       "  82.6358,\n",
       "  25.0,\n",
       "  171.621,\n",
       "  5.1,\n",
       "  18.2,\n",
       "  22.9,\n",
       "  8.4,\n",
       "  17.142,\n",
       "  1.37,\n",
       "  1.74,\n",
       "  1.64,\n",
       "  10.6,\n",
       "  6.8,\n",
       "  29.4,\n",
       "  6.49,\n",
       "  6.4,\n",
       "  7.56,\n",
       "  1.78,\n",
       "  4.18,\n",
       "  10.5,\n",
       "  3.4,\n",
       "  6.1,\n",
       "  6.043,\n",
       "  32.422,\n",
       "  5.223,\n",
       "  15.8,\n",
       "  5.5,\n",
       "  1.7,\n",
       "  115.84733,\n",
       "  15.17685,\n",
       "  4.72,\n",
       "  11.24,\n",
       "  8.82,\n",
       "  81.62789,\n",
       "  20.05856,\n",
       "  17.30766,\n",
       "  6.3566,\n",
       "  203.0,\n",
       "  171.0,\n",
       "  98.52681,\n",
       "  95.34852,\n",
       "  143.02278,\n",
       "  17.20043,\n",
       "  196.85951,\n",
       "  51.48846,\n",
       "  10.47,\n",
       "  14.16,\n",
       "  11.82,\n",
       "  63.56568,\n",
       "  214.53525,\n",
       "  207.22516,\n",
       "  221.20968,\n",
       "  4.0,\n",
       "  6.3,\n",
       "  4.0,\n",
       "  10.2,\n",
       "  11.8,\n",
       "  18.1,\n",
       "  6.3566,\n",
       "  7.86,\n",
       "  6.44,\n",
       "  4.2,\n",
       "  7.1,\n",
       "  8.7,\n",
       "  8.9,\n",
       "  3.5,\n",
       "  12.7,\n",
       "  187.5197,\n",
       "  6.3566,\n",
       "  130.0,\n",
       "  167.4,\n",
       "  22.5,\n",
       "  71.9,\n",
       "  2.83,\n",
       "  1.91,\n",
       "  3.41,\n",
       "  7.7,\n",
       "  0.7,\n",
       "  1.14,\n",
       "  1.09,\n",
       "  13.38,\n",
       "  218.531,\n",
       "  54.4738,\n",
       "  7.99,\n",
       "  44.812,\n",
       "  24.27,\n",
       "  9.6,\n",
       "  3.35,\n",
       "  4.13,\n",
       "  23.54,\n",
       "  21.09,\n",
       "  7.6,\n",
       "  3.28,\n",
       "  5.6,\n",
       "  3.8,\n",
       "  2.7,\n",
       "  2.7,\n",
       "  4.6,\n",
       "  3.79832,\n",
       "  6.69167,\n",
       "  226.9846,\n",
       "  6.83,\n",
       "  14.6,\n",
       "  13.1,\n",
       "  11.75,\n",
       "  25.1,\n",
       "  23.9,\n",
       "  21.4,\n",
       "  64.4,\n",
       "  143.34133,\n",
       "  209.7678,\n",
       "  2.22,\n",
       "  5.6,\n",
       "  5.41,\n",
       "  6.08,\n",
       "  6.14,\n",
       "  10.17,\n",
       "  116.0,\n",
       "  13.0,\n",
       "  4.0,\n",
       "  10.52012,\n",
       "  112.2,\n",
       "  1.93,\n",
       "  5.33,\n",
       "  10.61,\n",
       "  14.03,\n",
       "  2.7,\n",
       "  2.4,\n",
       "  4.8,\n",
       "  4.77,\n",
       "  1.819,\n",
       "  1.72,\n",
       "  2.801,\n",
       "  2.877,\n",
       "  4.74,\n",
       "  4.36,\n",
       "  16.17,\n",
       "  7.3,\n",
       "  10.80622,\n",
       "  108.0622,\n",
       "  5.03,\n",
       "  9.74,\n",
       "  53.5,\n",
       "  30.7,\n",
       "  16.8,\n",
       "  37.9,\n",
       "  120.6,\n",
       "  4.0,\n",
       "  6.6,\n",
       "  9.5,\n",
       "  5.2,\n",
       "  7.1,\n",
       "  19.96,\n",
       "  3.06,\n",
       "  5.03,\n",
       "  33.12,\n",
       "  15.05,\n",
       "  3.93,\n",
       "  3.93,\n",
       "  1.75,\n",
       "  1.83],\n",
       " 'Transit': [22.2481,\n",
       "  170.032,\n",
       "  12.2,\n",
       "  85.81,\n",
       "  165.26,\n",
       "  153.82972,\n",
       "  216.12332,\n",
       "  228.83,\n",
       "  148.42,\n",
       "  69.92,\n",
       "  47.6745,\n",
       "  1.15,\n",
       "  4.16,\n",
       "  2.86,\n",
       "  0.26,\n",
       "  2.24,\n",
       "  0.688,\n",
       "  1.12,\n",
       "  1.01,\n",
       "  0.972,\n",
       "  4.35,\n",
       "  27.0,\n",
       "  5.35,\n",
       "  3.19,\n",
       "  0.937,\n",
       "  1.37,\n",
       "  11.7,\n",
       "  8.17,\n",
       "  1.32,\n",
       "  3.34,\n",
       "  0.546,\n",
       "  166.86075,\n",
       "  67.059,\n",
       "  62.61,\n",
       "  92.802,\n",
       "  238.3725,\n",
       "  180.84527,\n",
       "  22.2481,\n",
       "  197.05,\n",
       "  198.953,\n",
       "  206.5895,\n",
       "  216.1244,\n",
       "  84.857,\n",
       "  190.372,\n",
       "  213.255,\n",
       "  152.5584,\n",
       "  210.395,\n",
       "  156.684,\n",
       "  98.20947,\n",
       "  241.5508,\n",
       "  184.97706,\n",
       "  118.23217,\n",
       "  182.43351,\n",
       "  241.86742,\n",
       "  195.14664,\n",
       "  184.34048,\n",
       "  167.49641,\n",
       "  248.86089,\n",
       "  108.0622,\n",
       "  230.10892,\n",
       "  238.05467,\n",
       "  167.17858,\n",
       "  172.58169,\n",
       "  194.82979,\n",
       "  206.5895,\n",
       "  168.4499,\n",
       "  213.58176,\n",
       "  207.54299,\n",
       "  224.38798,\n",
       "  31.46517,\n",
       "  23.51942,\n",
       "  200.2329,\n",
       "  82.95363,\n",
       "  177.9848,\n",
       "  222.481,\n",
       "  54.98459,\n",
       "  117.27927,\n",
       "  77.23269,\n",
       "  112.19399,\n",
       "  75.323,\n",
       "  123.9537,\n",
       "  244.09344,\n",
       "  189.10885,\n",
       "  239.32479,\n",
       "  191.33366,\n",
       "  101.38777,\n",
       "  210.40346,\n",
       "  56.89157,\n",
       "  183.38791,\n",
       "  38.1396,\n",
       "  117.5971,\n",
       "  39.85588,\n",
       "  156.05375,\n",
       "  43.86054,\n",
       "  10.3,\n",
       "  131.89945,\n",
       "  19.7,\n",
       "  24.1,\n",
       "  7.42,\n",
       "  14.4,\n",
       "  16.6,\n",
       "  60.5,\n",
       "  77.55052,\n",
       "  13.3,\n",
       "  5.6,\n",
       "  34.9613,\n",
       "  12.7132,\n",
       "  72.4,\n",
       "  27.0,\n",
       "  21.8,\n",
       "  4.66,\n",
       "  2.24,\n",
       "  3.86,\n",
       "  30.0,\n",
       "  59.4,\n",
       "  44.4,\n",
       "  16.7,\n",
       "  0.257,\n",
       "  6.99,\n",
       "  6.94,\n",
       "  6.04,\n",
       "  4.7,\n",
       "  44.1,\n",
       "  1.65,\n",
       "  8.05,\n",
       "  8.75,\n",
       "  5.39,\n",
       "  4.54,\n",
       "  52.9,\n",
       "  2.6,\n",
       "  1.12,\n",
       "  4.23,\n",
       "  2.1,\n",
       "  6.3,\n",
       "  155.7367,\n",
       "  158.915,\n",
       "  123.00021,\n",
       "  20.7,\n",
       "  0.315,\n",
       "  3.33,\n",
       "  6.71,\n",
       "  4.66,\n",
       "  2.83,\n",
       "  5.86,\n",
       "  4.66,\n",
       "  1.37,\n",
       "  0.972,\n",
       "  5.73,\n",
       "  10.2,\n",
       "  31.1,\n",
       "  2.67,\n",
       "  6.65,\n",
       "  10.6,\n",
       "  5.75,\n",
       "  2.16,\n",
       "  5.6,\n",
       "  7.69,\n",
       "  3.22,\n",
       "  7.27,\n",
       "  4.81,\n",
       "  2.83,\n",
       "  5.13,\n",
       "  12.4,\n",
       "  6.86,\n",
       "  11.44182,\n",
       "  8.45,\n",
       "  20.0,\n",
       "  2.76,\n",
       "  10.2,\n",
       "  3.12,\n",
       "  2.92,\n",
       "  14.8,\n",
       "  12.9,\n",
       "  12.6,\n",
       "  7.08,\n",
       "  2.43,\n",
       "  5.91,\n",
       "  2.45,\n",
       "  9.51,\n",
       "  4.64,\n",
       "  8.22,\n",
       "  7.3,\n",
       "  3.46,\n",
       "  0.586,\n",
       "  0.566,\n",
       "  2.24,\n",
       "  7.51,\n",
       "  2.9,\n",
       "  6.48,\n",
       "  5.16,\n",
       "  8.0,\n",
       "  12.5,\n",
       "  7.13,\n",
       "  6.3,\n",
       "  3.46,\n",
       "  6.3,\n",
       "  12.0,\n",
       "  2.99,\n",
       "  3.41,\n",
       "  1.92,\n",
       "  4.5,\n",
       "  6.8,\n",
       "  126.49634,\n",
       "  7.04,\n",
       "  6.99,\n",
       "  3.71,\n",
       "  17.4,\n",
       "  12.0,\n",
       "  7.13,\n",
       "  8.2,\n",
       "  24.5,\n",
       "  6.53,\n",
       "  6.12,\n",
       "  3.68,\n",
       "  8.75,\n",
       "  7.41,\n",
       "  0.498,\n",
       "  9.27,\n",
       "  5.99,\n",
       "  7.61,\n",
       "  59.75174,\n",
       "  14.8,\n",
       "  6.54,\n",
       "  3.09,\n",
       "  30.9,\n",
       "  41.8,\n",
       "  9.96,\n",
       "  9.53,\n",
       "  4.98,\n",
       "  13.7,\n",
       "  4.94,\n",
       "  9.17,\n",
       "  1.92,\n",
       "  5.99,\n",
       "  37.1,\n",
       "  50.9,\n",
       "  12.2,\n",
       "  8.15,\n",
       "  5.06,\n",
       "  100.11645,\n",
       "  4.27,\n",
       "  61.0,\n",
       "  232.0159,\n",
       "  6.49,\n",
       "  24.5,\n",
       "  6.57,\n",
       "  3.39,\n",
       "  106.47305,\n",
       "  184.02357,\n",
       "  70.6,\n",
       "  0.809,\n",
       "  8.91,\n",
       "  2.92,\n",
       "  5.1,\n",
       "  2.76,\n",
       "  5.99,\n",
       "  5.18,\n",
       "  3.78,\n",
       "  9.48,\n",
       "  2.89,\n",
       "  2.83,\n",
       "  2.57,\n",
       "  9.64,\n",
       "  8.96,\n",
       "  5.56,\n",
       "  3.39,\n",
       "  2.33,\n",
       "  1.81,\n",
       "  209.76,\n",
       "  1.87,\n",
       "  3.05,\n",
       "  10.2,\n",
       "  5.77,\n",
       "  5.18,\n",
       "  0.749,\n",
       "  2.3,\n",
       "  0.52,\n",
       "  2.33,\n",
       "  4.08,\n",
       "  11.2,\n",
       "  3.46,\n",
       "  1.76,\n",
       "  53.9,\n",
       "  66.2,\n",
       "  3.71,\n",
       "  68.7,\n",
       "  9.53,\n",
       "  39.6,\n",
       "  28.1,\n",
       "  6.8,\n",
       "  3.64,\n",
       "  3.12,\n",
       "  12.3,\n",
       "  0.693,\n",
       "  6.48,\n",
       "  20.4,\n",
       "  2.73,\n",
       "  5.06,\n",
       "  1.41,\n",
       "  2.39,\n",
       "  11.8,\n",
       "  4.23,\n",
       "  7.04,\n",
       "  10.0,\n",
       "  1.76,\n",
       "  8.35,\n",
       "  7.75,\n",
       "  6.76,\n",
       "  1.65,\n",
       "  7.8,\n",
       "  3.82,\n",
       "  7.75,\n",
       "  9.96,\n",
       "  0.666,\n",
       "  7.46,\n",
       "  7.13,\n",
       "  9.38,\n",
       "  7.56,\n",
       "  6.66,\n",
       "  1.6,\n",
       "  8.75,\n",
       "  3.22,\n",
       "  4.5,\n",
       "  2.96,\n",
       "  0.244,\n",
       "  0.299,\n",
       "  0.64,\n",
       "  1.32,\n",
       "  12.3,\n",
       "  0.347,\n",
       "  2.76,\n",
       "  1.81,\n",
       "  0.418,\n",
       "  7.9,\n",
       "  2.24,\n",
       "  3.46,\n",
       "  1.24,\n",
       "  2.92,\n",
       "  0.779,\n",
       "  1.87,\n",
       "  2.21,\n",
       "  2.27,\n",
       "  1.12,\n",
       "  1.51,\n",
       "  1.12,\n",
       "  0.52,\n",
       "  5.1,\n",
       "  0.437,\n",
       "  2.83,\n",
       "  0.156,\n",
       "  3.22,\n",
       "  3.86,\n",
       "  2.92,\n",
       "  2.33,\n",
       "  0.363,\n",
       "  1.32,\n",
       "  1.55,\n",
       "  2.15,\n",
       "  2.99,\n",
       "  10.2,\n",
       "  1.2,\n",
       "  2.04,\n",
       "  4.27,\n",
       "  1.2,\n",
       "  0.809,\n",
       "  3.26,\n",
       "  105.833,\n",
       "  0.477,\n",
       "  2.36,\n",
       "  2.21,\n",
       "  2.57,\n",
       "  1.28,\n",
       "  4.94,\n",
       "  0.721,\n",
       "  3.64,\n",
       "  5.56,\n",
       "  3.22,\n",
       "  0.457,\n",
       "  1.08,\n",
       "  4.98,\n",
       "  2.83,\n",
       "  4.9,\n",
       "  1.04,\n",
       "  1.87,\n",
       "  2.13,\n",
       "  0.363,\n",
       "  3.22,\n",
       "  5.31,\n",
       "  2.76,\n",
       "  2.27,\n",
       "  27.6,\n",
       "  30.6,\n",
       "  4.74,\n",
       "  13.2,\n",
       "  33.8,\n",
       "  0.381,\n",
       "  5.43,\n",
       "  2.39,\n",
       "  6.66,\n",
       "  3.12,\n",
       "  10.3,\n",
       "  12.9,\n",
       "  10.5,\n",
       "  0.64,\n",
       "  4.16,\n",
       "  7.18,\n",
       "  20.7,\n",
       "  5.99,\n",
       "  4.19,\n",
       "  3.82,\n",
       "  2.04,\n",
       "  0.84,\n",
       "  4.04,\n",
       "  3.19,\n",
       "  5.35,\n",
       "  158.915,\n",
       "  5.0,\n",
       "  17.0,\n",
       "  10.9,\n",
       "  9.45,\n",
       "  8.44,\n",
       "  9.19,\n",
       "  17.4,\n",
       "  11.2,\n",
       "  2.32,\n",
       "  9.11,\n",
       "  8.93,\n",
       "  10.4,\n",
       "  9.93,\n",
       "  11.3,\n",
       "  7.76,\n",
       "  10.9,\n",
       "  4.93,\n",
       "  2.42,\n",
       "  7.05,\n",
       "  8.7,\n",
       "  4.17,\n",
       "  8.6,\n",
       "  7.16,\n",
       "  2.62,\n",
       "  3.38,\n",
       "  2.13,\n",
       "  0.799,\n",
       "  8.3,\n",
       "  4.02,\n",
       "  1.42,\n",
       "  1.76,\n",
       "  1.46,\n",
       "  8.29,\n",
       "  2.12,\n",
       "  1.25,\n",
       "  3.08,\n",
       "  8.76,\n",
       "  5.57,\n",
       "  3.2,\n",
       "  9.93,\n",
       "  10.3,\n",
       "  4.36,\n",
       "  5.83,\n",
       "  3.59,\n",
       "  10.7,\n",
       "  16.0,\n",
       "  6.46,\n",
       "  9.21,\n",
       "  7.12,\n",
       "  14.8,\n",
       "  10.4,\n",
       "  9.9,\n",
       "  8.58,\n",
       "  8.65,\n",
       "  8.43,\n",
       "  8.31,\n",
       "  6.84,\n",
       "  10.2,\n",
       "  9.04,\n",
       "  14.4,\n",
       "  18.4,\n",
       "  8.92,\n",
       "  15.7,\n",
       "  12.8,\n",
       "  9.74,\n",
       "  1.84,\n",
       "  14.3,\n",
       "  25.1,\n",
       "  8.37,\n",
       "  6.48,\n",
       "  11.0,\n",
       "  2.16,\n",
       "  5.38,\n",
       "  3.18,\n",
       "  13.6,\n",
       "  4.38,\n",
       "  59.1,\n",
       "  16.8,\n",
       "  7.81,\n",
       "  3.23,\n",
       "  30.1,\n",
       "  3.98,\n",
       "  18.7,\n",
       "  5.59,\n",
       "  6.53,\n",
       "  29.4,\n",
       "  2.77,\n",
       "  8.99,\n",
       "  7.13,\n",
       "  0.676,\n",
       "  5.86,\n",
       "  2.51,\n",
       "  8.05,\n",
       "  1.59,\n",
       "  18.8,\n",
       "  6.78,\n",
       "  5.81,\n",
       "  9.34,\n",
       "  5.62,\n",
       "  18.2,\n",
       "  8.45,\n",
       "  15.5,\n",
       "  7.68,\n",
       "  12.1,\n",
       "  10.2,\n",
       "  12.9,\n",
       "  7.33,\n",
       "  5.19,\n",
       "  9.36,\n",
       "  9.44,\n",
       "  12.7,\n",
       "  6.26,\n",
       "  5.6,\n",
       "  2.3,\n",
       "  8.24,\n",
       "  7.77,\n",
       "  10.1,\n",
       "  5.99,\n",
       "  6.25,\n",
       "  8.4,\n",
       "  10.0,\n",
       "  9.91,\n",
       "  6.89,\n",
       "  13.8,\n",
       "  3.87,\n",
       "  3.4,\n",
       "  8.0,\n",
       "  9.58,\n",
       "  5.94,\n",
       "  15.9,\n",
       "  0.961,\n",
       "  7.8,\n",
       "  3.18,\n",
       "  3.0,\n",
       "  6.15,\n",
       "  7.77,\n",
       "  9.4,\n",
       "  2.9,\n",
       "  14.6,\n",
       "  14.1,\n",
       "  6.01,\n",
       "  2.58,\n",
       "  6.21,\n",
       "  7.99,\n",
       "  4.53,\n",
       "  5.79,\n",
       "  3.58,\n",
       "  14.5,\n",
       "  9.9,\n",
       "  7.24,\n",
       "  7.5,\n",
       "  5.0,\n",
       "  6.26,\n",
       "  2.61,\n",
       "  2.78,\n",
       "  4.1,\n",
       "  5.13,\n",
       "  6.71,\n",
       "  11.1,\n",
       "  4.54,\n",
       "  2.02,\n",
       "  2.24,\n",
       "  2.73,\n",
       "  12.2,\n",
       "  7.05,\n",
       "  4.92,\n",
       "  3.4,\n",
       "  4.46,\n",
       "  8.13,\n",
       "  2.82,\n",
       "  6.14,\n",
       "  7.8,\n",
       "  9.46,\n",
       "  6.52,\n",
       "  3.76,\n",
       "  7.97,\n",
       "  2.57,\n",
       "  6.29,\n",
       "  0.313,\n",
       "  14.5,\n",
       "  4.22,\n",
       "  2.92,\n",
       "  7.21,\n",
       "  1.96,\n",
       "  3.66,\n",
       "  4.5,\n",
       "  6.44,\n",
       "  3.13,\n",
       "  1.55,\n",
       "  5.5,\n",
       "  5.49,\n",
       "  5.74,\n",
       "  0.353,\n",
       "  3.11,\n",
       "  4.99,\n",
       "  1.65,\n",
       "  10.1,\n",
       "  1.46,\n",
       "  5.07,\n",
       "  6.44,\n",
       "  6.28,\n",
       "  3.28,\n",
       "  5.52,\n",
       "  10.5,\n",
       "  0.905,\n",
       "  0.179,\n",
       "  8.86,\n",
       "  4.92,\n",
       "  5.13,\n",
       "  9.17,\n",
       "  2.81,\n",
       "  10.6,\n",
       "  3.95,\n",
       "  2.89,\n",
       "  7.18,\n",
       "  8.88,\n",
       "  2.32,\n",
       "  8.98,\n",
       "  0.587,\n",
       "  2.93,\n",
       "  4.03,\n",
       "  3.55,\n",
       "  1.87,\n",
       "  5.14,\n",
       "  9.8,\n",
       "  8.32,\n",
       "  0.76,\n",
       "  3.02,\n",
       "  3.27,\n",
       "  2.77,\n",
       "  1.74,\n",
       "  5.85,\n",
       "  2.51,\n",
       "  2.69,\n",
       "  8.13,\n",
       "  1.33,\n",
       "  1.78,\n",
       "  1.01,\n",
       "  2.41,\n",
       "  2.92,\n",
       "  8.97,\n",
       "  10.4,\n",
       "  7.35,\n",
       "  4.23,\n",
       "  5.89,\n",
       "  7.38,\n",
       "  9.03,\n",
       "  8.72,\n",
       "  5.86,\n",
       "  4.5,\n",
       "  7.53,\n",
       "  9.28,\n",
       "  5.97,\n",
       "  11.5,\n",
       "  4.63,\n",
       "  9.65,\n",
       "  2.95,\n",
       "  7.53,\n",
       "  2.91,\n",
       "  1.76,\n",
       "  0.702,\n",
       "  6.82,\n",
       "  10.2,\n",
       "  9.39,\n",
       "  4.0,\n",
       "  1.68,\n",
       "  3.01,\n",
       "  7.51,\n",
       "  5.13,\n",
       "  3.02,\n",
       "  8.05,\n",
       "  2.21,\n",
       "  6.75,\n",
       "  1.01,\n",
       "  1.09,\n",
       "  5.56,\n",
       "  2.95,\n",
       "  6.0,\n",
       "  2.07,\n",
       "  2.2,\n",
       "  3.9,\n",
       "  1.69,\n",
       "  1.32,\n",
       "  0.79,\n",
       "  4.86,\n",
       "  1.57,\n",
       "  2.26,\n",
       "  3.25,\n",
       "  1.95,\n",
       "  0.337,\n",
       "  3.83,\n",
       "  2.4,\n",
       "  1.39,\n",
       "  0.315,\n",
       "  2.86,\n",
       "  3.47,\n",
       "  5.08,\n",
       "  36.0,\n",
       "  69.92,\n",
       "  40.363,\n",
       "  122.0,\n",
       "  24.472,\n",
       "  5.0,\n",
       "  22.0,\n",
       "  177.98,\n",
       "  8.44,\n",
       "  67.0,\n",
       "  16.1,\n",
       "  136.66,\n",
       "  189.101,\n",
       "  79.45,\n",
       "  108.06,\n",
       "  92.17,\n",
       "  5.22,\n",
       "  1.46,\n",
       "  5.65,\n",
       "  4.12,\n",
       "  3.33,\n",
       "  2.36,\n",
       "  6.04,\n",
       "  160.497,\n",
       "  3.29,\n",
       "  16.0,\n",
       "  7.18,\n",
       "  9.53,\n",
       "  10.9,\n",
       "  9.01,\n",
       "  5.69,\n",
       "  10.5,\n",
       "  15.6,\n",
       "  9.59,\n",
       "  6.76,\n",
       "  9.69,\n",
       "  4.94,\n",
       "  7.8,\n",
       "  5.14,\n",
       "  8.15,\n",
       "  6.8,\n",
       "  6.17,\n",
       "  10.4,\n",
       "  5.82,\n",
       "  46.1,\n",
       "  59.0,\n",
       "  40.4,\n",
       "  5.99,\n",
       "  30.4,\n",
       "  9.43,\n",
       "  5.35,\n",
       "  7.18,\n",
       "  20.4,\n",
       "  3.15,\n",
       "  7.27,\n",
       "  7.9,\n",
       "  2.24,\n",
       "  3.33,\n",
       "  6.76,\n",
       "  6.66,\n",
       "  7.7,\n",
       "  5.48,\n",
       "  3.61,\n",
       "  2.73,\n",
       "  27.9,\n",
       "  7.61,\n",
       "  5.1,\n",
       "  5.06,\n",
       "  10.2,\n",
       "  38.2,\n",
       "  4.5,\n",
       "  7.41,\n",
       "  4.62,\n",
       "  8.45,\n",
       "  4.98,\n",
       "  9.32,\n",
       "  8.15,\n",
       "  7.13,\n",
       "  11.4,\n",
       "  6.17,\n",
       "  9.8,\n",
       "  2.57,\n",
       "  10.6,\n",
       "  7.8,\n",
       "  11.2,\n",
       "  3.09,\n",
       "  6.8,\n",
       "  5.14,\n",
       "  7.7,\n",
       "  39.1,\n",
       "  15.1,\n",
       "  17.9,\n",
       "  7.9,\n",
       "  14.8,\n",
       "  17.0,\n",
       "  8.4,\n",
       "  5.65,\n",
       "  7.61,\n",
       "  6.21,\n",
       "  12.7,\n",
       "  3.61,\n",
       "  23.7,\n",
       "  9.75,\n",
       "  19.4,\n",
       "  12.9,\n",
       "  5.27,\n",
       "  5.69,\n",
       "  5.73,\n",
       "  10.1,\n",
       "  6.57,\n",
       "  7.46,\n",
       "  7.18,\n",
       "  8.2,\n",
       "  6.3,\n",
       "  6.3,\n",
       "  10.7,\n",
       "  7.04,\n",
       "  4.66,\n",
       "  4.66,\n",
       "  7.13,\n",
       "  7.41,\n",
       "  13.1,\n",
       "  5.82,\n",
       "  16.5,\n",
       "  8.4,\n",
       "  8.2,\n",
       "  5.6,\n",
       "  7.41,\n",
       "  15.2,\n",
       "  11.4,\n",
       "  6.3,\n",
       "  8.6,\n",
       "  5.39,\n",
       "  11.8,\n",
       "  6.21,\n",
       "  8.45,\n",
       "  212.31044,\n",
       "  8.75,\n",
       "  4.27,\n",
       "  5.02,\n",
       "  7.22,\n",
       "  11.0,\n",
       "  12.9,\n",
       "  11.2,\n",
       "  5.27,\n",
       "  3.36,\n",
       "  8.45,\n",
       "  5.86,\n",
       "  6.3,\n",
       "  3.68,\n",
       "  2.3,\n",
       "  7.27,\n",
       "  11.0,\n",
       "  5.9,\n",
       "  5.18,\n",
       "  9.32,\n",
       "  5.95,\n",
       "  5.86,\n",
       "  13.4,\n",
       "  53.2,\n",
       "  2.48,\n",
       "  120.0,\n",
       "  10.2,\n",
       "  8.75,\n",
       "  5.52,\n",
       "  4.23,\n",
       "  7.46,\n",
       "  18.1,\n",
       "  20.2,\n",
       "  4.01,\n",
       "  6.26,\n",
       "  7.08,\n",
       "  4.08,\n",
       "  8.75,\n",
       "  10.1,\n",
       "  5.06,\n",
       "  4.62,\n",
       "  10.5,\n",
       "  5.73,\n",
       "  9.06,\n",
       "  6.21,\n",
       "  6.76,\n",
       "  4.94,\n",
       "  7.8,\n",
       "  9.91,\n",
       "  12.2,\n",
       "  3.29,\n",
       "  6.8,\n",
       "  8.25,\n",
       "  7.13,\n",
       "  9.64,\n",
       "  5.39,\n",
       "  7.27,\n",
       "  7.56,\n",
       "  7.27,\n",
       "  6.35,\n",
       "  20.1,\n",
       "  7.75,\n",
       "  20.8,\n",
       "  8.96,\n",
       "  7.7,\n",
       "  6.8,\n",
       "  34.8,\n",
       "  3.5,\n",
       "  6.53,\n",
       "  9.48,\n",
       "  25.0,\n",
       "  23.1,\n",
       "  9.32,\n",
       "  6.44,\n",
       "  9.69,\n",
       "  42.6,\n",
       "  4.54,\n",
       "  11.2,\n",
       "  78.8,\n",
       "  12.2,\n",
       "  68.7,\n",
       "  8.7,\n",
       "  29.6,\n",
       "  5.02,\n",
       "  9.85,\n",
       "  73.8,\n",
       "  8.25,\n",
       "  62.3,\n",
       "  31.3,\n",
       "  16.0,\n",
       "  13.1,\n",
       "  140.16303,\n",
       "  30.0,\n",
       "  8.45,\n",
       "  61.8,\n",
       "  51.1,\n",
       "  7.32,\n",
       "  5.1,\n",
       "  2.33,\n",
       "  8.91,\n",
       "  8.85,\n",
       "  4.19,\n",
       "  11.5,\n",
       "  6.71,\n",
       "  67.6,\n",
       "  13.5,\n",
       "  6.44,\n",
       "  54.5,\n",
       "  53.4,\n",
       "  7.46,\n",
       "  10.8,\n",
       "  79.4,\n",
       "  10.7,\n",
       "  6.94,\n",
       "  11.1,\n",
       "  12.5,\n",
       "  8.35,\n",
       "  12.4,\n",
       "  9.01,\n",
       "  8.91,\n",
       "  4.5,\n",
       "  6.8,\n",
       "  11.0,\n",
       "  200.22,\n",
       "  18.9,\n",
       "  9.11,\n",
       "  10.6,\n",
       "  1.92,\n",
       "  3.26,\n",
       "  5.31,\n",
       "  1.41,\n",
       "  24.1,\n",
       "  6.9,\n",
       "  9.8,\n",
       "  6.62,\n",
       "  8.3,\n",
       "  4.31,\n",
       "  4.7,\n",
       "  1.46,\n",
       "  2.42,\n",
       "  5.77,\n",
       "  4.78,\n",
       "  1.98,\n",
       "  3.33,\n",
       "  6.48,\n",
       "  11.4,\n",
       "  35.7,\n",
       "  3.86,\n",
       "  136.661,\n",
       "  3.97,\n",
       "  3.97,\n",
       "  ...],\n",
       " 'Microlensing': [3.3,\n",
       "  23.4,\n",
       "  10.4,\n",
       "  67.3,\n",
       "  170.0,\n",
       "  9.2,\n",
       "  86.0,\n",
       "  30.0,\n",
       "  17.0,\n",
       "  18.0,\n",
       "  6.7,\n",
       "  3.24,\n",
       "  33.7,\n",
       "  200.0,\n",
       "  11.3,\n",
       "  190.0,\n",
       "  14.1,\n",
       "  5.5,\n",
       "  144.0,\n",
       "  80.0,\n",
       "  20.0,\n",
       "  57.0,\n",
       "  60.0,\n",
       "  170.0,\n",
       "  120.0,\n",
       "  150.0,\n",
       "  53.1,\n",
       "  35.0,\n",
       "  92.0,\n",
       "  1.66,\n",
       "  200.0,\n",
       "  160.0,\n",
       "  181.16219,\n",
       "  180.0,\n",
       "  230.0,\n",
       "  21.0,\n",
       "  17.9,\n",
       "  138.0,\n",
       "  140.0,\n",
       "  225.65817,\n",
       "  1.43,\n",
       "  250.0,\n",
       "  3.269,\n",
       "  127.0,\n",
       "  130.0,\n",
       "  9.0,\n",
       "  160.0,\n",
       "  4.43,\n",
       "  240.0,\n",
       "  14.62011,\n",
       "  5.27,\n",
       "  6.4,\n",
       "  16.3,\n",
       "  20.1,\n",
       "  6.228,\n",
       "  101.70509,\n",
       "  13.93,\n",
       "  3.96,\n",
       "  82.63539,\n",
       "  6.4,\n",
       "  8.4,\n",
       "  210.0,\n",
       "  240.0,\n",
       "  162.09249,\n",
       "  2.5,\n",
       "  2.48,\n",
       "  37.1,\n",
       "  20.0,\n",
       "  0.96,\n",
       "  69.92225,\n",
       "  79.4571,\n",
       "  231.0,\n",
       "  86.0,\n",
       "  46.1,\n",
       "  55.3,\n",
       "  83.7],\n",
       " 'Pulsar Timing': [1.97, 0.02, 4.3, 3.9],\n",
       " 'Orbital Brightness Modulation': [0.44, 0.655],\n",
       " 'Transit Timing Variations': [209.8,\n",
       "  3.5,\n",
       "  29.9,\n",
       "  119.9,\n",
       "  4.7,\n",
       "  58.2,\n",
       "  6.57,\n",
       "  11.0,\n",
       "  7.7,\n",
       "  117.27868,\n",
       "  64.2,\n",
       "  55.2,\n",
       "  13.1,\n",
       "  119.499,\n",
       "  36.0,\n",
       "  0.43,\n",
       "  8.5,\n",
       "  0.0275,\n",
       "  10.8,\n",
       "  20.9]}"
      ]
     },
     "execution_count": 46,
     "metadata": {},
     "output_type": "execute_result"
    }
   ],
   "source": [
    "# we have computed the dictionaries 'planet_masses' and 'planet_radii' for you\n",
    "\n",
    "planet_masses = {}\n",
    "planet_radii = {}\n",
    "for planet in small_planets_list:\n",
    "    method = planet.discovery_method\n",
    "    mass = planet.planet_mass\n",
    "    radius = planet.planet_radius\n",
    "    if method == None or mass == None or radius == None:\n",
    "        continue\n",
    "    if mass > 250:\n",
    "        continue\n",
    "    if method not in planet_masses:\n",
    "        planet_masses[method] = []\n",
    "        planet_radii[method] = []\n",
    "    planet_masses[method].append(mass)\n",
    "    planet_radii[method].append(radius)\n",
    "\n",
    "planet_masses"
   ]
  },
  {
   "cell_type": "code",
   "execution_count": 47,
   "id": "43d56e85",
   "metadata": {
    "deletable": false,
    "editable": true
   },
   "outputs": [
    {
     "name": "stdout",
     "output_type": "stream",
     "text": [
      "Make sure you saved the notebook before running this cell. Running check for lab-q13...\n",
      "Great job! You passed all test cases for this question.\n"
     ]
    },
    {
     "data": {
      "text/plain": [
       "True"
      ]
     },
     "execution_count": 47,
     "metadata": {},
     "output_type": "execute_result"
    }
   ],
   "source": [
    "student_grader.check(\"lab-q13\", should_get_llm_feedback=False)"
   ]
  },
  {
   "cell_type": "markdown",
   "id": "87d9fb6a",
   "metadata": {
    "deletable": false,
    "editable": false
   },
   "source": [
    "Now, **plot** `planet_masses` and `planet_radii` as **scatter plot** with the **x-axis** labelled *Planet Mass*, and the **y-axis** labelled *Planet Radius*. Your plot should look like this:"
   ]
  },
  {
   "cell_type": "markdown",
   "id": "82525ac4",
   "metadata": {
    "deletable": false,
    "editable": false
   },
   "source": [
    "<div><img src=\"images/lab-q14.jpg\" style=\"height: 300px;\"/></div>"
   ]
  },
  {
   "cell_type": "code",
   "execution_count": 48,
   "id": "c14e0a51",
   "metadata": {
    "deletable": false
   },
   "outputs": [
    {
     "data": {
      "image/png": "[encoded data removed]",
      "text/plain": [
       "<Figure size 640x480 with 1 Axes>"
      ]
     },
     "metadata": {},
     "output_type": "display_data"
    }
   ],
   "source": [
    "# we have done this for you\n",
    "\n",
    "plot_scatter_multiple(planet_masses, planet_radii, 'Planet Mass','Planet Radius')"
   ]
  },
  {
   "cell_type": "code",
   "execution_count": 49,
   "id": "3dd0bb07-578a-4808-bdf9-1f9763a0963f",
   "metadata": {
    "deletable": false
   },
   "outputs": [],
   "source": [
    "# we have defined this function for you\n",
    "# this will be a helpful function for the next question\n",
    "\n",
    "def year_to_decade(year):\n",
    "    if year % 10 == 0:\n",
    "        decade = str(year - 9) + ' to ' + str(year)\n",
    "    else:\n",
    "        decade_start = year - (year % 10) + 1\n",
    "        decade = str(decade_start) + ' to ' + str(decade_start + 9)\n",
    "    return decade"
   ]
  },
  {
   "cell_type": "markdown",
   "id": "9e438c88-644f-445c-bb67-9cb8a5c9bbbc",
   "metadata": {
    "deletable": false,
    "editable": false
   },
   "source": [
    "#### Lab Question 14: Excluding planets with `planet_mass` **more than** *250*, create a **scatter plot** representing the `planet_mass` (on the **x-axis**) against the `planet_radius` (on the **y-axis**) of each `Planet` object discovered in **each decade**."
   ]
  },
  {
   "cell_type": "markdown",
   "id": "61081765",
   "metadata": {
    "deletable": false,
    "editable": false
   },
   "source": [
    "You **must** ignore any `Planet` objects for which **either** the `planet_mass`, `planet_radius` or `discovery_year` data is **missing**. You **must** also ignore any `Planet` object which has `planet_mass` more than *250*. You **must** color the points depending on the **decade** of the `discovery_year`.\n",
    "\n",
    "**Hint:** You can use the `year_to_decade` function defined in the previous cell to determine the **decade** that a given year belongs to."
   ]
  },
  {
   "cell_type": "markdown",
   "id": "6e21ea18-eb20-4ae1-ace3-b054cf7b3d6a",
   "metadata": {
    "deletable": false,
    "editable": false
   },
   "source": [
    "Points possible: 4.0"
   ]
  },
  {
   "cell_type": "code",
   "execution_count": 50,
   "id": "d5cf32d4",
   "metadata": {
    "deletable": false,
    "editable": true,
    "tags": [
     "lab-q14-code"
    ]
   },
   "outputs": [
    {
     "data": {
      "text/plain": [
       "{'1991 to 2000': [146.2018,\n",
       "  187.5197,\n",
       "  82.6358,\n",
       "  177.9848,\n",
       "  232.0159,\n",
       "  71.8,\n",
       "  155.7367,\n",
       "  209.76675,\n",
       "  166.218,\n",
       "  206.34463,\n",
       "  0.02,\n",
       "  4.3,\n",
       "  3.9,\n",
       "  218.531,\n",
       "  226.9846],\n",
       " '2011 to 2020': [22.2481,\n",
       "  3.95,\n",
       "  170.032,\n",
       "  12.2,\n",
       "  85.81,\n",
       "  165.26,\n",
       "  153.82972,\n",
       "  47.6745,\n",
       "  138.89171,\n",
       "  2.58,\n",
       "  1.15,\n",
       "  4.16,\n",
       "  0.26,\n",
       "  0.688,\n",
       "  1.12,\n",
       "  1.01,\n",
       "  0.972,\n",
       "  4.35,\n",
       "  27.0,\n",
       "  5.35,\n",
       "  3.19,\n",
       "  11.7,\n",
       "  1.32,\n",
       "  7.4,\n",
       "  10.2,\n",
       "  16.2,\n",
       "  4.0,\n",
       "  13.0,\n",
       "  8.2,\n",
       "  6.6,\n",
       "  10.6,\n",
       "  13.9,\n",
       "  8.0,\n",
       "  7.14,\n",
       "  11.07,\n",
       "  16.57,\n",
       "  13.2,\n",
       "  5.36,\n",
       "  2.82,\n",
       "  9.0,\n",
       "  66.74397,\n",
       "  19.66,\n",
       "  9.65,\n",
       "  13.02,\n",
       "  5.63,\n",
       "  6.624,\n",
       "  197.05,\n",
       "  198.953,\n",
       "  216.1244,\n",
       "  84.857,\n",
       "  190.372,\n",
       "  152.5584,\n",
       "  210.395,\n",
       "  156.684,\n",
       "  98.20947,\n",
       "  241.5508,\n",
       "  184.97706,\n",
       "  167.49641,\n",
       "  248.86089,\n",
       "  108.0622,\n",
       "  230.10892,\n",
       "  167.17858,\n",
       "  172.58169,\n",
       "  194.82979,\n",
       "  206.5895,\n",
       "  168.4499,\n",
       "  213.58176,\n",
       "  207.54299,\n",
       "  224.38798,\n",
       "  31.46517,\n",
       "  23.51942,\n",
       "  200.2329,\n",
       "  82.95363,\n",
       "  177.9848,\n",
       "  222.481,\n",
       "  54.98459,\n",
       "  117.27927,\n",
       "  77.23269,\n",
       "  112.19399,\n",
       "  75.323,\n",
       "  123.9537,\n",
       "  244.09344,\n",
       "  189.10885,\n",
       "  239.32479,\n",
       "  191.33366,\n",
       "  101.38777,\n",
       "  210.40346,\n",
       "  56.89157,\n",
       "  183.38791,\n",
       "  38.1396,\n",
       "  117.5971,\n",
       "  39.85588,\n",
       "  43.86054,\n",
       "  113.9,\n",
       "  197.046,\n",
       "  116.0,\n",
       "  11.2,\n",
       "  113.46531,\n",
       "  75.32571,\n",
       "  63.566,\n",
       "  131.89945,\n",
       "  28.55,\n",
       "  16.14,\n",
       "  8.98,\n",
       "  15.1,\n",
       "  12.214,\n",
       "  16.46,\n",
       "  73.1009,\n",
       "  34.2,\n",
       "  153.1,\n",
       "  212.9461,\n",
       "  13.0,\n",
       "  65.9,\n",
       "  16.6,\n",
       "  63.566,\n",
       "  60.5,\n",
       "  6.89,\n",
       "  11.8,\n",
       "  8.47,\n",
       "  149.37,\n",
       "  222.481,\n",
       "  77.55052,\n",
       "  8.5,\n",
       "  14.4,\n",
       "  104.88,\n",
       "  17.8,\n",
       "  85.8141,\n",
       "  15.9,\n",
       "  5.6,\n",
       "  66.6,\n",
       "  3.6,\n",
       "  34.9613,\n",
       "  42.44,\n",
       "  12.9,\n",
       "  12.7132,\n",
       "  12.7,\n",
       "  14.4,\n",
       "  22.9,\n",
       "  72.4,\n",
       "  18.8,\n",
       "  27.0,\n",
       "  21.8,\n",
       "  4.66,\n",
       "  2.24,\n",
       "  3.86,\n",
       "  30.0,\n",
       "  59.4,\n",
       "  44.4,\n",
       "  16.7,\n",
       "  0.257,\n",
       "  6.99,\n",
       "  6.94,\n",
       "  6.04,\n",
       "  4.7,\n",
       "  44.1,\n",
       "  1.65,\n",
       "  8.05,\n",
       "  8.75,\n",
       "  5.39,\n",
       "  4.54,\n",
       "  52.9,\n",
       "  2.6,\n",
       "  1.12,\n",
       "  4.23,\n",
       "  2.1,\n",
       "  6.3,\n",
       "  155.7367,\n",
       "  158.915,\n",
       "  123.00021,\n",
       "  20.7,\n",
       "  0.315,\n",
       "  3.33,\n",
       "  6.71,\n",
       "  4.66,\n",
       "  2.83,\n",
       "  5.86,\n",
       "  4.66,\n",
       "  1.37,\n",
       "  0.972,\n",
       "  5.73,\n",
       "  10.2,\n",
       "  31.1,\n",
       "  2.67,\n",
       "  6.65,\n",
       "  10.6,\n",
       "  5.75,\n",
       "  2.16,\n",
       "  5.6,\n",
       "  7.69,\n",
       "  3.22,\n",
       "  7.27,\n",
       "  4.81,\n",
       "  2.83,\n",
       "  5.13,\n",
       "  12.4,\n",
       "  6.86,\n",
       "  11.44182,\n",
       "  8.45,\n",
       "  20.0,\n",
       "  2.76,\n",
       "  10.2,\n",
       "  3.12,\n",
       "  2.92,\n",
       "  14.8,\n",
       "  12.9,\n",
       "  12.6,\n",
       "  7.08,\n",
       "  2.43,\n",
       "  5.91,\n",
       "  2.45,\n",
       "  9.51,\n",
       "  4.64,\n",
       "  8.22,\n",
       "  7.3,\n",
       "  3.46,\n",
       "  0.586,\n",
       "  0.566,\n",
       "  2.24,\n",
       "  7.51,\n",
       "  2.9,\n",
       "  6.48,\n",
       "  5.16,\n",
       "  8.0,\n",
       "  12.5,\n",
       "  7.13,\n",
       "  6.3,\n",
       "  3.46,\n",
       "  6.3,\n",
       "  12.0,\n",
       "  2.99,\n",
       "  3.41,\n",
       "  1.92,\n",
       "  4.5,\n",
       "  6.8,\n",
       "  126.49634,\n",
       "  7.04,\n",
       "  6.99,\n",
       "  3.71,\n",
       "  17.4,\n",
       "  12.0,\n",
       "  7.13,\n",
       "  8.2,\n",
       "  24.5,\n",
       "  6.53,\n",
       "  6.12,\n",
       "  3.68,\n",
       "  8.75,\n",
       "  7.41,\n",
       "  0.498,\n",
       "  9.27,\n",
       "  5.99,\n",
       "  7.61,\n",
       "  59.75174,\n",
       "  14.8,\n",
       "  6.54,\n",
       "  3.09,\n",
       "  30.9,\n",
       "  41.8,\n",
       "  9.96,\n",
       "  9.53,\n",
       "  4.98,\n",
       "  13.7,\n",
       "  4.94,\n",
       "  9.17,\n",
       "  1.92,\n",
       "  5.99,\n",
       "  37.1,\n",
       "  50.9,\n",
       "  12.2,\n",
       "  8.15,\n",
       "  5.06,\n",
       "  100.11645,\n",
       "  4.27,\n",
       "  61.0,\n",
       "  232.0159,\n",
       "  6.49,\n",
       "  24.5,\n",
       "  6.57,\n",
       "  3.39,\n",
       "  106.47305,\n",
       "  184.02357,\n",
       "  70.6,\n",
       "  0.809,\n",
       "  8.91,\n",
       "  2.92,\n",
       "  5.1,\n",
       "  2.76,\n",
       "  5.99,\n",
       "  5.18,\n",
       "  3.78,\n",
       "  9.48,\n",
       "  2.89,\n",
       "  2.83,\n",
       "  2.57,\n",
       "  9.64,\n",
       "  8.96,\n",
       "  5.56,\n",
       "  3.39,\n",
       "  2.33,\n",
       "  1.81,\n",
       "  209.76,\n",
       "  1.87,\n",
       "  3.05,\n",
       "  10.2,\n",
       "  5.77,\n",
       "  5.18,\n",
       "  0.749,\n",
       "  2.3,\n",
       "  0.52,\n",
       "  2.33,\n",
       "  4.08,\n",
       "  11.2,\n",
       "  3.46,\n",
       "  1.76,\n",
       "  53.9,\n",
       "  66.2,\n",
       "  3.71,\n",
       "  68.7,\n",
       "  9.53,\n",
       "  39.6,\n",
       "  28.1,\n",
       "  6.8,\n",
       "  3.64,\n",
       "  3.12,\n",
       "  12.3,\n",
       "  0.693,\n",
       "  6.48,\n",
       "  20.4,\n",
       "  2.73,\n",
       "  5.06,\n",
       "  1.41,\n",
       "  2.39,\n",
       "  11.8,\n",
       "  4.23,\n",
       "  7.04,\n",
       "  10.0,\n",
       "  1.76,\n",
       "  8.35,\n",
       "  7.75,\n",
       "  6.76,\n",
       "  1.65,\n",
       "  7.8,\n",
       "  3.82,\n",
       "  7.75,\n",
       "  9.96,\n",
       "  0.666,\n",
       "  7.46,\n",
       "  7.13,\n",
       "  9.38,\n",
       "  7.56,\n",
       "  6.66,\n",
       "  1.6,\n",
       "  8.75,\n",
       "  3.22,\n",
       "  4.5,\n",
       "  2.96,\n",
       "  0.244,\n",
       "  0.299,\n",
       "  0.64,\n",
       "  1.32,\n",
       "  12.3,\n",
       "  0.347,\n",
       "  2.76,\n",
       "  1.81,\n",
       "  0.418,\n",
       "  7.9,\n",
       "  2.24,\n",
       "  3.46,\n",
       "  1.24,\n",
       "  2.92,\n",
       "  0.779,\n",
       "  1.87,\n",
       "  2.21,\n",
       "  2.27,\n",
       "  1.12,\n",
       "  1.51,\n",
       "  1.12,\n",
       "  0.52,\n",
       "  5.1,\n",
       "  0.437,\n",
       "  2.83,\n",
       "  0.156,\n",
       "  3.22,\n",
       "  3.86,\n",
       "  2.92,\n",
       "  2.33,\n",
       "  0.363,\n",
       "  1.32,\n",
       "  1.55,\n",
       "  2.15,\n",
       "  2.99,\n",
       "  10.2,\n",
       "  1.2,\n",
       "  2.04,\n",
       "  4.27,\n",
       "  1.2,\n",
       "  0.809,\n",
       "  3.26,\n",
       "  105.833,\n",
       "  0.477,\n",
       "  2.36,\n",
       "  2.21,\n",
       "  2.57,\n",
       "  1.28,\n",
       "  4.94,\n",
       "  0.721,\n",
       "  3.64,\n",
       "  5.56,\n",
       "  3.22,\n",
       "  0.457,\n",
       "  1.08,\n",
       "  4.98,\n",
       "  2.83,\n",
       "  4.9,\n",
       "  1.04,\n",
       "  1.87,\n",
       "  2.13,\n",
       "  0.363,\n",
       "  3.22,\n",
       "  5.31,\n",
       "  2.76,\n",
       "  2.27,\n",
       "  27.6,\n",
       "  30.6,\n",
       "  4.74,\n",
       "  13.2,\n",
       "  33.8,\n",
       "  0.381,\n",
       "  5.43,\n",
       "  2.39,\n",
       "  6.66,\n",
       "  3.12,\n",
       "  10.3,\n",
       "  12.9,\n",
       "  10.5,\n",
       "  0.64,\n",
       "  4.16,\n",
       "  7.18,\n",
       "  20.7,\n",
       "  5.99,\n",
       "  4.19,\n",
       "  3.82,\n",
       "  2.04,\n",
       "  0.84,\n",
       "  4.04,\n",
       "  3.19,\n",
       "  5.35,\n",
       "  158.915,\n",
       "  5.0,\n",
       "  17.0,\n",
       "  10.9,\n",
       "  9.45,\n",
       "  8.44,\n",
       "  9.19,\n",
       "  17.4,\n",
       "  11.2,\n",
       "  2.32,\n",
       "  9.11,\n",
       "  8.93,\n",
       "  10.4,\n",
       "  9.93,\n",
       "  11.3,\n",
       "  7.76,\n",
       "  10.9,\n",
       "  4.93,\n",
       "  2.42,\n",
       "  7.05,\n",
       "  8.7,\n",
       "  4.17,\n",
       "  8.6,\n",
       "  7.16,\n",
       "  2.62,\n",
       "  3.38,\n",
       "  2.13,\n",
       "  0.799,\n",
       "  8.3,\n",
       "  4.02,\n",
       "  1.42,\n",
       "  1.76,\n",
       "  1.46,\n",
       "  8.29,\n",
       "  2.12,\n",
       "  1.25,\n",
       "  3.08,\n",
       "  8.76,\n",
       "  5.57,\n",
       "  3.2,\n",
       "  5.08,\n",
       "  36.0,\n",
       "  69.92,\n",
       "  40.363,\n",
       "  122.0,\n",
       "  5.0,\n",
       "  22.0,\n",
       "  177.98,\n",
       "  8.44,\n",
       "  67.0,\n",
       "  16.1,\n",
       "  136.66,\n",
       "  189.101,\n",
       "  79.45,\n",
       "  108.06,\n",
       "  92.17,\n",
       "  5.22,\n",
       "  1.46,\n",
       "  5.65,\n",
       "  4.12,\n",
       "  3.33,\n",
       "  2.36,\n",
       "  6.04,\n",
       "  160.497,\n",
       "  3.29,\n",
       "  16.0,\n",
       "  7.18,\n",
       "  9.53,\n",
       "  10.9,\n",
       "  9.01,\n",
       "  5.69,\n",
       "  10.5,\n",
       "  15.6,\n",
       "  9.59,\n",
       "  6.76,\n",
       "  9.69,\n",
       "  4.94,\n",
       "  7.8,\n",
       "  5.14,\n",
       "  8.15,\n",
       "  6.8,\n",
       "  6.17,\n",
       "  10.4,\n",
       "  5.82,\n",
       "  46.1,\n",
       "  59.0,\n",
       "  40.4,\n",
       "  5.99,\n",
       "  30.4,\n",
       "  9.43,\n",
       "  5.35,\n",
       "  7.18,\n",
       "  20.4,\n",
       "  3.15,\n",
       "  7.27,\n",
       "  7.9,\n",
       "  2.24,\n",
       "  3.33,\n",
       "  6.76,\n",
       "  6.66,\n",
       "  7.7,\n",
       "  5.48,\n",
       "  3.61,\n",
       "  2.73,\n",
       "  27.9,\n",
       "  7.61,\n",
       "  5.1,\n",
       "  5.06,\n",
       "  10.2,\n",
       "  38.2,\n",
       "  4.5,\n",
       "  7.41,\n",
       "  4.62,\n",
       "  8.45,\n",
       "  4.98,\n",
       "  9.32,\n",
       "  8.15,\n",
       "  7.13,\n",
       "  11.4,\n",
       "  6.17,\n",
       "  9.8,\n",
       "  2.57,\n",
       "  10.6,\n",
       "  7.8,\n",
       "  11.2,\n",
       "  3.09,\n",
       "  6.8,\n",
       "  5.14,\n",
       "  7.7,\n",
       "  39.1,\n",
       "  15.1,\n",
       "  17.9,\n",
       "  7.9,\n",
       "  14.8,\n",
       "  17.0,\n",
       "  8.4,\n",
       "  5.65,\n",
       "  7.61,\n",
       "  6.21,\n",
       "  12.7,\n",
       "  3.61,\n",
       "  23.7,\n",
       "  9.75,\n",
       "  19.4,\n",
       "  12.9,\n",
       "  5.27,\n",
       "  5.69,\n",
       "  5.73,\n",
       "  10.1,\n",
       "  6.57,\n",
       "  7.46,\n",
       "  7.18,\n",
       "  8.2,\n",
       "  6.3,\n",
       "  6.3,\n",
       "  10.7,\n",
       "  7.04,\n",
       "  4.66,\n",
       "  4.66,\n",
       "  7.13,\n",
       "  7.41,\n",
       "  13.1,\n",
       "  5.82,\n",
       "  16.5,\n",
       "  8.4,\n",
       "  8.2,\n",
       "  5.6,\n",
       "  7.41,\n",
       "  15.2,\n",
       "  11.4,\n",
       "  6.3,\n",
       "  8.6,\n",
       "  5.39,\n",
       "  11.8,\n",
       "  6.21,\n",
       "  8.45,\n",
       "  8.75,\n",
       "  4.27,\n",
       "  5.02,\n",
       "  7.22,\n",
       "  11.0,\n",
       "  12.9,\n",
       "  11.2,\n",
       "  5.27,\n",
       "  3.36,\n",
       "  8.45,\n",
       "  5.86,\n",
       "  6.3,\n",
       "  3.68,\n",
       "  2.3,\n",
       "  7.27,\n",
       "  11.0,\n",
       "  5.9,\n",
       "  5.18,\n",
       "  9.32,\n",
       "  5.95,\n",
       "  5.86,\n",
       "  13.4,\n",
       "  53.2,\n",
       "  2.48,\n",
       "  120.0,\n",
       "  10.2,\n",
       "  8.75,\n",
       "  5.52,\n",
       "  4.23,\n",
       "  7.46,\n",
       "  18.1,\n",
       "  20.2,\n",
       "  4.01,\n",
       "  6.26,\n",
       "  7.08,\n",
       "  4.08,\n",
       "  8.75,\n",
       "  10.1,\n",
       "  5.06,\n",
       "  4.62,\n",
       "  10.5,\n",
       "  5.73,\n",
       "  9.06,\n",
       "  6.21,\n",
       "  6.76,\n",
       "  4.94,\n",
       "  7.8,\n",
       "  9.91,\n",
       "  12.2,\n",
       "  3.29,\n",
       "  6.8,\n",
       "  8.25,\n",
       "  7.13,\n",
       "  9.64,\n",
       "  5.39,\n",
       "  7.27,\n",
       "  7.56,\n",
       "  7.27,\n",
       "  6.35,\n",
       "  20.1,\n",
       "  7.75,\n",
       "  20.8,\n",
       "  8.96,\n",
       "  7.7,\n",
       "  6.8,\n",
       "  34.8,\n",
       "  3.5,\n",
       "  6.53,\n",
       "  9.48,\n",
       "  25.0,\n",
       "  23.1,\n",
       "  9.32,\n",
       "  6.44,\n",
       "  9.69,\n",
       "  42.6,\n",
       "  4.54,\n",
       "  11.2,\n",
       "  78.8,\n",
       "  12.2,\n",
       "  68.7,\n",
       "  8.7,\n",
       "  29.6,\n",
       "  5.02,\n",
       "  9.85,\n",
       "  73.8,\n",
       "  8.25,\n",
       "  62.3,\n",
       "  31.3,\n",
       "  16.0,\n",
       "  13.1,\n",
       "  30.0,\n",
       "  8.45,\n",
       "  61.8,\n",
       "  51.1,\n",
       "  7.32,\n",
       "  5.1,\n",
       "  2.33,\n",
       "  8.91,\n",
       "  8.85,\n",
       "  4.19,\n",
       "  11.5,\n",
       "  6.71,\n",
       "  67.6,\n",
       "  13.5,\n",
       "  6.44,\n",
       "  54.5,\n",
       "  53.4,\n",
       "  7.46,\n",
       "  10.8,\n",
       "  79.4,\n",
       "  10.7,\n",
       "  6.94,\n",
       "  11.1,\n",
       "  12.5,\n",
       "  8.35,\n",
       "  12.4,\n",
       "  9.01,\n",
       "  8.91,\n",
       "  4.5,\n",
       "  6.8,\n",
       "  11.0,\n",
       "  200.22,\n",
       "  18.9,\n",
       "  9.11,\n",
       "  10.6,\n",
       "  1.92,\n",
       "  3.26,\n",
       "  5.31,\n",
       "  1.41,\n",
       "  24.1,\n",
       "  6.9,\n",
       "  9.8,\n",
       "  6.62,\n",
       "  8.3,\n",
       "  4.31,\n",
       "  4.7,\n",
       "  1.46,\n",
       "  2.42,\n",
       "  5.77,\n",
       "  4.78,\n",
       "  1.98,\n",
       "  3.33,\n",
       "  6.48,\n",
       "  11.4,\n",
       "  35.7,\n",
       "  3.86,\n",
       "  136.661,\n",
       "  3.97,\n",
       "  3.97,\n",
       "  2.63,\n",
       "  10.2,\n",
       "  1.81,\n",
       "  2.18,\n",
       "  2.76,\n",
       "  3.46,\n",
       "  0.721,\n",
       "  1.96716,\n",
       "  0.64,\n",
       "  8.7,\n",
       "  10.4,\n",
       "  3.12,\n",
       "  6.48,\n",
       "  2.18,\n",
       "  7.04,\n",
       "  5.14,\n",
       "  5.39,\n",
       "  9.53,\n",
       "  4.5,\n",
       "  2.45,\n",
       "  5.1,\n",
       "  3.46,\n",
       "  2.24,\n",
       "  5.35,\n",
       "  6.3,\n",
       "  8.5,\n",
       "  4.66,\n",
       "  12.3,\n",
       "  13.8,\n",
       "  8.7,\n",
       "  1.55,\n",
       "  76.8,\n",
       "  2.73,\n",
       "  9.32,\n",
       "  4.38,\n",
       "  7.75,\n",
       "  12.3,\n",
       "  5.22,\n",
       "  5.14,\n",
       "  15.8,\n",
       "  74.5,\n",
       "  60.2,\n",
       "  22.9,\n",
       "  8.05,\n",
       "  30.8,\n",
       "  2.27,\n",
       "  3.78,\n",
       "  3.09,\n",
       "  4.16,\n",
       "  2.1,\n",
       "  27.0,\n",
       "  2.89,\n",
       "  5.1,\n",
       "  3.53,\n",
       "  2.15,\n",
       "  4.9,\n",
       "  4.74,\n",
       "  4.74,\n",
       "  8.2,\n",
       "  7.9,\n",
       "  7.08,\n",
       "  7.9,\n",
       "  7.13,\n",
       "  23.8,\n",
       "  3.19,\n",
       "  7.22,\n",
       "  3.46,\n",
       "  4.82,\n",
       "  6.71,\n",
       "  1.76,\n",
       "  3.53,\n",
       "  40.4,\n",
       "  3.82,\n",
       "  3.46,\n",
       "  6.99,\n",
       "  3.5,\n",
       "  52.7,\n",
       "  63.3,\n",
       "  37.2,\n",
       "  21.1,\n",
       "  9.75,\n",
       "  10.6,\n",
       "  5.82,\n",
       "  5.52,\n",
       "  8.75,\n",
       "  6.35,\n",
       "  6.76,\n",
       "  3.29,\n",
       "  19.4,\n",
       "  4.86,\n",
       "  12.7,\n",
       "  8.15,\n",
       "  13.5,\n",
       "  4.62,\n",
       "  13.5,\n",
       "  14.7,\n",
       "  8.75,\n",
       "  2.63,\n",
       "  5.14,\n",
       "  4.38,\n",
       "  7.13,\n",
       "  7.56,\n",
       "  3.82,\n",
       "  2.04,\n",
       "  3.82,\n",
       "  2.04,\n",
       "  6.8,\n",
       "  2.92,\n",
       "  3.75,\n",
       "  1.32,\n",
       "  58.6,\n",
       "  33.6,\n",
       "  8.3,\n",
       "  9.43,\n",
       "  8.15,\n",
       "  2.99,\n",
       "  6.94,\n",
       "  6.3,\n",
       "  2.83,\n",
       "  7.65,\n",
       "  4.98,\n",
       "  2.45,\n",
       "  6.99,\n",
       "  3.78,\n",
       "  2.57,\n",
       "  5.1,\n",
       "  1.87,\n",
       "  1.98,\n",
       "  2.76,\n",
       "  0.477,\n",
       "  7.27,\n",
       "  8.25,\n",
       "  2.48,\n",
       "  2.86,\n",
       "  3.75,\n",
       "  4.31,\n",
       "  3.68,\n",
       "  5.69,\n",
       "  8.6,\n",
       "  2.6,\n",
       "  2.48,\n",
       "  9.64,\n",
       "  6.08,\n",
       "  5.95,\n",
       "  3.61,\n",
       "  3.15,\n",
       "  1.41,\n",
       "  5.18,\n",
       "  2.33,\n",
       "  2.45,\n",
       "  6.62,\n",
       "  5.02,\n",
       "  2.39,\n",
       "  2.7,\n",
       "  5.56,\n",
       "  3.71,\n",
       "  11.1,\n",
       "  9.69,\n",
       "  5.18,\n",
       "  29.5,\n",
       "  7.41,\n",
       "  7.41,\n",
       "  4.38,\n",
       "  5.82,\n",
       "  4.08,\n",
       "  8.8,\n",
       "  13.0,\n",
       "  59.6,\n",
       "  26.7,\n",
       "  45.4,\n",
       "  5.99,\n",
       "  9.96,\n",
       "  9.27,\n",
       "  25.9,\n",
       "  4.9,\n",
       "  17.6,\n",
       "  8.46,\n",
       "  5.86,\n",
       "  7.04,\n",
       "  4.54,\n",
       "  7.56,\n",
       "  5.14,\n",
       "  11.4,\n",
       "  16.0,\n",
       "  7.31,\n",
       "  5.18,\n",
       "  19.5,\n",
       "  4.5,\n",
       "  3.09,\n",
       "  2.79,\n",
       "  14.9,\n",
       "  7.37,\n",
       "  9.22,\n",
       "  7.85,\n",
       "  3.55,\n",
       "  7.61,\n",
       "  5.95,\n",
       "  5.69,\n",
       "  6.17,\n",
       "  5.14,\n",
       "  9.17,\n",
       "  6.17,\n",
       "  10.7,\n",
       "  4.94,\n",
       "  5.52,\n",
       "  6.15,\n",
       "  6.99,\n",
       "  3.26,\n",
       "  9.11,\n",
       "  3.19,\n",
       "  7.75,\n",
       "  4.58,\n",
       "  2.42,\n",
       "  5.99,\n",
       "  6.08,\n",
       "  4.6,\n",
       "  8.7,\n",
       "  2.25,\n",
       "  30.8,\n",
       "  13.3,\n",
       "  29.32,\n",
       "  10.4,\n",
       "  170.0,\n",
       "  9.2,\n",
       "  86.0,\n",
       "  30.0,\n",
       "  17.0,\n",
       "  18.0,\n",
       "  ...],\n",
       " '2021 to 2030': [228.83645,\n",
       "  216.12332,\n",
       "  2.86,\n",
       "  2.24,\n",
       "  0.937,\n",
       "  1.37,\n",
       "  10.62,\n",
       "  3.34,\n",
       "  11.73969,\n",
       "  0.546,\n",
       "  1.71,\n",
       "  2.82,\n",
       "  5.2,\n",
       "  13.64,\n",
       "  2.96,\n",
       "  118.23217,\n",
       "  182.43351,\n",
       "  241.86742,\n",
       "  195.14664,\n",
       "  184.34048,\n",
       "  156.05375,\n",
       "  203.41018,\n",
       "  143.02278,\n",
       "  10.3,\n",
       "  72.85079,\n",
       "  238.37131,\n",
       "  26.61699,\n",
       "  51.25631,\n",
       "  13.63484,\n",
       "  20.42286,\n",
       "  6.6,\n",
       "  238.37131,\n",
       "  181.16219,\n",
       "  9.53485,\n",
       "  19.7,\n",
       "  24.1,\n",
       "  42.86581,\n",
       "  7.42,\n",
       "  123.42834,\n",
       "  14.4,\n",
       "  9.51349,\n",
       "  188.02679,\n",
       "  247.90616,\n",
       "  5.57,\n",
       "  98.81588,\n",
       "  238.37131,\n",
       "  54.98431,\n",
       "  13.3,\n",
       "  203.41018,\n",
       "  162.09249,\n",
       "  225.65817,\n",
       "  9.93,\n",
       "  10.3,\n",
       "  4.36,\n",
       "  5.83,\n",
       "  3.59,\n",
       "  10.7,\n",
       "  16.0,\n",
       "  6.46,\n",
       "  9.21,\n",
       "  7.12,\n",
       "  14.8,\n",
       "  10.4,\n",
       "  9.9,\n",
       "  8.58,\n",
       "  8.65,\n",
       "  8.43,\n",
       "  8.31,\n",
       "  6.84,\n",
       "  10.2,\n",
       "  9.04,\n",
       "  14.4,\n",
       "  18.4,\n",
       "  8.92,\n",
       "  15.7,\n",
       "  12.8,\n",
       "  9.74,\n",
       "  1.84,\n",
       "  14.3,\n",
       "  25.1,\n",
       "  8.37,\n",
       "  6.48,\n",
       "  11.0,\n",
       "  2.16,\n",
       "  5.38,\n",
       "  3.18,\n",
       "  13.6,\n",
       "  4.38,\n",
       "  59.1,\n",
       "  16.8,\n",
       "  7.81,\n",
       "  3.23,\n",
       "  30.1,\n",
       "  3.98,\n",
       "  18.7,\n",
       "  5.59,\n",
       "  6.53,\n",
       "  29.4,\n",
       "  2.77,\n",
       "  8.99,\n",
       "  7.13,\n",
       "  0.676,\n",
       "  5.86,\n",
       "  2.51,\n",
       "  8.05,\n",
       "  1.59,\n",
       "  18.8,\n",
       "  6.78,\n",
       "  5.81,\n",
       "  9.34,\n",
       "  5.62,\n",
       "  18.2,\n",
       "  8.45,\n",
       "  15.5,\n",
       "  7.68,\n",
       "  12.1,\n",
       "  10.2,\n",
       "  12.9,\n",
       "  7.33,\n",
       "  5.19,\n",
       "  9.36,\n",
       "  9.44,\n",
       "  12.7,\n",
       "  6.26,\n",
       "  5.6,\n",
       "  2.3,\n",
       "  8.24,\n",
       "  7.77,\n",
       "  10.1,\n",
       "  5.99,\n",
       "  6.25,\n",
       "  8.4,\n",
       "  10.0,\n",
       "  9.91,\n",
       "  6.89,\n",
       "  13.8,\n",
       "  3.87,\n",
       "  3.4,\n",
       "  8.0,\n",
       "  9.58,\n",
       "  5.94,\n",
       "  15.9,\n",
       "  0.961,\n",
       "  7.8,\n",
       "  3.18,\n",
       "  3.0,\n",
       "  6.15,\n",
       "  7.77,\n",
       "  9.4,\n",
       "  2.9,\n",
       "  14.6,\n",
       "  14.1,\n",
       "  6.01,\n",
       "  2.58,\n",
       "  6.21,\n",
       "  7.99,\n",
       "  4.53,\n",
       "  5.79,\n",
       "  3.58,\n",
       "  14.5,\n",
       "  9.9,\n",
       "  7.24,\n",
       "  7.5,\n",
       "  5.0,\n",
       "  6.26,\n",
       "  2.61,\n",
       "  2.78,\n",
       "  4.1,\n",
       "  5.13,\n",
       "  6.71,\n",
       "  11.1,\n",
       "  4.54,\n",
       "  2.02,\n",
       "  2.24,\n",
       "  2.73,\n",
       "  12.2,\n",
       "  7.05,\n",
       "  4.92,\n",
       "  3.4,\n",
       "  4.46,\n",
       "  8.13,\n",
       "  2.82,\n",
       "  6.14,\n",
       "  7.8,\n",
       "  9.46,\n",
       "  6.52,\n",
       "  3.76,\n",
       "  7.97,\n",
       "  2.57,\n",
       "  6.29,\n",
       "  0.313,\n",
       "  14.5,\n",
       "  4.22,\n",
       "  2.92,\n",
       "  7.21,\n",
       "  1.96,\n",
       "  3.66,\n",
       "  4.5,\n",
       "  6.44,\n",
       "  3.13,\n",
       "  1.55,\n",
       "  5.5,\n",
       "  5.49,\n",
       "  5.74,\n",
       "  0.353,\n",
       "  3.11,\n",
       "  4.99,\n",
       "  1.65,\n",
       "  10.1,\n",
       "  1.46,\n",
       "  5.07,\n",
       "  6.44,\n",
       "  6.28,\n",
       "  3.28,\n",
       "  5.52,\n",
       "  10.5,\n",
       "  0.905,\n",
       "  0.179,\n",
       "  8.86,\n",
       "  4.92,\n",
       "  5.13,\n",
       "  9.17,\n",
       "  2.81,\n",
       "  10.6,\n",
       "  3.95,\n",
       "  2.89,\n",
       "  7.18,\n",
       "  8.88,\n",
       "  2.32,\n",
       "  8.98,\n",
       "  0.587,\n",
       "  2.93,\n",
       "  4.03,\n",
       "  3.55,\n",
       "  1.87,\n",
       "  5.14,\n",
       "  9.8,\n",
       "  8.32,\n",
       "  0.76,\n",
       "  3.02,\n",
       "  3.27,\n",
       "  2.77,\n",
       "  1.74,\n",
       "  5.85,\n",
       "  2.51,\n",
       "  2.69,\n",
       "  8.13,\n",
       "  1.33,\n",
       "  1.78,\n",
       "  1.01,\n",
       "  2.41,\n",
       "  2.92,\n",
       "  8.97,\n",
       "  10.4,\n",
       "  7.35,\n",
       "  4.23,\n",
       "  5.89,\n",
       "  7.38,\n",
       "  9.03,\n",
       "  8.72,\n",
       "  5.86,\n",
       "  4.5,\n",
       "  7.53,\n",
       "  9.28,\n",
       "  5.97,\n",
       "  11.5,\n",
       "  4.63,\n",
       "  9.65,\n",
       "  2.95,\n",
       "  7.53,\n",
       "  2.91,\n",
       "  1.76,\n",
       "  0.702,\n",
       "  6.82,\n",
       "  10.2,\n",
       "  9.39,\n",
       "  4.0,\n",
       "  1.68,\n",
       "  3.01,\n",
       "  7.51,\n",
       "  5.13,\n",
       "  3.02,\n",
       "  8.05,\n",
       "  2.21,\n",
       "  6.75,\n",
       "  1.01,\n",
       "  1.09,\n",
       "  5.56,\n",
       "  2.95,\n",
       "  6.0,\n",
       "  2.07,\n",
       "  2.2,\n",
       "  3.9,\n",
       "  1.69,\n",
       "  1.32,\n",
       "  0.79,\n",
       "  4.86,\n",
       "  1.57,\n",
       "  2.26,\n",
       "  3.25,\n",
       "  1.95,\n",
       "  0.337,\n",
       "  3.83,\n",
       "  2.4,\n",
       "  1.39,\n",
       "  0.315,\n",
       "  2.86,\n",
       "  3.47,\n",
       "  4.67,\n",
       "  2.33,\n",
       "  11.3,\n",
       "  29.24036,\n",
       "  238.68913,\n",
       "  211.99155,\n",
       "  242.8209,\n",
       "  129.99182,\n",
       "  194.82881,\n",
       "  165.27077,\n",
       "  203.09235,\n",
       "  181.16219,\n",
       "  225.65817,\n",
       "  14.62011,\n",
       "  5.27,\n",
       "  6.4,\n",
       "  16.3,\n",
       "  20.1,\n",
       "  101.70509,\n",
       "  82.63539,\n",
       "  6.4,\n",
       "  8.4,\n",
       "  240.0,\n",
       "  162.09249,\n",
       "  2.5,\n",
       "  2.48,\n",
       "  37.1,\n",
       "  4.0,\n",
       "  212.94503,\n",
       "  9.95,\n",
       "  6.28,\n",
       "  66.5,\n",
       "  15.4,\n",
       "  140.16233,\n",
       "  96.4,\n",
       "  94.71287,\n",
       "  113.14691,\n",
       "  2.42,\n",
       "  9.0,\n",
       "  1.71,\n",
       "  4.82,\n",
       "  4.91,\n",
       "  182.11568,\n",
       "  3.78,\n",
       "  2.57,\n",
       "  6.36,\n",
       "  48.8,\n",
       "  28.3,\n",
       "  10.8,\n",
       "  222.47988,\n",
       "  2.57,\n",
       "  46.1687,\n",
       "  68.01528,\n",
       "  2.27,\n",
       "  133.4886,\n",
       "  7.32,\n",
       "  2.24,\n",
       "  4.82,\n",
       "  6.37,\n",
       "  206.58846,\n",
       "  26.0,\n",
       "  13.8,\n",
       "  203.41018,\n",
       "  5.45,\n",
       "  3.26,\n",
       "  19.5,\n",
       "  71.51139,\n",
       "  8.96,\n",
       "  3.46,\n",
       "  105.83686,\n",
       "  3.89,\n",
       "  2.1,\n",
       "  8.0,\n",
       "  63.88351,\n",
       "  43.86032,\n",
       "  79.4571,\n",
       "  69.28659,\n",
       "  193.87533,\n",
       "  8.8,\n",
       "  7.51,\n",
       "  139.8445,\n",
       "  225.65817,\n",
       "  117.59651,\n",
       "  197.05361,\n",
       "  211.35589,\n",
       "  82.63539,\n",
       "  222.47988,\n",
       "  85.3,\n",
       "  16.5,\n",
       "  129.03833,\n",
       "  55.61997,\n",
       "  232.01474,\n",
       "  136.66622,\n",
       "  143.02278,\n",
       "  8.35,\n",
       "  168.44906,\n",
       "  24.8,\n",
       "  23.7,\n",
       "  127.13136,\n",
       "  61.5,\n",
       "  4.78,\n",
       "  13.6,\n",
       "  23.6,\n",
       "  2.15,\n",
       "  104.88337,\n",
       "  162.09249,\n",
       "  1.26,\n",
       "  162.09249,\n",
       "  9.6,\n",
       "  1.87,\n",
       "  5.03,\n",
       "  1.87,\n",
       "  5.9,\n",
       "  2.5,\n",
       "  3.75,\n",
       "  1.08,\n",
       "  1.36,\n",
       "  4.59248,\n",
       "  1.75,\n",
       "  5.71,\n",
       "  7.6,\n",
       "  53.83,\n",
       "  25.14472,\n",
       "  19.89606,\n",
       "  8.69,\n",
       "  7.22,\n",
       "  4.55,\n",
       "  10.5,\n",
       "  30.03873,\n",
       "  10.33369,\n",
       "  4.04,\n",
       "  11.2,\n",
       "  9.96,\n",
       "  14.64775,\n",
       "  37.24604,\n",
       "  11.56,\n",
       "  27.5,\n",
       "  7.50192,\n",
       "  17.14419,\n",
       "  31.4968,\n",
       "  10.50968,\n",
       "  8.5,\n",
       "  7.0,\n",
       "  7.35886,\n",
       "  63.88351,\n",
       "  38.02619,\n",
       "  2.14,\n",
       "  3.09,\n",
       "  7.8,\n",
       "  18.4,\n",
       "  10.8,\n",
       "  11.1,\n",
       "  10.2,\n",
       "  9.7,\n",
       "  3.53853,\n",
       "  7.8,\n",
       "  19.2,\n",
       "  13.6,\n",
       "  20.59095,\n",
       "  20.0,\n",
       "  9.9,\n",
       "  3.86,\n",
       "  2.99,\n",
       "  3.16,\n",
       "  5.53,\n",
       "  5.41,\n",
       "  4.82,\n",
       "  7.26,\n",
       "  11.4,\n",
       "  3.12,\n",
       "  9.93,\n",
       "  5.79,\n",
       "  22.8,\n",
       "  2.19,\n",
       "  2.42,\n",
       "  0.363,\n",
       "  2.05,\n",
       "  1.98,\n",
       "  4.38,\n",
       "  0.96,\n",
       "  69.92225,\n",
       "  79.4571,\n",
       "  9.2,\n",
       "  10.36,\n",
       "  17.1,\n",
       "  209.8,\n",
       "  2.59,\n",
       "  3.7,\n",
       "  10.9,\n",
       "  11.2,\n",
       "  3.46,\n",
       "  1.07,\n",
       "  4.06,\n",
       "  5.29,\n",
       "  3.37,\n",
       "  4.43,\n",
       "  126.4,\n",
       "  4.27,\n",
       "  0.894,\n",
       "  5.42,\n",
       "  3.43,\n",
       "  6.0,\n",
       "  0.589,\n",
       "  1.63,\n",
       "  23.7,\n",
       "  1.98,\n",
       "  3.47,\n",
       "  16.5,\n",
       "  2.02,\n",
       "  1.45,\n",
       "  8.05,\n",
       "  5.89,\n",
       "  8.15,\n",
       "  14.2,\n",
       "  0.35,\n",
       "  1.4,\n",
       "  13.2,\n",
       "  25.3,\n",
       "  1.54,\n",
       "  10.15,\n",
       "  9.78,\n",
       "  13.5,\n",
       "  2.5,\n",
       "  24.6,\n",
       "  26.7,\n",
       "  42.0,\n",
       "  84.0,\n",
       "  3.87,\n",
       "  11.8,\n",
       "  3.21,\n",
       "  6.64,\n",
       "  41.31769,\n",
       "  200.2319,\n",
       "  26.1,\n",
       "  117.27868,\n",
       "  26.69759,\n",
       "  208.81326,\n",
       "  3.61,\n",
       "  7.95,\n",
       "  5.76,\n",
       "  6.41,\n",
       "  4.53,\n",
       "  9.6,\n",
       "  9.1,\n",
       "  37.35,\n",
       "  17.142,\n",
       "  2.54,\n",
       "  7.27,\n",
       "  81.62789,\n",
       "  20.05856,\n",
       "  17.30766,\n",
       "  98.52681,\n",
       "  95.34852,\n",
       "  143.02278,\n",
       "  18.496,\n",
       "  7.943,\n",
       "  5.681,\n",
       "  63.56568,\n",
       "  4.0,\n",
       "  6.3,\n",
       "  4.0,\n",
       "  4.2,\n",
       "  7.1,\n",
       "  8.7,\n",
       "  8.9,\n",
       "  3.5,\n",
       "  12.7,\n",
       "  2.45,\n",
       "  2.34,\n",
       "  2.42,\n",
       "  4.45,\n",
       "  1.26,\n",
       "  4.66,\n",
       "  3.5,\n",
       "  11.02,\n",
       "  2.82,\n",
       "  0.422,\n",
       "  0.202,\n",
       "  67.5,\n",
       "  7.41,\n",
       "  11.1,\n",
       "  10.8,\n",
       "  7.56,\n",
       "  7.78,\n",
       "  29.5,\n",
       "  0.449,\n",
       "  1.23,\n",
       "  2.86,\n",
       "  9.19,\n",
       "  8.12,\n",
       "  8.22,\n",
       "  7.52,\n",
       "  8.56,\n",
       "  13.2,\n",
       "  11.84,\n",
       "  57.0,\n",
       "  14.0,\n",
       "  15.0,\n",
       "  6.89,\n",
       "  12.0,\n",
       "  10.5,\n",
       "  3.07,\n",
       "  2.83,\n",
       "  9.9,\n",
       "  4.85,\n",
       "  7.76,\n",
       "  6.68,\n",
       "  13.38,\n",
       "  4.72,\n",
       "  10.52012,\n",
       "  112.2,\n",
       "  13.5,\n",
       "  0.55,\n",
       "  0.72,\n",
       "  0.77,\n",
       "  9.74,\n",
       "  4.32,\n",
       "  1.26,\n",
       "  1.82,\n",
       "  2.52,\n",
       "  2.37,\n",
       "  5.57,\n",
       "  2.23,\n",
       "  0.43,\n",
       "  4.81,\n",
       "  3.06,\n",
       "  4.27,\n",
       "  8.64,\n",
       "  19.3,\n",
       "  7.46,\n",
       "  14.3,\n",
       "  6.94,\n",
       "  8.1,\n",
       "  8.8,\n",
       "  5.3,\n",
       "  14.8,\n",
       "  1.5,\n",
       "  4.77,\n",
       "  3.01,\n",
       "  3.86,\n",
       "  7.72,\n",
       "  3.94,\n",
       "  1.42,\n",
       "  5.03,\n",
       "  33.12,\n",
       "  15.05,\n",
       "  0.818],\n",
       " '2001 to 2010': [228.83,\n",
       "  148.42,\n",
       "  69.92,\n",
       "  8.17,\n",
       "  8.4,\n",
       "  22.1,\n",
       "  104.244,\n",
       "  11.09,\n",
       "  216.0,\n",
       "  166.86075,\n",
       "  67.059,\n",
       "  62.61,\n",
       "  92.802,\n",
       "  238.3725,\n",
       "  180.84527,\n",
       "  22.2481,\n",
       "  206.5895,\n",
       "  213.255,\n",
       "  238.05467,\n",
       "  79.4575,\n",
       "  54.0311,\n",
       "  130.3103,\n",
       "  16.0,\n",
       "  28.6047,\n",
       "  50.8528,\n",
       "  82.95,\n",
       "  85.8141,\n",
       "  55.30242,\n",
       "  6.3566,\n",
       "  119.96298,\n",
       "  120.7754,\n",
       "  235.18,\n",
       "  22.1,\n",
       "  140.79869,\n",
       "  85.8141,\n",
       "  209.7678,\n",
       "  190.06234,\n",
       "  25.74423,\n",
       "  127.132,\n",
       "  165.265,\n",
       "  162.0933,\n",
       "  181.1631,\n",
       "  63.566,\n",
       "  222.481,\n",
       "  133.4886,\n",
       "  8.4,\n",
       "  197.0546,\n",
       "  152.5584,\n",
       "  104.56607,\n",
       "  72.46524,\n",
       "  127.132,\n",
       "  15.8915,\n",
       "  184.33,\n",
       "  137.62039,\n",
       "  31.783,\n",
       "  79.4575,\n",
       "  168.4499,\n",
       "  155.7367,\n",
       "  66.7443,\n",
       "  216.1244,\n",
       "  31.46517,\n",
       "  17.98,\n",
       "  117.59,\n",
       "  227.88411,\n",
       "  8.3,\n",
       "  139.8452,\n",
       "  22.2481,\n",
       "  114.4188,\n",
       "  24.472,\n",
       "  212.31044,\n",
       "  140.16303,\n",
       "  187.5197,\n",
       "  3.3,\n",
       "  23.4,\n",
       "  67.3,\n",
       "  14.1,\n",
       "  5.5,\n",
       "  20.0,\n",
       "  197.046,\n",
       "  174.799,\n",
       "  247.9074,\n",
       "  114.4188,\n",
       "  171.6282,\n",
       "  247.9074,\n",
       "  95.345,\n",
       "  212.9461,\n",
       "  139.8452,\n",
       "  73.1009,\n",
       "  151.916,\n",
       "  177.9848,\n",
       "  117.5971,\n",
       "  179.89178,\n",
       "  12.7132,\n",
       "  104.0,\n",
       "  96.7,\n",
       "  26.69772,\n",
       "  184.3414,\n",
       "  66.741,\n",
       "  114.41,\n",
       "  198.0,\n",
       "  25.0,\n",
       "  6.44,\n",
       "  4.15,\n",
       "  249.05159,\n",
       "  47.6725,\n",
       "  19.069,\n",
       "  6.3566,\n",
       "  104.3,\n",
       "  18.94937,\n",
       "  176.03781,\n",
       "  60.16492,\n",
       "  174.4878,\n",
       "  22.2481,\n",
       "  111.42,\n",
       "  127.76702,\n",
       "  143.0235,\n",
       "  222.472,\n",
       "  231.0,\n",
       "  86.0,\n",
       "  171.621,\n",
       "  5.1,\n",
       "  18.2,\n",
       "  22.9,\n",
       "  4.07661,\n",
       "  8.4,\n",
       "  15.8,\n",
       "  5.5,\n",
       "  1.7,\n",
       "  115.84733,\n",
       "  15.17685,\n",
       "  6.3566,\n",
       "  203.0,\n",
       "  171.0,\n",
       "  196.85951,\n",
       "  214.53525,\n",
       "  207.22516,\n",
       "  221.20968,\n",
       "  10.2,\n",
       "  11.8,\n",
       "  18.1,\n",
       "  6.3566,\n",
       "  187.5197,\n",
       "  43.4,\n",
       "  29.9,\n",
       "  3.33,\n",
       "  54.4738,\n",
       "  7.99,\n",
       "  44.812,\n",
       "  6.83,\n",
       "  14.6,\n",
       "  13.1,\n",
       "  11.75,\n",
       "  25.1,\n",
       "  23.9,\n",
       "  21.4,\n",
       "  64.4,\n",
       "  10.17,\n",
       "  116.0,\n",
       "  4.0,\n",
       "  6.6,\n",
       "  9.5,\n",
       "  1.9,\n",
       "  2.9,\n",
       "  7.3,\n",
       "  8.0,\n",
       "  2.0,\n",
       "  25.0]}"
      ]
     },
     "execution_count": 50,
     "metadata": {},
     "output_type": "execute_result"
    }
   ],
   "source": [
    "# first compute and store the dictionaries 'planet_masses', and 'planet_radii'\n",
    "# do NOT create the plot just yet\n",
    "\n",
    "planet_masses = {}\n",
    "planet_radii = {}\n",
    "\n",
    "for planet in small_planets_list:\n",
    "    method = planet.discovery_method\n",
    "    mass = planet.planet_mass\n",
    "    radius = planet.planet_radius\n",
    "    planet_discovery_year = planet.discovery_year\n",
    "    planet_discovery_decade = year_to_decade(planet_discovery_year)\n",
    "    \n",
    "    if method == None or mass == None or radius == None:\n",
    "        continue\n",
    "    if mass > 250:\n",
    "        continue\n",
    "    if planet_discovery_decade not in planet_masses:\n",
    "        planet_masses[planet_discovery_decade] = []\n",
    "        planet_radii[planet_discovery_decade] = []\n",
    "        \n",
    "    planet_masses[planet_discovery_decade].append(mass)\n",
    "    planet_radii[planet_discovery_decade].append(radius)\n",
    "\n",
    "planet_masses"
   ]
  },
  {
   "cell_type": "code",
   "execution_count": 51,
   "id": "e50fcc09",
   "metadata": {
    "deletable": false,
    "editable": true
   },
   "outputs": [
    {
     "name": "stdout",
     "output_type": "stream",
     "text": [
      "Make sure you saved the notebook before running this cell. Running check for lab-q14...\n",
      "Great job! You passed all test cases for this question.\n"
     ]
    },
    {
     "data": {
      "text/plain": [
       "True"
      ]
     },
     "execution_count": 51,
     "metadata": {},
     "output_type": "execute_result"
    }
   ],
   "source": [
    "student_grader.check(\"lab-q14\", should_get_llm_feedback=False)"
   ]
  },
  {
   "cell_type": "markdown",
   "id": "f3bacdfb",
   "metadata": {
    "deletable": false,
    "editable": false
   },
   "source": [
    "Now, **plot** `planet_masses` and `planet_radii` as **scatter plot** with the **x-axis** labelled *Planet Mass*, and the **y-axis** labelled *Planet Radius*. Your plot should look like this:"
   ]
  },
  {
   "cell_type": "markdown",
   "id": "fe178940",
   "metadata": {
    "deletable": false,
    "editable": false
   },
   "source": [
    "<div><img src=\"images/lab-q15.jpg\" style=\"height: 300px;\"/></div>"
   ]
  },
  {
   "cell_type": "code",
   "execution_count": 52,
   "id": "d35e5845",
   "metadata": {
    "deletable": false
   },
   "outputs": [
    {
     "data": {
      "image/png": "[encoded data removed]",
      "text/plain": [
       "<Figure size 640x480 with 1 Axes>"
      ]
     },
     "metadata": {},
     "output_type": "display_data"
    }
   ],
   "source": [
    "# plot 'planet_masses' and 'planet_radii'\n",
    "\n",
    "plot_scatter_multiple(planet_masses, planet_radii, x_label = 'Planet Radius', y_label = 'planet_radii',)\n"
   ]
  },
  {
   "cell_type": "markdown",
   "id": "082885a8-86df-4699-865a-67d135d1666c",
   "metadata": {
    "deletable": false,
    "editable": false
   },
   "source": [
    "### Segment 2: Recursion"
   ]
  },
  {
   "cell_type": "markdown",
   "id": "ac014ddc",
   "metadata": {
    "deletable": false,
    "editable": false
   },
   "source": [
    "In addition to **scatter plots**, you will also have to write some **recursive** functions in P11. You can now practice creating some **recursive** functions here."
   ]
  },
  {
   "cell_type": "markdown",
   "id": "85e610b9-3b77-4835-8b42-4e017343e28e",
   "metadata": {
    "deletable": false,
    "editable": false
   },
   "source": [
    "### Task 2.1: Flattening a Nested List"
   ]
  },
  {
   "cell_type": "markdown",
   "id": "370039a1",
   "metadata": {
    "deletable": false,
    "editable": false
   },
   "source": [
    "A **nested list** is a **list** which contains **lists** as its elements, and these **lists** can themselves contain other **lists** (and so on). **Flattening** a **nested list** involves extracting all the elements in a **nested list**. For example, if a **nested list** is as follows:\n",
    "\n",
    "```python\n",
    "[[1, 2], 3, [4, [5, 6], [[7], 8, [9, 10]]]]\n",
    "```\n",
    "\n",
    "then the **flattened** version of this list would be:\n",
    "\n",
    "```python\n",
    "[1, 2, 3, 4, 5, 6, 7, 8, 9, 10]\n",
    "```"
   ]
  },
  {
   "cell_type": "markdown",
   "id": "3ed9006c-109c-4746-ba2f-ce0a0a2c0a6f",
   "metadata": {
    "deletable": false,
    "editable": false
   },
   "source": [
    "### Lab Function 3: `flatten(some_list)`"
   ]
  },
  {
   "cell_type": "markdown",
   "id": "3a077fe2",
   "metadata": {
    "deletable": false,
    "editable": false
   },
   "source": [
    "We are now going to write a **recursive** function to **flatten** a **nested list** and print out all the elements in list.\n",
    "\n",
    "Let's first consider a **simple case**: when there are no **nested lists** inside the input **list** (i.e., there could be **lists** inside the input **list** but these **lists** have no additional **lists** inside them)."
   ]
  },
  {
   "cell_type": "markdown",
   "id": "5597c099-4840-4de0-a2f2-dff992137c7c",
   "metadata": {
    "deletable": false,
    "editable": false
   },
   "source": [
    "Points possible: 6.0"
   ]
  },
  {
   "cell_type": "code",
   "execution_count": 53,
   "id": "9122e785",
   "metadata": {
    "deletable": false,
    "editable": true,
    "tags": [
     "lab-flatten-code"
    ]
   },
   "outputs": [],
   "source": [
    "# we have started this function for you\n",
    "\n",
    "# NOTE: THE GRADER WILL FAIL WHEN YOU FIRST RUN IT\n",
    "# You will have to come back and modify this function after a few questions \n",
    "# After modifying the function, the grader should pass if done correctly.\n",
    "\n",
    "def flatten(some_list):\n",
    "    # initialize an empty list into a variable called 'flattened_list'   \n",
    "    flattened_list = []\n",
    "    # iterate over every item inside some_list\n",
    "    for item in some_list:\n",
    "        # if item is a list, extend new list by item\n",
    "        if type(item) == list:\n",
    "             flattened_list.extend(flatten(item))\n",
    "        # otherwise, append item to the new list\n",
    "        else:\n",
    "            flattened_list.append(item)\n",
    "    return flattened_list"
   ]
  },
  {
   "cell_type": "code",
   "execution_count": 54,
   "id": "d00f4480-ba63-4977-94bd-f6c18509d15d",
   "metadata": {
    "deletable": false,
    "editable": true
   },
   "outputs": [
    {
     "name": "stdout",
     "output_type": "stream",
     "text": [
      "Make sure you saved the notebook before running this cell. Running check for lab-flatten...\n",
      "Great job! You passed all test cases for this question.\n"
     ]
    },
    {
     "data": {
      "text/plain": [
       "True"
      ]
     },
     "execution_count": 54,
     "metadata": {},
     "output_type": "execute_result"
    }
   ],
   "source": [
    "student_grader.check(\"lab-flatten\", should_get_llm_feedback=False)"
   ]
  },
  {
   "cell_type": "markdown",
   "id": "b6754324-e69d-4fd2-86ba-babb5f024c34",
   "metadata": {
    "deletable": false,
    "editable": false
   },
   "source": [
    "#### Lab Question 15: What is the output of `flatten(['rabbit', ['cat'], ['lion', 'chimpanzee']])`?"
   ]
  },
  {
   "cell_type": "markdown",
   "id": "737dbef6",
   "metadata": {
    "deletable": false,
    "editable": false
   },
   "source": [
    "Run the cell below to see how the flatten function works."
   ]
  },
  {
   "cell_type": "markdown",
   "id": "0d571147-4938-444f-b801-de1b5f311270",
   "metadata": {
    "deletable": false,
    "editable": false
   },
   "source": [
    "Points possible: 4.0"
   ]
  },
  {
   "cell_type": "code",
   "execution_count": 55,
   "id": "ca71f37a",
   "metadata": {
    "deletable": false,
    "editable": true,
    "tags": [
     "lab-q15-code"
    ]
   },
   "outputs": [
    {
     "data": {
      "text/plain": [
       "['rabbit', 'cat', 'lion', 'chimpanzee']"
      ]
     },
     "execution_count": 55,
     "metadata": {},
     "output_type": "execute_result"
    }
   ],
   "source": [
    "# we have done this one for you\n",
    "\n",
    "animals = flatten(['rabbit', ['cat'], ['lion', 'chimpanzee']])\n",
    "\n",
    "animals"
   ]
  },
  {
   "cell_type": "code",
   "execution_count": 56,
   "id": "d1078c68",
   "metadata": {
    "deletable": false,
    "editable": true
   },
   "outputs": [
    {
     "name": "stdout",
     "output_type": "stream",
     "text": [
      "Make sure you saved the notebook before running this cell. Running check for lab-q15...\n",
      "Great job! You passed all test cases for this question.\n"
     ]
    },
    {
     "data": {
      "text/plain": [
       "True"
      ]
     },
     "execution_count": 56,
     "metadata": {},
     "output_type": "execute_result"
    }
   ],
   "source": [
    "student_grader.check(\"lab-q15\", should_get_llm_feedback=False)"
   ]
  },
  {
   "cell_type": "markdown",
   "id": "7ba2b8a8",
   "metadata": {
    "deletable": false,
    "editable": false
   },
   "source": [
    "The function `flatten` works when the input is a **list** which does not have any **nested lists** inside it. While this is a good start, we are not finished yet, as this next example shows:"
   ]
  },
  {
   "cell_type": "code",
   "execution_count": 57,
   "id": "040a0ace",
   "metadata": {
    "deletable": false
   },
   "outputs": [
    {
     "name": "stdout",
     "output_type": "stream",
     "text": [
      "flatten does this:  ['turtle', 'skunk', 'raccoon', 'crocodile']\n",
      "flatten should do this:  ['turtle', 'skunk', 'raccoon', 'crocodile']\n"
     ]
    }
   ],
   "source": [
    "# run this cell\n",
    "\n",
    "nested_animals = [\"turtle\", [\"skunk\", [\"raccoon\"], \"crocodile\"]]\n",
    "\n",
    "print(\"flatten does this: \", flatten(nested_animals))\n",
    "print(\"flatten should do this: \", ['turtle', 'skunk', 'raccoon', 'crocodile'])"
   ]
  },
  {
   "cell_type": "markdown",
   "id": "4288c4f0",
   "metadata": {
    "deletable": false,
    "editable": false
   },
   "source": [
    "Go back and **update** the function so that it works even if the **lists** in the input `some_list` have additional **nested lists** inside them.\n",
    "\n",
    "Here is some hints for how your function **must** look:\n",
    "\n",
    "```python\n",
    "def flatten(some_list):\n",
    "    # TODO: initialize an empty list into a variable called 'flattened_list'\n",
    "    # TODO: iterate over every 'item' inside 'some_list'\n",
    "        # TODO: check if type of 'item' is list\n",
    "            # TODO: call 'flatten' function on 'item'\n",
    "            # TODO: add the elements of the returned list to 'flattened_list'\n",
    "        # TODO: if item is not a list, just add to 'flattened_list'\n",
    "    # TODO: return 'flattened_list'\n",
    "```\n",
    "\n",
    "**Hint:** Now would be a good time for you to review `append` vs `extend` list methods. Run the following cell to see what these list methods do:"
   ]
  },
  {
   "cell_type": "code",
   "execution_count": 58,
   "id": "d525c667",
   "metadata": {
    "deletable": false
   },
   "outputs": [
    {
     "name": "stdout",
     "output_type": "stream",
     "text": [
      "'append' does this: [1, 2, 3, 4, [4, 5, 6]]\n",
      "'extend' does this: [1, 2, 3, 4, 4, 5, 6]\n"
     ]
    }
   ],
   "source": [
    "# run this cell\n",
    "\n",
    "list1 = [1, 2, 3, 4]\n",
    "list1.append([4, 5, 6])\n",
    "print(\"'append' does this:\", list1)\n",
    "\n",
    "list2 = [1, 2, 3, 4]\n",
    "list2.extend([4, 5, 6])\n",
    "print(\"'extend' does this:\", list2)"
   ]
  },
  {
   "cell_type": "markdown",
   "id": "f4c98fb5",
   "metadata": {
    "deletable": false,
    "editable": false
   },
   "source": [
    "**Warning:** `flatten` is quite a complicated function, so do **not** try to implement it in one sitting. Practice incremental coding here. First, try to **print** the outcome the recursive call to `flatten(item)` before you figure out how to add it to your list `flattened_list`."
   ]
  },
  {
   "cell_type": "markdown",
   "id": "c41a8c12-a2d2-4936-8f2f-3b0f1417e6ef",
   "metadata": {
    "deletable": false,
    "editable": false
   },
   "source": [
    "#### Lab Question 16: What is the output of the `flatten` function when run against the below **nested list** `nested_names`?"
   ]
  },
  {
   "cell_type": "markdown",
   "id": "01003ead",
   "metadata": {
    "deletable": false,
    "editable": false
   },
   "source": [
    "```python\n",
    "nested_names = [\"Adam\", [\"Bob\", [\"Chet\"]], \"Bea\", [\"Treasure\", \"Andy\", [\"Ann\"]]]\n",
    "```"
   ]
  },
  {
   "cell_type": "markdown",
   "id": "9a72c14f-51ba-4d0f-8d8a-42060f609b17",
   "metadata": {
    "deletable": false,
    "editable": false
   },
   "source": [
    "Points possible: 4.0"
   ]
  },
  {
   "cell_type": "code",
   "execution_count": 59,
   "id": "89a09123",
   "metadata": {
    "deletable": false,
    "editable": true,
    "tags": [
     "lab-q16-code"
    ]
   },
   "outputs": [
    {
     "data": {
      "text/plain": [
       "['Adam', 'Bob', 'Chet', 'Bea', 'Treasure', 'Andy', 'Ann']"
      ]
     },
     "execution_count": 59,
     "metadata": {},
     "output_type": "execute_result"
    }
   ],
   "source": [
    "# replace ... with your code\n",
    "\n",
    "nested_names = [\"Adam\", [\"Bob\", [\"Chet\"]], \"Bea\", [\"Treasure\", \"Andy\", [\"Ann\"]]]\n",
    "\n",
    "flattened_names = flatten(nested_names)\n",
    "\n",
    "flattened_names"
   ]
  },
  {
   "cell_type": "code",
   "execution_count": 60,
   "id": "7cefa63b",
   "metadata": {
    "deletable": false,
    "editable": true
   },
   "outputs": [
    {
     "name": "stdout",
     "output_type": "stream",
     "text": [
      "Make sure you saved the notebook before running this cell. Running check for lab-q16...\n",
      "Great job! You passed all test cases for this question.\n"
     ]
    },
    {
     "data": {
      "text/plain": [
       "True"
      ]
     },
     "execution_count": 60,
     "metadata": {},
     "output_type": "execute_result"
    }
   ],
   "source": [
    "student_grader.check(\"lab-q16\", should_get_llm_feedback=False)"
   ]
  },
  {
   "cell_type": "markdown",
   "id": "9ad87f05-8ffa-4a39-bf81-991037041c35",
   "metadata": {
    "deletable": false,
    "editable": false
   },
   "source": [
    "#### Lab Question 17: What is the output of the `flatten` function when run against the below **nested list** `more_nested_names`?"
   ]
  },
  {
   "cell_type": "markdown",
   "id": "cc1291c9",
   "metadata": {
    "deletable": false,
    "editable": false
   },
   "source": [
    "```python\n",
    "more_nested_names = [\"Adam\", [\"Bob\", [\"Chet\", \"Cat\"], \"Barb\", \"Bert\"], \"Alex\", [\"Bea\", [\"Gold\", \\\n",
    "                     [\"Andy\"]], \"Ann\"]]\n",
    "```"
   ]
  },
  {
   "cell_type": "markdown",
   "id": "f52f68f8-ae4f-4c48-8fed-7f2148af3a74",
   "metadata": {
    "deletable": false,
    "editable": false
   },
   "source": [
    "Points possible: 4.0"
   ]
  },
  {
   "cell_type": "code",
   "execution_count": 61,
   "id": "fd040f6f",
   "metadata": {
    "deletable": false,
    "editable": true,
    "tags": [
     "lab-q17-code"
    ]
   },
   "outputs": [
    {
     "data": {
      "text/plain": [
       "['Adam',\n",
       " 'Bob',\n",
       " 'Chet',\n",
       " 'Cat',\n",
       " 'Barb',\n",
       " 'Bert',\n",
       " 'Alex',\n",
       " 'Bea',\n",
       " 'Gold',\n",
       " 'Andy',\n",
       " 'Ann']"
      ]
     },
     "execution_count": 61,
     "metadata": {},
     "output_type": "execute_result"
    }
   ],
   "source": [
    "# replace ... with your code\n",
    "\n",
    "more_nested_names = [\"Adam\", [\"Bob\", [\"Chet\", \"Cat\"], \"Barb\", \"Bert\"], \"Alex\", [\"Bea\", [\"Gold\", \\\n",
    "                     [\"Andy\"]], \"Ann\"]]\n",
    "\n",
    "more_flattened_names = flatten(more_nested_names)\n",
    "\n",
    "more_flattened_names"
   ]
  },
  {
   "cell_type": "code",
   "execution_count": 62,
   "id": "5e6d1a55",
   "metadata": {
    "deletable": false,
    "editable": true
   },
   "outputs": [
    {
     "name": "stdout",
     "output_type": "stream",
     "text": [
      "Make sure you saved the notebook before running this cell. Running check for lab-q17...\n",
      "Great job! You passed all test cases for this question.\n"
     ]
    },
    {
     "data": {
      "text/plain": [
       "True"
      ]
     },
     "execution_count": 62,
     "metadata": {},
     "output_type": "execute_result"
    }
   ],
   "source": [
    "student_grader.check(\"lab-q17\", should_get_llm_feedback=False)"
   ]
  },
  {
   "cell_type": "markdown",
   "id": "79c01404-cc07-4711-a6ec-7703f1ba70dc",
   "metadata": {
    "deletable": false,
    "editable": false
   },
   "source": [
    "### Task 2.2: Explore a directory recursively"
   ]
  },
  {
   "cell_type": "markdown",
   "id": "ab28e1c8",
   "metadata": {
    "deletable": false,
    "editable": false
   },
   "source": [
    "In Task 2.1, we practiced how to **recursively** collect elements in a **nested list**. In Task 2.2, we are going to **recursively** collect all the **paths** of files in a **given directory**. After collecting them, your function `get_all_paths_in` will return a **list of paths**  to files inside this directory, that has been **sorted** in **reverse-alphabetical** order after **splitting** by the **path separator**. We will practice our function on the `sample_data` directory."
   ]
  },
  {
   "cell_type": "markdown",
   "id": "8f0a67a8-a54c-4b2b-a87e-6befe041f0e3",
   "metadata": {
    "deletable": false,
    "editable": false
   },
   "source": [
    "#### Lab Question 18: What are the **files** and **sub-directories** that are inside the `sample_data` directory?"
   ]
  },
  {
   "cell_type": "markdown",
   "id": "4537563c",
   "metadata": {
    "deletable": false,
    "editable": false
   },
   "source": [
    "Your output **must** be a **list** containing the **names** of the **files** and **sub-directories**. You **must** ignore all files and sub-directories whose names begin `\".\"`. You **must** **explicitly** sort the **list** in **descending** (i.e., reverse alphabetical) **order** after **splitting** by the **path separator**.\n",
    "\n",
    "<h3 style=\"color:red\">Important Warning:</h3> \n",
    "\n",
    "It is important to remember that the output of `os.listdir` must always be **sorted** before it is used. It is also important to remember that while sorting, you **must** **split** the paths by the **path separator**. To recall why these steps are necessary, it is recommended that you read through Segment 2 of Lab-P10."
   ]
  },
  {
   "cell_type": "markdown",
   "id": "bd3891bf-397a-4125-8d00-f8a205118c3c",
   "metadata": {
    "deletable": false,
    "editable": false
   },
   "source": [
    "Points possible: 4.0"
   ]
  },
  {
   "cell_type": "code",
   "execution_count": 63,
   "id": "6a68bb8b",
   "metadata": {
    "deletable": false,
    "editable": true,
    "tags": [
     "lab-q18-code"
    ]
   },
   "outputs": [
    {
     "data": {
      "text/plain": [
       "['file_1.json', '100', '10']"
      ]
     },
     "execution_count": 63,
     "metadata": {},
     "output_type": "execute_result"
    }
   ],
   "source": [
    "# we have done this one for you\n",
    "\n",
    "# even though there are no path separators in `sample_data_contents`, it is still a good idea to sort\n",
    "# after splitting by the path separator, so you don't forget to do that when it will actually be necessary\n",
    "directory = \"sample_data\"\n",
    "sample_data_contents = sorted([content for content in os.listdir(directory) if not content.startswith(\".\")],\\\n",
    "                              key=lambda content: content.split(os.path.sep), reverse=True)\n",
    "\n",
    "sample_data_contents"
   ]
  },
  {
   "cell_type": "code",
   "execution_count": 64,
   "id": "d1fb78cb",
   "metadata": {
    "deletable": false,
    "editable": true
   },
   "outputs": [
    {
     "name": "stdout",
     "output_type": "stream",
     "text": [
      "Make sure you saved the notebook before running this cell. Running check for lab-q18...\n",
      "Great job! You passed all test cases for this question.\n"
     ]
    },
    {
     "data": {
      "text/plain": [
       "True"
      ]
     },
     "execution_count": 64,
     "metadata": {},
     "output_type": "execute_result"
    }
   ],
   "source": [
    "student_grader.check(\"lab-q18\", should_get_llm_feedback=False)"
   ]
  },
  {
   "cell_type": "markdown",
   "id": "e7d14851-5ac2-409a-a295-ebfb842de4b6",
   "metadata": {
    "deletable": false,
    "editable": false
   },
   "source": [
    "#### Lab Question 19: How **many** **files** (i.e., **not** **sub-directories**) are in the `sample_data` directory?"
   ]
  },
  {
   "cell_type": "markdown",
   "id": "7881d122",
   "metadata": {
    "deletable": false,
    "editable": false
   },
   "source": [
    "Your output **must** be an **int**. You **must** ignore all files whose names begin `\".\"`.\n",
    "\n",
    "**Hints:**\n",
    "\n",
    "1. Use the `os.path.isfile` function to recognize **files** from **directories**.\n",
    "2. You **must** pass the **relative path** of the **file** to determine if it is a file. For example, if you want to determine if the file `file_1.json` inside the directory `sample_data` is a **file**, you must use\n",
    "\n",
    "```python\n",
    "os.path.isfile(os.path.join(\"sample_data\", \"file_1.json\"))\n",
    "```"
   ]
  },
  {
   "cell_type": "markdown",
   "id": "309f85f0-ead5-4093-b463-9152cacdc06b",
   "metadata": {
    "deletable": false,
    "editable": false
   },
   "source": [
    "Points possible: 4.0"
   ]
  },
  {
   "cell_type": "code",
   "execution_count": 65,
   "id": "7cb47a4f",
   "metadata": {
    "deletable": false,
    "editable": true,
    "tags": [
     "lab-q19-code"
    ]
   },
   "outputs": [
    {
     "data": {
      "text/plain": [
       "1"
      ]
     },
     "execution_count": 65,
     "metadata": {},
     "output_type": "execute_result"
    }
   ],
   "source": [
    "# compute and store the answer in the variable 'num_sample_data_files', then display it\n",
    "\n",
    "directory = \"sample_data\"\n",
    "\n",
    "# TODO: find the number of files in 'directory'\n",
    "\n",
    "num_sample_data_files = len([file for file in os.listdir(directory) if os.path.isfile(os.path.join(\"sample_data\", file))==True])\n",
    "\n",
    "num_sample_data_files"
   ]
  },
  {
   "cell_type": "code",
   "execution_count": 66,
   "id": "801becf1",
   "metadata": {
    "deletable": false,
    "editable": true
   },
   "outputs": [
    {
     "name": "stdout",
     "output_type": "stream",
     "text": [
      "Make sure you saved the notebook before running this cell. Running check for lab-q19...\n",
      "Great job! You passed all test cases for this question.\n"
     ]
    },
    {
     "data": {
      "text/plain": [
       "True"
      ]
     },
     "execution_count": 66,
     "metadata": {},
     "output_type": "execute_result"
    }
   ],
   "source": [
    "student_grader.check(\"lab-q19\", should_get_llm_feedback=False)"
   ]
  },
  {
   "cell_type": "markdown",
   "id": "31e7ff9e-d375-47fc-85d1-a4fce9d85a9a",
   "metadata": {
    "deletable": false,
    "editable": false
   },
   "source": [
    "#### Lab Question 20: What are the **relative paths** of the **sub-directories** (i.e., **not files**) that are inside the `sample_data` directory?"
   ]
  },
  {
   "cell_type": "markdown",
   "id": "53a9917b",
   "metadata": {
    "deletable": false,
    "editable": false
   },
   "source": [
    "Your output **must** be a **list** containing the **relative paths** of the **sub-directories**. You **must** ignore all sub-directories whose names begin `\".\"`. You **must** **explicitly** sort the **list** in **descending** (i.e., reverse alphabetical) **order** after **splitting** by the **path separator**.\n",
    "\n",
    "**Hint:** Use the `os.path.isdir` function to differentiate between **directories** and files.\n",
    "\n",
    "**Warning:** Use `os.path.join` to get the **relative paths** of the **sub-directories**. Remember you **must not** hardcode `'\\\\'` or `'/'` in your paths."
   ]
  },
  {
   "cell_type": "markdown",
   "id": "03237f4e-2c48-4ae0-82b6-7b797ee729a2",
   "metadata": {
    "deletable": false,
    "editable": false
   },
   "source": [
    "Points possible: 4.0"
   ]
  },
  {
   "cell_type": "code",
   "execution_count": 67,
   "id": "1f171980",
   "metadata": {
    "deletable": false,
    "editable": true,
    "tags": [
     "lab-q20-code"
    ]
   },
   "outputs": [
    {
     "data": {
      "text/plain": [
       "['sample_data/100', 'sample_data/10']"
      ]
     },
     "execution_count": 67,
     "metadata": {},
     "output_type": "execute_result"
    }
   ],
   "source": [
    "# compute and store the answer in the variable 'sample_data_directories', then display it\n",
    "\n",
    "directory = \"sample_data\"\n",
    "\n",
    "# TODO: list the sub-directories in 'directory'\n",
    "\n",
    "sample_data_directories = sorted([os.path.join(directory,file) for file in os.listdir(directory) if os.path.isdir(os.path.join(\"sample_data\", file))==True],reverse=True)\n",
    "\n",
    "sample_data_directories"
   ]
  },
  {
   "cell_type": "code",
   "execution_count": 68,
   "id": "c0557087",
   "metadata": {
    "deletable": false,
    "editable": true
   },
   "outputs": [
    {
     "name": "stdout",
     "output_type": "stream",
     "text": [
      "Make sure you saved the notebook before running this cell. Running check for lab-q20...\n",
      "Great job! You passed all test cases for this question.\n"
     ]
    },
    {
     "data": {
      "text/plain": [
       "True"
      ]
     },
     "execution_count": 68,
     "metadata": {},
     "output_type": "execute_result"
    }
   ],
   "source": [
    "student_grader.check(\"lab-q20\", should_get_llm_feedback=False)"
   ]
  },
  {
   "cell_type": "markdown",
   "id": "2b2cfe27",
   "metadata": {
    "deletable": false,
    "editable": false
   },
   "source": [
    "We are now ready to define our recursive function."
   ]
  },
  {
   "cell_type": "markdown",
   "id": "6cff9352",
   "metadata": {
    "deletable": false,
    "editable": false
   },
   "source": [
    "### Lab Function 4:  `get_all_paths_in(directory)`"
   ]
  },
  {
   "cell_type": "markdown",
   "id": "eea44973-47a5-4ba0-afb5-89e1139cbc4b",
   "metadata": {
    "deletable": false,
    "editable": false
   },
   "source": [
    "You **must** write this function that takes in the **relative path** of a `directory` as its input, and returns a **list** of **relative paths** of all the **files** inside `directory` and its subdirectories.\n",
    "\n",
    "Note: In any of these directories, you may see auto-generated files/directories named `.DS_Store` and `.ipynb_checkpoints`. You **must** **ignore** these (all files that start with `\".\"`), and your output **must** be **explicitly** sorted in **reverse alphabetical** order after **splitting** by the **path separator**.\n",
    "\n",
    "In other words, if a directory `sample_data` looks like this:\n",
    "```\n",
    "+-- sample_data\n",
    "|   +-- .DS_Store    [possibly]\n",
    "|   +-- file_1.json\n",
    "|   +-- 10\n",
    "|   |   +-- .ipynb_checkpoints    [possibly]\n",
    "|   |   +-- file_2.json\n",
    "|   |   +-- file_3.json\n",
    "|   +-- 100\n",
    "|   |   +-- file_4.json\n",
    "|   |   +-- 1000\n",
    "|   |   |   +-- file_5.json\n",
    "```\n",
    "\n",
    "then the output of the function call `get_all_paths_in(\"sample_data\")` must be **one of the two lists below**, depending on whether the code is run on a Windows computer or a Mac: \n",
    "```python\n",
    "['sample_data\\\\file_1.json',\n",
    " 'sample_data\\\\100\\\\file_4.json',\n",
    " 'sample_data\\\\100\\\\1000\\\\file_5.json',\n",
    " 'sample_data\\\\10\\\\file_3.json',\n",
    " 'sample_data\\\\10\\\\file_2.json']\n",
    "```\n",
    "OR\n",
    "```python\n",
    "['sample_data/file_1.json',\n",
    " 'sample_data/100/file_4.json',\n",
    " 'sample_data/100/1000/file_5.json',\n",
    " 'sample_data/10/file_3.json',\n",
    " 'sample_data/10/file_2.json']\n",
    "```"
   ]
  },
  {
   "cell_type": "markdown",
   "id": "f904da6b-390d-4e28-870a-09c6093ab2ae",
   "metadata": {
    "deletable": false,
    "editable": false
   },
   "source": [
    "Points possible: 6.0"
   ]
  },
  {
   "cell_type": "code",
   "execution_count": 69,
   "id": "b82200bf",
   "metadata": {
    "deletable": false,
    "editable": true,
    "tags": [
     "lab-get_all_paths_in-code"
    ]
   },
   "outputs": [],
   "source": [
    "# define the 'get_all_paths_in' function here\n",
    "\n",
    "def get_all_paths_in(directory):\n",
    "    # TODO: initialize an empty list\n",
    "    path_list = []\n",
    "    # TODO: loop through all files and directories in 'directory' that do not start with \".\"\n",
    "    for item in os.listdir(directory):\n",
    "    # TODO: check if it is a directory\n",
    "        full_path = os.path.join(directory, item)\n",
    "        if item.startswith('.') == True:\n",
    "            continue\n",
    "        if os.path.isdir(full_path):\n",
    "            # TODO: call 'get_all_paths_in' and add returned paths to your list\n",
    "                path_list.extend(get_all_paths_in(full_path))\n",
    "        # TODO: if it is a file, directly add to your list\n",
    "        elif os.path.isfile(full_path):\n",
    "                path_list.append(full_path)\n",
    "    # TODO: sort the list of paths after splitting by the path separator and then return the list\n",
    "    \n",
    "    return sorted(path_list,reverse=True)\n",
    "\n"
   ]
  },
  {
   "cell_type": "code",
   "execution_count": 70,
   "id": "80d8e86c-1b45-492d-b3ed-4d7765e58ad1",
   "metadata": {
    "deletable": false,
    "editable": true
   },
   "outputs": [
    {
     "name": "stdout",
     "output_type": "stream",
     "text": [
      "Make sure you saved the notebook before running this cell. Running check for lab-get_all_paths_in...\n",
      "Great job! You passed all test cases for this question.\n"
     ]
    },
    {
     "data": {
      "text/plain": [
       "True"
      ]
     },
     "execution_count": 70,
     "metadata": {},
     "output_type": "execute_result"
    }
   ],
   "source": [
    "student_grader.check(\"lab-get_all_paths_in\", should_get_llm_feedback=False)"
   ]
  },
  {
   "cell_type": "markdown",
   "id": "f89cc5aa-1db1-46f7-bf42-63a6bdf9c304",
   "metadata": {
    "deletable": false,
    "editable": false
   },
   "source": [
    "#### Lab Question 21: How **many** files are there in total, in the `100` directory of the `sample_data` directory?"
   ]
  },
  {
   "cell_type": "markdown",
   "id": "e8f19ebd",
   "metadata": {
    "deletable": false,
    "editable": false
   },
   "source": [
    "You **must** use the `get_all_paths_in` function to answer this question."
   ]
  },
  {
   "cell_type": "markdown",
   "id": "98c2c802-33a8-47e4-81ae-0ea972cee4e2",
   "metadata": {
    "deletable": false,
    "editable": false
   },
   "source": [
    "Points possible: 4.0"
   ]
  },
  {
   "cell_type": "code",
   "execution_count": 71,
   "id": "ceb68dfc",
   "metadata": {
    "deletable": false,
    "editable": true,
    "tags": [
     "lab-q21-code"
    ]
   },
   "outputs": [
    {
     "data": {
      "text/plain": [
       "2"
      ]
     },
     "execution_count": 71,
     "metadata": {},
     "output_type": "execute_result"
    }
   ],
   "source": [
    "# we have done this one for you\n",
    "\n",
    "num_files_sample_100 = len(get_all_paths_in(os.path.join(\"sample_data\", \"100\")))\n",
    "\n",
    "num_files_sample_100"
   ]
  },
  {
   "cell_type": "code",
   "execution_count": 72,
   "id": "d75b7dce",
   "metadata": {
    "deletable": false,
    "editable": true
   },
   "outputs": [
    {
     "name": "stdout",
     "output_type": "stream",
     "text": [
      "Make sure you saved the notebook before running this cell. Running check for lab-q21...\n",
      "Great job! You passed all test cases for this question.\n"
     ]
    },
    {
     "data": {
      "text/plain": [
       "True"
      ]
     },
     "execution_count": 72,
     "metadata": {},
     "output_type": "execute_result"
    }
   ],
   "source": [
    "student_grader.check(\"lab-q21\", should_get_llm_feedback=False)"
   ]
  },
  {
   "cell_type": "markdown",
   "id": "63999c57-dc22-474d-92bc-a83ed527e13f",
   "metadata": {
    "deletable": false,
    "editable": false
   },
   "source": [
    "#### Lab Question 22: What are the **relative paths** of all the **files** that are inside the `sample_data` directory?"
   ]
  },
  {
   "cell_type": "markdown",
   "id": "48e19950",
   "metadata": {
    "deletable": false,
    "editable": false
   },
   "source": [
    "Your output **must** be a **list** containing the **relative paths** of **files**. You **must** use the `get_all_paths_in` function to answer this question."
   ]
  },
  {
   "cell_type": "markdown",
   "id": "7718cbb4-4956-4c8e-ba1c-3d398c77cf95",
   "metadata": {
    "deletable": false,
    "editable": false
   },
   "source": [
    "Points possible: 4.0"
   ]
  },
  {
   "cell_type": "code",
   "execution_count": 73,
   "id": "8bf83cb3",
   "metadata": {
    "deletable": false,
    "editable": true,
    "tags": [
     "lab-q22-code"
    ]
   },
   "outputs": [
    {
     "data": {
      "text/plain": [
       "['sample_data/file_1.json',\n",
       " 'sample_data/100/file_4.json',\n",
       " 'sample_data/100/1000/file_5.json',\n",
       " 'sample_data/10/file_3.json',\n",
       " 'sample_data/10/file_2.json']"
      ]
     },
     "execution_count": 73,
     "metadata": {},
     "output_type": "execute_result"
    }
   ],
   "source": [
    "# compute and store the answer in the variable 'sample_data_all_files', then display it\n",
    "\n",
    "sample_data_all_files = get_all_paths_in('sample_data')\n",
    "\n",
    "sample_data_all_files"
   ]
  },
  {
   "cell_type": "code",
   "execution_count": 74,
   "id": "52411955",
   "metadata": {
    "deletable": false,
    "editable": true
   },
   "outputs": [
    {
     "name": "stdout",
     "output_type": "stream",
     "text": [
      "Make sure you saved the notebook before running this cell. Running check for lab-q22...\n",
      "Great job! You passed all test cases for this question.\n"
     ]
    },
    {
     "data": {
      "text/plain": [
       "True"
      ]
     },
     "execution_count": 74,
     "metadata": {},
     "output_type": "execute_result"
    }
   ],
   "source": [
    "student_grader.check(\"lab-q22\", should_get_llm_feedback=False)"
   ]
  },
  {
   "cell_type": "markdown",
   "id": "9772e592-da63-4932-87a6-5e372ba56825",
   "metadata": {
    "deletable": false,
    "editable": false
   },
   "source": [
    "### Submitting the lab"
   ]
  },
  {
   "cell_type": "markdown",
   "id": "c8b4a963-00ee-4503-9087-7d3bddaed9d9",
   "metadata": {
    "deletable": false,
    "editable": false
   },
   "source": [
    "Submit your `p11.ipynb` on Gradescope to the lab-p11 assignment, like usual. Remember that the grades for the lab portion of the project and the actual assignment grade are independent. You will submit the same notebook (at different levels of completion) to two different assignments."
   ]
  },
  {
   "cell_type": "markdown",
   "id": "5655e663-8f6b-4818-b0eb-401a72bf63de",
   "metadata": {
    "deletable": false,
    "editable": false
   },
   "source": [
    "## Project Portion (20 questions, 4 functions, 2 data structures)"
   ]
  },
  {
   "cell_type": "markdown",
   "id": "ecd04afb-b84e-49c6-b1b6-4938d67d7a82",
   "metadata": {
    "deletable": false,
    "editable": false
   },
   "source": [
    "### Project Description:"
   ]
  },
  {
   "cell_type": "markdown",
   "id": "c47759fd-ecbd-42dc-a979-ff83e58a26d9",
   "metadata": {
    "deletable": false,
    "editable": false
   },
   "source": [
    "You have already parsed the data in the `data` directory in P10. You will now dive deeper by analyzing this data and arrive at some exciting conclusions about various planets and stars outside our Solar System. You will also use recursion to retrieve data from the broken JSON file in the `data` directory, and ask some interesting questions about the data."
   ]
  },
  {
   "cell_type": "markdown",
   "id": "cb159c53-2a42-4e7d-bf78-4b082bff531e",
   "metadata": {
    "deletable": false,
    "editable": false
   },
   "source": [
    "### Project Requirements:"
   ]
  },
  {
   "cell_type": "markdown",
   "id": "92931a10-b939-4315-b23f-d285c310e073",
   "metadata": {
    "deletable": false,
    "editable": false
   },
   "source": [
    "You **may not** hardcode indices in your code, unless the question explicitly says so. If you open your `.csv` files with Excel, manually count through the rows and use this number to loop through the dataset, this is also considered as hardcoding. If any instances of hardcoding are found during code review, the Gradescope autograder will **deduct** points from your public score.\n",
    "\n",
    "**Store** your final answer for each question in the **variable specified for each question**. This step is important because the autograder grades your work by comparing the value of this variable against the correct answer.\n",
    "\n",
    "For some of the questions, we'll ask you to write (then use) a function to compute the answer. If you compute the answer **without** creating the function we ask you to write, the autograder will **deduct** points from your public test score, even if the way you did it produced the correct answer.\n",
    "\n",
    "#### Required Functions:\n",
    "- `star_cell`\n",
    "- `get_stars`\n",
    "- `planet_cell`\n",
    "- `get_planets`\n",
    "- `plot_scatter`\n",
    "- `plot_scatter_multiple`\n",
    "- `get_all_paths_in`\n",
    "- `get_surface_gravity`\n",
    "- `get_distances_to_star`\n",
    "- `get_liquid_water_distances`\n",
    "- `get_surface_temperatures`\n",
    "\n",
    "In this project, you will also be required to define certain **data structures**. If you do not create these data structures exactly as specified, the autograder will **deduct** points from your public test score, even if the way you did it produced the correct answer.\n",
    "\n",
    "#### Required Data Structures:\n",
    "- `Star` (**namedtuple**)\n",
    "- `stars_dict` (**dictionary** mapping **strings** to `Star` objects)\n",
    "- `Planet` (**namedtuple**)\n",
    "- `planets_list` (**list** of `Planet` objects)\n",
    "- `star_classes` (**dictionary**)\n",
    "- `all_planets_list` (**list** of `Planet` objects)\n",
    "\n",
    "In addition, you are also **required** to follow the requirements below:\n",
    "\n",
    "* You **must** never use the output of the `os.listdir` function directly. You **must** always first remove all files and directories that start with `\".\"`, and **explicitly sort** the list before doing anything with it.\n",
    "* You are **not** allowed to use **modules** like `pandas` to answer the questions in this project.\n",
    "* You **must** properly **label** the axes of all your **plots**.\n",
    "* Do **not** define multiple functions with the same name or define multiple versions of one function with different names. Just keep the best version.\n",
    "* Do **not** leave in irrelevant output or test code that we didn't ask for.\n",
    "\n",
    "Otherwise, the autograder will **deduct** points from your public score."
   ]
  },
  {
   "cell_type": "markdown",
   "id": "35ff0713-f00f-463b-a291-255d13b5aa2f",
   "metadata": {
    "deletable": false,
    "editable": false
   },
   "source": [
    "### Loading in the Stars and Planets:"
   ]
  },
  {
   "cell_type": "markdown",
   "id": "34705f02-6040-438a-9b2e-8b40ce0e5376",
   "metadata": {
    "deletable": false,
    "editable": false
   },
   "source": [
    "Before we can analyze the data in the `data` directory, we must first copy/paste all the functions and data structures you created in P10 to parse the data. We have done this for you."
   ]
  },
  {
   "cell_type": "code",
   "execution_count": 75,
   "id": "6253798b-8232-4e20-ac26-adfef77dda4c",
   "metadata": {
    "deletable": false
   },
   "outputs": [],
   "source": [
    "# the definition of the namedtuple 'Star'\n",
    "\n",
    "star_attributes = ['spectral_type',\n",
    "                  'stellar_effective_temperature',\n",
    "                  'stellar_radius',\n",
    "                  'stellar_mass',\n",
    "                  'stellar_luminosity',\n",
    "                  'stellar_surface_gravity',\n",
    "                  'stellar_age']\n",
    "\n",
    "Star = namedtuple(\"Star\", star_attributes)"
   ]
  },
  {
   "cell_type": "code",
   "execution_count": 76,
   "id": "71d56d55-1604-4f8e-b65d-6b3f6b79dbfa",
   "metadata": {
    "deletable": false
   },
   "outputs": [],
   "source": [
    "# the definition of the function 'process_csv'\n",
    "\n",
    "def process_csv(filename):\n",
    "    with open(filename) as file:\n",
    "        csv_reader = csv.reader(file)\n",
    "        list_data = list(csv_reader)\n",
    "        return list_data"
   ]
  },
  {
   "cell_type": "code",
   "execution_count": 77,
   "id": "0fbd516c-55ae-4a6b-9408-75fc6ba89e4a",
   "metadata": {
    "deletable": false
   },
   "outputs": [],
   "source": [
    "# the definition of the function 'star_cell'\n",
    "\n",
    "stars_1_csv = process_csv(os.path.join(\"data\", \"stars_1.csv\"))\n",
    "stars_header = stars_1_csv[0]\n",
    "stars_1_rows = stars_1_csv[1:]\n",
    "\n",
    "def star_cell(row_idx, col_name, stars_rows, header=stars_header):\n",
    "    col_idx = header.index(col_name)\n",
    "    val = stars_rows[row_idx][col_idx]\n",
    "    if val == '':\n",
    "        return None\n",
    "    elif col_name in [\"Stellar Effective Temperature [K]\", \"Stellar Radius [Solar Radius]\", \\\n",
    "                     \"Stellar Mass [Solar mass]\", \"Stellar Luminosity [log(Solar)]\", \\\n",
    "                      \"Stellar Surface Gravity [log10(cm/s**2)]\", \"Stellar Age [Gyr]\"]:\n",
    "        return float(val)\n",
    "    else:\n",
    "        return val"
   ]
  },
  {
   "cell_type": "code",
   "execution_count": 78,
   "id": "dcdc44ab-37d6-4897-95f1-b5879042deb9",
   "metadata": {
    "deletable": false
   },
   "outputs": [],
   "source": [
    "# the definition of the function 'get_stars'\n",
    "\n",
    "def get_stars(star_file):\n",
    "    stars_data = process_csv(star_file)\n",
    "    stars_header = stars_data[0]\n",
    "    stars_rows = stars_data[1:]\n",
    "    stars = {}\n",
    "    for row_idx in range(len(stars_rows)):\n",
    "        star_name = star_cell(row_idx, 'Star Name', stars_rows)\n",
    "        spectral_type = star_cell(row_idx, 'Spectral Type', stars_rows)\n",
    "        stellar_effective_temperature = star_cell(row_idx, 'Stellar Effective Temperature [K]', stars_rows)\n",
    "        stellar_radius = star_cell(row_idx, 'Stellar Radius [Solar Radius]', stars_rows)\n",
    "        stellar_mass = star_cell(row_idx, 'Stellar Mass [Solar mass]', stars_rows)\n",
    "        stellar_luminosity = star_cell(row_idx, 'Stellar Luminosity [log(Solar)]', stars_rows)\n",
    "        stellar_surface_gravity = star_cell(row_idx, 'Stellar Surface Gravity [log10(cm/s**2)]', stars_rows)\n",
    "        stellar_age = star_cell(row_idx, 'Stellar Age [Gyr]', stars_rows)\n",
    "\n",
    "        star = Star(spectral_type, stellar_effective_temperature, stellar_radius, \\\n",
    "                          stellar_mass, stellar_luminosity, stellar_surface_gravity, stellar_age)\n",
    "        stars[star_name] = star\n",
    "    return stars"
   ]
  },
  {
   "cell_type": "code",
   "execution_count": 79,
   "id": "a8f34395-8d3e-436b-884d-b0bdf8ea8b7f",
   "metadata": {
    "deletable": false
   },
   "outputs": [
    {
     "data": {
      "text/plain": [
       "4166"
      ]
     },
     "execution_count": 79,
     "metadata": {},
     "output_type": "execute_result"
    }
   ],
   "source": [
    "# the definition of the dictionary 'stars_dict'\n",
    "\n",
    "stars_dict = {}\n",
    "for i in range(1, 6):\n",
    "    csv_file = os.path.join(\"data\", \"stars_%d.csv\" % i)\n",
    "    curr_stars_dict = get_stars(csv_file)\n",
    "    stars_dict.update(curr_stars_dict)\n",
    "    \n",
    "len(stars_dict)"
   ]
  },
  {
   "cell_type": "code",
   "execution_count": 80,
   "id": "9ec61b6f-a7f3-4490-ba3f-1714029818d6",
   "metadata": {
    "deletable": false
   },
   "outputs": [],
   "source": [
    "# the definition of the namedtuple 'Planet'\n",
    "\n",
    "planets_attributes = ['planet_name',\n",
    "                     'host_name', \n",
    "                     'discovery_method',\n",
    "                     'discovery_year',\n",
    "                     'controversial_flag',\n",
    "                     'orbital_period',\n",
    "                     'planet_radius',\n",
    "                     'planet_mass',\n",
    "                     'semi_major_radius',\n",
    "                     'eccentricity',\n",
    "                     'equilibrium_temperature',\n",
    "                     'insolation_flux']\n",
    "\n",
    "Planet = namedtuple(\"Planet\", planets_attributes)"
   ]
  },
  {
   "cell_type": "code",
   "execution_count": 81,
   "id": "52790234-0988-4cef-9155-1d1b60239ae4",
   "metadata": {
    "deletable": false
   },
   "outputs": [],
   "source": [
    "# the definition of the function 'read_json'\n",
    "\n",
    "def read_json(path):\n",
    "    with open(path, encoding=\"utf-8\") as f:\n",
    "        return json.load(f)"
   ]
  },
  {
   "cell_type": "code",
   "execution_count": 82,
   "id": "b7b280c7-53e5-4bda-8ddc-6f528591518d",
   "metadata": {
    "deletable": false
   },
   "outputs": [],
   "source": [
    "# the definition of the function 'planet_cell'\n",
    "\n",
    "planets_1_csv = process_csv(os.path.join(\"data\", \"planets_1.csv\"))\n",
    "planets_header = planets_1_csv[0]\n",
    "planets_1_rows = planets_1_csv[1:]\n",
    "\n",
    "def planet_cell(row_idx, col_name, planets_rows, header=planets_header):\n",
    "    col_idx = header.index(col_name)\n",
    "    val = planets_rows[row_idx][col_idx]\n",
    "    if val == '':\n",
    "        return None\n",
    "    if col_name in [\"Controversial Flag\"]:\n",
    "        if val == \"1\":\n",
    "            return True\n",
    "        else:\n",
    "            return False\n",
    "    elif col_name in ['Discovery Year']:\n",
    "        return int(val)\n",
    "    elif col_name in ['Orbital Period [days]', 'Planet Radius [Earth Radius]', \n",
    "                     'Planet Mass [Earth Mass]', 'Orbit Semi-Major Axis [au]', 'Eccentricity',\n",
    "                     'Equilibrium Temperature [K]', 'Insolation Flux [Earth Flux]']:\n",
    "        return float(val)\n",
    "    else:\n",
    "        return val"
   ]
  },
  {
   "cell_type": "code",
   "execution_count": 83,
   "id": "299cd130-ef85-4a97-838d-45b3e0b36d49",
   "metadata": {
    "deletable": false
   },
   "outputs": [],
   "source": [
    "# the definition of the function 'get_planets'\n",
    "\n",
    "def get_planets(planet_file, mapping_file):\n",
    "    planets = []\n",
    "    try:\n",
    "        mapping_dict = read_json(mapping_file)\n",
    "    except json.JSONDecodeError:\n",
    "        return []\n",
    "    planets_csv = process_csv(planet_file)\n",
    "    planets_header = planets_csv[0]\n",
    "    planets_rows = planets_csv[1:]\n",
    "\n",
    "    for row_idx in range(len(planets_rows)):\n",
    "        try:\n",
    "            planet_name = planet_cell(row_idx, 'Planet Name', planets_rows)\n",
    "            host_name = mapping_dict[planet_name]\n",
    "            discovery_method = planet_cell(row_idx, 'Discovery Method', planets_rows)\n",
    "            discovery_year = planet_cell(row_idx, 'Discovery Year', planets_rows)\n",
    "            controversial_flag = planet_cell(row_idx, 'Controversial Flag', planets_rows)\n",
    "            orbital_period = planet_cell(row_idx, 'Orbital Period [days]', planets_rows)\n",
    "            planet_radius = planet_cell(row_idx, 'Planet Radius [Earth Radius]', planets_rows)\n",
    "            planet_mass = planet_cell(row_idx, 'Planet Mass [Earth Mass]', planets_rows)\n",
    "            semi_major_radius = planet_cell(row_idx, 'Orbit Semi-Major Axis [au]', planets_rows)\n",
    "            eccentricity = planet_cell(row_idx, 'Eccentricity', planets_rows)\n",
    "            equilibrium_temperature = planet_cell(row_idx, 'Equilibrium Temperature [K]', planets_rows)\n",
    "            insolation_flux = planet_cell(row_idx, 'Insolation Flux [Earth Flux]', planets_rows)\n",
    "\n",
    "            planet = Planet(planet_name, host_name, discovery_method, discovery_year,\\\n",
    "                              controversial_flag, orbital_period, planet_radius, planet_mass,\\\n",
    "                              semi_major_radius, eccentricity, equilibrium_temperature, insolation_flux)\n",
    "            planets.append(planet)\n",
    "        except IndexError:\n",
    "            continue\n",
    "        except ValueError:\n",
    "            continue\n",
    "        except KeyError:\n",
    "            continue\n",
    "    \n",
    "    return planets"
   ]
  },
  {
   "cell_type": "code",
   "execution_count": 84,
   "id": "ece19cdc-2ebb-4d63-835e-5625b9e2d93e",
   "metadata": {
    "deletable": false
   },
   "outputs": [
    {
     "data": {
      "text/plain": [
       "5072"
      ]
     },
     "execution_count": 84,
     "metadata": {},
     "output_type": "execute_result"
    }
   ],
   "source": [
    "# the definition of the list 'planets_list'\n",
    "\n",
    "planets_list = []\n",
    "for i in range(1, 6):\n",
    "    planet_path = os.path.join(\"data\", \"planets_%d.csv\" % i)\n",
    "    mapping_path = os.path.join(\"data\", \"mapping_%d.json\" % i)\n",
    "    planets_list.extend(get_planets(planet_path, mapping_path))\n",
    "\n",
    "len(planets_list)"
   ]
  },
  {
   "cell_type": "markdown",
   "id": "6d2d29ae-0e2a-45cd-8e9e-121fa68a99c0",
   "metadata": {
    "deletable": false,
    "editable": false
   },
   "source": [
    "### Segment 1: Verifying Laws of Nature:"
   ]
  },
  {
   "cell_type": "markdown",
   "id": "7effe381-64a5-4d2b-96a9-5caefde8ea25",
   "metadata": {
    "deletable": false,
    "editable": false
   },
   "source": [
    "We will now use our dataset to verify some well-known laws of nature. Unless specified otherwise, you **must** use `stars_dict` and `planets_list` to access all data."
   ]
  },
  {
   "cell_type": "markdown",
   "id": "cf22140c-8dd2-4e58-ab28-6ae05e7cacda",
   "metadata": {
    "deletable": false,
    "editable": false
   },
   "source": [
    "### Task 1.1: Kepler's Third Law"
   ]
  },
  {
   "cell_type": "markdown",
   "id": "87a8582d-1d70-4fb5-a003-5628c1a4fdbe",
   "metadata": {
    "deletable": false,
    "editable": false
   },
   "source": [
    "We will first verify [Kepler's Third Law](https://en.wikipedia.org/wiki/Kepler%27s_laws_of_planetary_motion#Third_law). This law states that the **square** of the `orbital_period` of each planet in a solar system is directly proportional to the **cube** of the `semi_major_radius` of its orbit around its host star.\n",
    "\n",
    "Since this law relates only to planets that orbit the same host star, we will verify this law using the several planets orbiting around a star named *GJ 9827*."
   ]
  },
  {
   "cell_type": "markdown",
   "id": "ac60958b-80ff-4942-b9f3-564f6b4e0ebc",
   "metadata": {
    "deletable": false,
    "editable": false
   },
   "source": [
    "#### Question 1: Compute the **ratio** of the **square** of the `orbital_period` to the **cube** of the `semi_major_radius` of each planet orbiting the star *GJ 9827*."
   ]
  },
  {
   "cell_type": "markdown",
   "id": "2cda1fa5-b9d5-4296-b843-92b2606d066c",
   "metadata": {
    "deletable": false,
    "editable": false
   },
   "source": [
    "Your output **must** be a **list** of **floats**. You may **assume** that the planets orbiting this star do not have any missing `orbital_period` or `semi_major_radius` data."
   ]
  },
  {
   "cell_type": "markdown",
   "id": "afed8698-b227-4b0b-85c1-d853618546e0",
   "metadata": {
    "deletable": false,
    "editable": false
   },
   "source": [
    "Points possible: 4.0"
   ]
  },
  {
   "cell_type": "code",
   "execution_count": 85,
   "id": "24535c92-380f-4836-ac13-5ebb75db1915",
   "metadata": {
    "deletable": false,
    "editable": true,
    "tags": [
     "q1-code"
    ]
   },
   "outputs": [
    {
     "data": {
      "text/plain": [
       "[216495.31853581898, 215944.87249258577, 215532.12435359438]"
      ]
     },
     "execution_count": 85,
     "metadata": {},
     "output_type": "execute_result"
    }
   ],
   "source": [
    "# compute and store the answer in the variable 'ratios_gj9827', then display it\n",
    "\n",
    "ratios_gj9827 = []\n",
    "\n",
    "for planet in planets_list:\n",
    "    if planet.host_name == 'GJ 9827':\n",
    "        orbital_period = planet.orbital_period\n",
    "        semi_major_radius = planet.semi_major_radius\n",
    "        ratio = orbital_period**2/semi_major_radius**3\n",
    "        ratios_gj9827.append(ratio)\n",
    "\n",
    "ratios_gj9827"
   ]
  },
  {
   "cell_type": "code",
   "execution_count": 86,
   "id": "8fa6d356-48cf-4fd2-aeb3-fb8b1f5d7376",
   "metadata": {
    "deletable": false,
    "editable": true
   },
   "outputs": [
    {
     "name": "stdout",
     "output_type": "stream",
     "text": [
      "Make sure you saved the notebook before running this cell. Running check for q1...\n",
      "Great job! You passed all test cases for this question.\n"
     ]
    },
    {
     "data": {
      "text/plain": [
       "True"
      ]
     },
     "execution_count": 86,
     "metadata": {},
     "output_type": "execute_result"
    }
   ],
   "source": [
    "student_grader.check(\"q1\", should_get_llm_feedback=False)"
   ]
  },
  {
   "cell_type": "markdown",
   "id": "b8cc80cb-4e0b-4aca-84fe-3f9757f4eecb",
   "metadata": {
    "deletable": false,
    "editable": false
   },
   "source": [
    "The **ratios** of the three stars in this system appear to be very close to each other. It will be useful if we could quantify exactly how close these ratios are to each other. One way to do that would to be compute the [coefficient of variance](https://en.wikipedia.org/wiki/Coefficient_of_variation), which is defined as the **standard deviation** divided by the **mean** of a sequence of numbers. A low value would imply that the numbers are very **close** to each other."
   ]
  },
  {
   "cell_type": "markdown",
   "id": "58686f9f-93ce-46bf-9c75-d05ae54c8ebe",
   "metadata": {
    "deletable": false,
    "editable": false
   },
   "source": [
    "#### Question 2: Compute the **coefficient of variance** of the **list** `ratios_gj9827`."
   ]
  },
  {
   "cell_type": "markdown",
   "id": "62a6d940-8a84-4f7a-afb5-2fe1ad65a6ae",
   "metadata": {
    "deletable": false,
    "editable": false
   },
   "source": [
    "**Hint:** You can compute the **standard deviation** and the **mean** of a **list** of numbers using the `statistics.stdev` and `statistics.mean` functions inside the `statistics` module. You can read the documentation for the `statistics.stdev` and `statistics.mean` functions by creating a new cell and using `help(statistics.mean)` and `help(statistics.mean)`."
   ]
  },
  {
   "cell_type": "markdown",
   "id": "e0ac862f-5e30-45a5-a9a5-95554ac8def9",
   "metadata": {
    "deletable": false,
    "editable": false
   },
   "source": [
    "Points possible: 4.0"
   ]
  },
  {
   "cell_type": "code",
   "execution_count": 87,
   "id": "e33326e5-3744-4fcf-8530-cb761a32f21a",
   "metadata": {
    "deletable": false,
    "editable": true,
    "tags": [
     "q2-code"
    ]
   },
   "outputs": [
    {
     "data": {
      "text/plain": [
       "0.002237293472030457"
      ]
     },
     "execution_count": 87,
     "metadata": {},
     "output_type": "execute_result"
    }
   ],
   "source": [
    "# compute and store the answer in the variable 'coeff_gj9827', then display it\n",
    "\n",
    "coeff_gj9827 = statistics.stdev(ratios_gj9827)/statistics.mean(ratios_gj9827)\n",
    "\n",
    "coeff_gj9827"
   ]
  },
  {
   "cell_type": "code",
   "execution_count": 88,
   "id": "a4909766-7d01-44b5-912e-032329a3c45c",
   "metadata": {
    "deletable": false,
    "editable": true
   },
   "outputs": [
    {
     "name": "stdout",
     "output_type": "stream",
     "text": [
      "Make sure you saved the notebook before running this cell. Running check for q2...\n",
      "Great job! You passed all test cases for this question.\n"
     ]
    },
    {
     "data": {
      "text/plain": [
       "True"
      ]
     },
     "execution_count": 88,
     "metadata": {},
     "output_type": "execute_result"
    }
   ],
   "source": [
    "student_grader.check(\"q2\", should_get_llm_feedback=False)"
   ]
  },
  {
   "cell_type": "markdown",
   "id": "22f34e1c-ea60-4e93-8a3e-7b67c259b326",
   "metadata": {
    "deletable": false,
    "editable": false
   },
   "source": [
    "As we can see, the **coefficient of variance** is indeed very low. This lends credibility to Kepler's Third Law. However, there is yet more we can do with this data. After we adjust for the units used in our dataset, we find that Kepler's Third Law predicts the following:\n",
    "\n",
    "$$\\texttt{stellar mass} = \\frac{133408}{\\texttt{ratio}}$$\n",
    "\n",
    "where $\\texttt{ratio}$ is the **mean** of the ratios of the **square** of the `orbital_period` to the **cube** of the `semi_major_radius` computed above, and $\\texttt{stellar mass}$ is the mass of the planets' host star.\n",
    "\n",
    "We can therefore check how close this **predicted** `stellar_mass` is to the **actual** `stellar_mass` of the star."
   ]
  },
  {
   "cell_type": "markdown",
   "id": "3ebd90f5-28d4-419f-9be8-a3bd68662e36",
   "metadata": {
    "deletable": false,
    "editable": false
   },
   "source": [
    "#### Question 3: Compute the percentage change of the **predicted** `stellar_mass` from the **actual** `stellar_mass` of the star *GJ 9827*."
   ]
  },
  {
   "cell_type": "markdown",
   "id": "122a6e42-a1c7-4086-83a5-3268de3f097c",
   "metadata": {
    "deletable": false,
    "editable": false
   },
   "source": [
    "You **must** compute the **predicted** `stellar_mass` as the number *133408* divided by the **mean** of the ratios of the three planets computed in Question 1. You **must** find the **actual** `stellar_mass` by accessing the correct attribute of the `Star` object of *GJ 9827*. The percentage change can be computed as:\n",
    "\n",
    "$$\\texttt{percent change} = \\frac{\\texttt{predicted stellar mass} - \\texttt{actual stellar mass}}{\\texttt{actual stellar mass}} \\times 100$$"
   ]
  },
  {
   "cell_type": "markdown",
   "id": "fe134c3a-921f-4941-a443-8e9225c5e4ee",
   "metadata": {
    "deletable": false,
    "editable": false
   },
   "source": [
    "Points possible: 4.0"
   ]
  },
  {
   "cell_type": "code",
   "execution_count": 89,
   "id": "3504ffb9-19d3-4d68-9473-59ba65317691",
   "metadata": {
    "deletable": false,
    "editable": true,
    "tags": [
     "q3-code"
    ]
   },
   "outputs": [
    {
     "data": {
      "text/plain": [
       "-0.3780616360737003"
      ]
     },
     "execution_count": 89,
     "metadata": {},
     "output_type": "execute_result"
    }
   ],
   "source": [
    "# compute and store the answer in the variable 'percentage_change', then display it\n",
    "\n",
    "predicted_stellar_mass = 133408/statistics.mean(ratios_gj9827)\n",
    "actual_stellar_mass = stars_dict['GJ 9827'].stellar_mass\n",
    "percentage_change = (predicted_stellar_mass-actual_stellar_mass)*100/actual_stellar_mass\n",
    "percentage_change\n"
   ]
  },
  {
   "cell_type": "code",
   "execution_count": 90,
   "id": "d8570761-63fb-4c10-828a-cd893ac15dfe",
   "metadata": {
    "deletable": false,
    "editable": true
   },
   "outputs": [
    {
     "name": "stdout",
     "output_type": "stream",
     "text": [
      "Make sure you saved the notebook before running this cell. Running check for q3...\n",
      "Great job! You passed all test cases for this question.\n"
     ]
    },
    {
     "data": {
      "text/plain": [
       "True"
      ]
     },
     "execution_count": 90,
     "metadata": {},
     "output_type": "execute_result"
    }
   ],
   "source": [
    "student_grader.check(\"q3\", should_get_llm_feedback=False)"
   ]
  },
  {
   "cell_type": "markdown",
   "id": "57a57eb0-e0b9-4623-bc77-1b77e0e678ec",
   "metadata": {
    "deletable": false,
    "editable": false
   },
   "source": [
    "### Task 1.2: Stefan-Boltzmann Law"
   ]
  },
  {
   "cell_type": "markdown",
   "id": "c872f32b-d580-4f7d-adb1-429f332f1bd6",
   "metadata": {
    "deletable": false,
    "editable": false
   },
   "source": [
    "We will now verify the [Stefan-Boltzmann Law](https://en.wikipedia.org/wiki/Stefan%E2%80%93Boltzmann_law). This law states that the `insolation_flux` of a *black body* is directly proportional to the **fourth** power of the `equilibrium_temperature`. In our dataset, we have the `insolation_flux` and `equilibrium_temperature` data of the `Planet` objects. So, we can verify how well this law is obeyed by the planets in our dataset."
   ]
  },
  {
   "cell_type": "markdown",
   "id": "1f3cd1cf-943f-4611-8aec-275afda82976",
   "metadata": {
    "deletable": false,
    "editable": false
   },
   "source": [
    "#### Question 4: Create a **scatter plot** representing the `insolation_flux` (on the **x-axis**) against the **fourth power** of the `equilibrium_temperature` (on the **y-axis**) of each `Planet` object in `planets_list`."
   ]
  },
  {
   "cell_type": "markdown",
   "id": "9bddc7e6-932d-427f-926a-2ece95e608a1",
   "metadata": {
    "deletable": false,
    "editable": false
   },
   "source": [
    "You **must** ignore all `Planet` objects with **missing** `insolation_flux`, or `equilibrium_temperature` data.\n",
    "\n",
    "You **must** first compute two **lists** containing the **insolation_flux**, and the fourth power of the **equilibrium_temperature** of each `Planet` object (which has all the data available). Then, you **must** use `plot_scatter` to plot the **insolation_flux** against the fourth power of the **equilibrium_temperature**."
   ]
  },
  {
   "cell_type": "markdown",
   "id": "c57336e2-21a4-4737-ba25-5c85d02cda36",
   "metadata": {
    "deletable": false,
    "editable": false
   },
   "source": [
    "Points possible: 4.0"
   ]
  },
  {
   "cell_type": "code",
   "execution_count": 91,
   "id": "a5ea4a11-4b80-4199-92d8-8f6b7d97b505",
   "metadata": {
    "deletable": false,
    "editable": true,
    "tags": [
     "q4-code"
    ]
   },
   "outputs": [],
   "source": [
    "# first compute and store the lists 'flux_list', and 'temp_4th_power_list'\n",
    "# do NOT display or plot just yet\n",
    "\n",
    "flux_list = []\n",
    "temp_4th_power_list = []\n",
    "\n",
    "for planet in planets_list:\n",
    "    if planet.insolation_flux == None or planet.equilibrium_temperature == None:\n",
    "        continue\n",
    "    flux_list.append(planet.insolation_flux)\n",
    "    temp_4th_power_list.append(planet.equilibrium_temperature**4)\n"
   ]
  },
  {
   "cell_type": "code",
   "execution_count": 92,
   "id": "0a0c1326-57d9-4b36-90a6-682f3ea0e321",
   "metadata": {
    "deletable": false,
    "editable": true
   },
   "outputs": [
    {
     "name": "stdout",
     "output_type": "stream",
     "text": [
      "Make sure you saved the notebook before running this cell. Running check for q4...\n",
      "Great job! You passed all test cases for this question.\n"
     ]
    },
    {
     "data": {
      "text/plain": [
       "True"
      ]
     },
     "execution_count": 92,
     "metadata": {},
     "output_type": "execute_result"
    }
   ],
   "source": [
    "student_grader.check(\"q4\", should_get_llm_feedback=False)"
   ]
  },
  {
   "cell_type": "markdown",
   "id": "f73d4eb3-52f4-47e2-a4de-ed838213edda",
   "metadata": {
    "deletable": false,
    "editable": false
   },
   "source": [
    "Now, **plot** `flux_list` and `temp_4th_power_list` as **scatter plot** with the **x-axis** labelled *Insolation Flux*, and the **y-axis** labelled *(Equilibrium Temperature)\\*\\*4*.\n",
    "\n",
    "Your plot should look like this:"
   ]
  },
  {
   "cell_type": "markdown",
   "id": "ec5de4c7-dfcd-4bea-a64e-33f22671c2c2",
   "metadata": {
    "deletable": false,
    "editable": false
   },
   "source": [
    "<div style=\"text-align: center;\"><img src=\"images/q4.png\" style=\"height: 400px;\"/></div>"
   ]
  },
  {
   "cell_type": "code",
   "execution_count": 93,
   "id": "bbbed897-ef56-4819-8c53-8bad29edee93",
   "metadata": {
    "deletable": false
   },
   "outputs": [
    {
     "data": {
      "image/png": "[encoded data removed]",
      "text/plain": [
       "<Figure size 640x480 with 1 Axes>"
      ]
     },
     "metadata": {},
     "output_type": "display_data"
    }
   ],
   "source": [
    "# create a scatter plot using 'flux_list' and 'temp_4th_power_list'\n",
    "\n",
    "plot_scatter(flux_list, temp_4th_power_list, 'Insolation Flux', '(Equilibrium Temperature)**4')\n",
    " "
   ]
  },
  {
   "cell_type": "markdown",
   "id": "dc2430c2-11e6-4096-83b3-85c046165b6e",
   "metadata": {
    "deletable": false,
    "editable": false
   },
   "source": [
    "**Food for thought:** Why does this graph look so strange with all the points bunched up near the bottom-left corner?"
   ]
  },
  {
   "cell_type": "code",
   "execution_count": 94,
   "id": "3f17459d-66c4-4c6b-ad7f-f5222d75b510",
   "metadata": {
    "deletable": false
   },
   "outputs": [],
   "source": [
    "# Food for thought is an entirely OPTIONAL exercise\n",
    "# you may leave your thoughts here as a comment if you wish to\n",
    "# Because there are outliers."
   ]
  },
  {
   "cell_type": "markdown",
   "id": "f100ffc2-bf66-4264-8728-ff7325e52ae3",
   "metadata": {
    "deletable": false,
    "editable": false
   },
   "source": [
    "#### Question 5: Create the same **scatter plot** as above, but **exclude** planets with `insolation_flux` **more than** *7000*."
   ]
  },
  {
   "cell_type": "markdown",
   "id": "1b594dab-2404-48cf-bb4b-7cc70f57c502",
   "metadata": {
    "deletable": false,
    "editable": false
   },
   "source": [
    "You **must** ignore all `Planet` objects with **missing** `insolation_flux`, or `equilibrium_temperature` data. You **must** also exclude all `Planet` objects with `insolation_flux` more than *7000*.\n",
    "\n",
    "You **must** first compute two **lists** containing the **insolation_flux**, and the fourth power of the **equilibrium_temperature** of each `Planet` object (which has all the data available). Then, you **must** use `plot_scatter` to plot the **insolation_flux** against the fourth power of the **equilibrium_temperature**."
   ]
  },
  {
   "cell_type": "markdown",
   "id": "51688597-d165-4287-9dcc-8c46379d09bc",
   "metadata": {
    "deletable": false,
    "editable": false
   },
   "source": [
    "Points possible: 4.0"
   ]
  },
  {
   "cell_type": "code",
   "execution_count": 95,
   "id": "19d10432-dc77-4f0a-9802-2db11e7c48d3",
   "metadata": {
    "deletable": false,
    "editable": true,
    "tags": [
     "q5-code"
    ]
   },
   "outputs": [],
   "source": [
    "# first compute and store the lists 'flux_list_no_outliers', and 'temp_4th_power_list_no_outliers'\n",
    "# do NOT display or plot just yet\n",
    "\n",
    "flux_list_no_outliers = []\n",
    "temp_4th_power_list_no_outliers = []\n",
    "\n",
    "for planet in planets_list:\n",
    "    if planet.insolation_flux == None or planet.equilibrium_temperature == None or planet.insolation_flux > 7000:\n",
    "        continue\n",
    "    flux_list_no_outliers.append(planet.insolation_flux)\n",
    "    temp_4th_power_list_no_outliers.append(planet.equilibrium_temperature**4)\n"
   ]
  },
  {
   "cell_type": "code",
   "execution_count": 96,
   "id": "2f5353cb-dd43-4fca-9471-00595afb55b1",
   "metadata": {
    "deletable": false,
    "editable": true
   },
   "outputs": [
    {
     "name": "stdout",
     "output_type": "stream",
     "text": [
      "Make sure you saved the notebook before running this cell. Running check for q5...\n",
      "Great job! You passed all test cases for this question.\n"
     ]
    },
    {
     "data": {
      "text/plain": [
       "True"
      ]
     },
     "execution_count": 96,
     "metadata": {},
     "output_type": "execute_result"
    }
   ],
   "source": [
    "student_grader.check(\"q5\", should_get_llm_feedback=False)"
   ]
  },
  {
   "cell_type": "markdown",
   "id": "d8614465-8ed6-43ab-9615-67b49c47ca67",
   "metadata": {
    "deletable": false,
    "editable": false
   },
   "source": [
    "Now, **plot** `flux_list_no_outliers` and `temp_4th_power_list_no_outliers` as **scatter plot** with the **x-axis** labelled *Insolation Flux*, and the **y-axis** labelled *(Equilibrium Temperature)\\*\\*4*.\n",
    "\n",
    "Your plot should look like this:"
   ]
  },
  {
   "cell_type": "markdown",
   "id": "6feac76b-f95b-493d-96ac-872b3eb94243",
   "metadata": {
    "deletable": false,
    "editable": false
   },
   "source": [
    "<div style=\"text-align: center;\"><img src=\"images/q5.jpg\" style=\"height: 400px;\"/></div>"
   ]
  },
  {
   "cell_type": "code",
   "execution_count": 97,
   "id": "7c70231b-9802-4cb3-a973-fe9ce8556e87",
   "metadata": {
    "deletable": false
   },
   "outputs": [
    {
     "data": {
      "image/png": "[encoded data removed]",
      "text/plain": [
       "<Figure size 640x480 with 1 Axes>"
      ]
     },
     "metadata": {},
     "output_type": "display_data"
    }
   ],
   "source": [
    "# Create a scatter plot using 'flux_list_no_outliers' and 'temp_4th_power_list_no_outliers'\n",
    "\n",
    "plot_scatter(flux_list_no_outliers, temp_4th_power_list_no_outliers, 'Insolation Flux', '(Equilibrium Temperature)**4')\n",
    " "
   ]
  },
  {
   "cell_type": "markdown",
   "id": "6b3d60bb-7c8c-48aa-94c4-fc2bf5df5359",
   "metadata": {
    "deletable": false,
    "editable": false
   },
   "source": [
    "**Food for thought:** Does the relationship between **insolation flux** and the **fourth power of the equilibrium temperature** appear to be **linear** as predicted by the Stefan-Boltzmann Law? Can you explain why the graph isn't perfectly linear?"
   ]
  },
  {
   "cell_type": "code",
   "execution_count": 98,
   "id": "9ea4a537-9af9-401e-b6d7-7ad535e10bbe",
   "metadata": {
    "deletable": false
   },
   "outputs": [],
   "source": [
    "# Food for thought is an entirely OPTIONAL exercise\n",
    "# yes it looks similar.\n",
    "# you may leave your thoughts here as a comment if you wish to\n"
   ]
  },
  {
   "cell_type": "markdown",
   "id": "273bacc3-2373-44e0-98a1-4bca6579dff2",
   "metadata": {
    "deletable": false,
    "editable": false
   },
   "source": [
    "### Segment 2: Stellar Evolution"
   ]
  },
  {
   "cell_type": "markdown",
   "id": "bad3e734-60da-4fbe-9067-078e0b677f26",
   "metadata": {
    "deletable": false,
    "editable": false
   },
   "source": [
    "[Stellar Evolution](https://en.wikipedia.org/wiki/Stellar_evolution) is a description of the way that stars change with time. The primary factor determining how a star evolves is its `stellar_mass`. Depending on the `stellar_mass` of each `Star`, astronomers can predict how the `Star` will end up. A `Star` whose `stellar_mass` is $\\geq 0.3$ and $< 8$ times the mass of the Sun will become a [Red Giant](https://en.wikipedia.org/wiki/Red_giant), while a `Star` whose `stellar_mass` is $\\geq 8$ and $< 10.5$ times the mass of the Sun will become a [White Dwarf](https://en.wikipedia.org/wiki/White_dwarf). A `Star` that is even bigger will end up as a [Neutron Star](https://en.wikipedia.org/wiki/Neutron_star)."
   ]
  },
  {
   "cell_type": "markdown",
   "id": "8a136679-9251-4a1b-9a8e-bc8b3ddf88da",
   "metadata": {
    "deletable": false,
    "editable": false
   },
   "source": [
    "### Data Structure 1: `star_classes`"
   ]
  },
  {
   "cell_type": "markdown",
   "id": "ca6cade5-f928-4e8b-8ac2-55d0d42a3d42",
   "metadata": {
    "deletable": false,
    "editable": false
   },
   "source": [
    "You **must** now classify the `Star` objects in `stars_dict` using their `stellar_mass`. You **must** create a **dictionary** `star_classes` with the **keys**: `Red Giant`, `White Dwarf`, and `Neutron Star`. The **value** of each **key** must be a **list** of **strings** containing the **names** of the `Star` objects.\n",
    "\n",
    "You **must** **ignore** `Star` objects for which we do not have `stellar_mass` data or have `stellar_mass` **less** than *0.3* Solar masses.\n",
    "\n",
    "**Hint:** Recall that the `stellar_mass` data already uses units of *Solar masses*. So, a `stellar_mass` of *1* means that the `Star` object has the same mass as the Sun, and a `stellar_mass` of 2 means the `Star` object has twice the mass of the Sun, and so on."
   ]
  },
  {
   "cell_type": "markdown",
   "id": "02c7980e-0b9c-4917-b602-1a37b6424ea8",
   "metadata": {
    "deletable": false,
    "editable": false
   },
   "source": [
    "Points possible: 4.0"
   ]
  },
  {
   "cell_type": "code",
   "execution_count": 99,
   "id": "092beffd-7260-4d7e-b4dd-21ed1f6a3dc5",
   "metadata": {
    "deletable": false,
    "editable": true,
    "tags": [
     "star_classes-code"
    ]
   },
   "outputs": [],
   "source": [
    "# define the variable 'star_classes' here\n",
    "# but do NOT display\n",
    "\n",
    "star_classes = {'Red Giant':[],\n",
    "               'White Dwarf':[],\n",
    "               'Neutron Star':[]}\n",
    "\n",
    "for star in stars_dict.items():\n",
    "    if star[1].stellar_mass == None or star[1].stellar_mass<0.3:\n",
    "        continue\n",
    "    elif star[1].stellar_mass >= 0.3 and star[1].stellar_mass < 8:\n",
    "        star_classes['Red Giant'].append(star[0])\n",
    "    elif star[1].stellar_mass>= 8 and star[1].stellar_mass < 10.5:\n",
    "        star_classes['White Dwarf'].append(star[0])\n",
    "    else:\n",
    "        star_classes['Neutron Star'].append(star[0])\n"
   ]
  },
  {
   "cell_type": "code",
   "execution_count": 100,
   "id": "21f8b202-03a6-43f8-acaf-46b36ddb74c1",
   "metadata": {
    "deletable": false,
    "editable": true
   },
   "outputs": [
    {
     "name": "stdout",
     "output_type": "stream",
     "text": [
      "Make sure you saved the notebook before running this cell. Running check for star_classes...\n",
      "Great job! You passed all test cases for this question.\n"
     ]
    },
    {
     "data": {
      "text/plain": [
       "True"
      ]
     },
     "execution_count": 100,
     "metadata": {},
     "output_type": "execute_result"
    }
   ],
   "source": [
    "student_grader.check(\"star_classes\", should_get_llm_feedback=False)"
   ]
  },
  {
   "cell_type": "markdown",
   "id": "13ddb65e-3d40-4023-9ab7-a4c10a5ef8f5",
   "metadata": {
    "deletable": false,
    "editable": false
   },
   "source": [
    "You can **verify** that you have defined `star_classes` correctly by checking that there are *4006* Red Giants, *3* White Dwarfs, and *1* Neutron Star in `star_classes`."
   ]
  },
  {
   "cell_type": "markdown",
   "id": "0fdac773-f863-48fe-a090-8d2543d38b7a",
   "metadata": {
    "deletable": false,
    "editable": false
   },
   "source": [
    "#### Question 6: What is the **average** `stellar_luminosity` of each class of `Star` objects in `star_classes`?"
   ]
  },
  {
   "cell_type": "markdown",
   "id": "926c9f29-835b-4a88-a142-261c87ce59e0",
   "metadata": {
    "deletable": false,
    "editable": false
   },
   "source": [
    "Your output **must** be a **dictionary** mapping the class of the star to the **average** `stellar_luminosity` value of all `Star` objects of that class. You **must** ignore the `Star` objects with **missing** `stellar_luminosity` data.\n",
    "\n",
    "The expected output of this question is:\n",
    "\n",
    "```python\n",
    "{'Red Giant': -0.02548807672369097,\r\n",
    " 'White Dwarf': 2.787333333333333,\r\n",
    " 'Neutron Star': 2.86}\n",
    "```"
   ]
  },
  {
   "cell_type": "markdown",
   "id": "d1f3cd60-cfd3-432e-9ed0-1a7099b0f546",
   "metadata": {
    "deletable": false,
    "editable": false
   },
   "source": [
    "Points possible: 4.0"
   ]
  },
  {
   "cell_type": "code",
   "execution_count": 101,
   "id": "65625ffe-061f-417e-9eab-a089b7a10b22",
   "metadata": {
    "deletable": false,
    "editable": true,
    "tags": [
     "q6-code"
    ]
   },
   "outputs": [
    {
     "data": {
      "text/plain": [
       "{'Red Giant': -0.02548807672369097,\n",
       " 'White Dwarf': 2.787333333333333,\n",
       " 'Neutron Star': 2.86}"
      ]
     },
     "execution_count": 101,
     "metadata": {},
     "output_type": "execute_result"
    }
   ],
   "source": [
    "# compute and store the answer in the variable 'star_classes_avg_lum', then display it\n",
    "\n",
    "# TODO: initialize 'star_classes_avg_lum'\n",
    "star_classes_avg_lum = {}\n",
    "# TODO: loop through each 'star_class' in 'star_classes'\n",
    "for key in star_classes:\n",
    "    total_luminosity = 0\n",
    "    count_stars = 0\n",
    "    for star in star_classes[key]:\n",
    "    # TODO: loop through each 'star' in the 'star_class'\n",
    "        # TODO: skip 'star' if 'stellar_luminosity' data is missing\n",
    "        if stars_dict[star].stellar_luminosity == None:\n",
    "            continue\n",
    "        # TODO: update the total luminosity and count of stars with luminosity data\n",
    "        total_luminosity += stars_dict[star].stellar_luminosity\n",
    "        count_stars += 1\n",
    "    # TODO: calculate the mean luminosity and add to 'star_classes_avg_lum'\n",
    "    mean_luminosity = total_luminosity/count_stars\n",
    "    star_classes_avg_lum[key] =  mean_luminosity\n",
    "# TODO: display 'star_classes_avg_lum'\n",
    "star_classes_avg_lum"
   ]
  },
  {
   "cell_type": "code",
   "execution_count": 102,
   "id": "33da40b5-c483-4130-852e-50df3487a3c1",
   "metadata": {
    "deletable": false,
    "editable": true
   },
   "outputs": [
    {
     "name": "stdout",
     "output_type": "stream",
     "text": [
      "Make sure you saved the notebook before running this cell. Running check for q6...\n",
      "Great job! You passed all test cases for this question.\n"
     ]
    },
    {
     "data": {
      "text/plain": [
       "True"
      ]
     },
     "execution_count": 102,
     "metadata": {},
     "output_type": "execute_result"
    }
   ],
   "source": [
    "student_grader.check(\"q6\", should_get_llm_feedback=False)"
   ]
  },
  {
   "cell_type": "markdown",
   "id": "99c492d0-478a-467f-9da8-38380d0e6522",
   "metadata": {
    "deletable": false,
    "editable": false
   },
   "source": [
    "**Food for thought:** Recall that the `stellar_luminosity` values of the `Star` objects are represented in units of the logarithm of the Sun's luminosity. What does this difference in `stellar_luminosity` signify?"
   ]
  },
  {
   "cell_type": "code",
   "execution_count": 103,
   "id": "55b7e96b-5cf2-4afe-a415-fad12770102f",
   "metadata": {
    "deletable": false
   },
   "outputs": [],
   "source": [
    "# Food for thought is an entirely OPTIONAL exercise\n",
    "# you may leave your thoughts here as a comment if you wish to\n"
   ]
  },
  {
   "cell_type": "markdown",
   "id": "9b377897-d2a1-4151-9461-b248bc0d361a",
   "metadata": {
    "deletable": false,
    "editable": false
   },
   "source": [
    "Just as the different classes of `Star` objects have different **average luminosities**, they also have different **average densities**. This difference will be easier to visualize as a **scatter plot**.\n",
    "\n",
    "However, before you can do that, there is a minor hurdle you need to overcome - we do **not** have the *stellar density* data available for the `Star` objects in our dataset. However, we do have `stellar_mass` and `stellar_radius` data, which allows us to **compute** the *stellar density*. Since the `stellar_mass` and `stellar_radius` data is stored in units of the Sun's mass and radius respectively, we can compute the *stellar density* (i.e., density of the `Star` in units of the Sun's density) as follows:\n",
    "\n",
    "$$\\texttt{stellar density} = \\frac{\\texttt{stellar mass}}{(\\texttt{stellar radius})^{3}}.$$"
   ]
  },
  {
   "cell_type": "markdown",
   "id": "b4bc2b6e-97dc-4ee7-9382-35acd6d809c5",
   "metadata": {
    "deletable": false,
    "editable": false
   },
   "source": [
    "#### Question 7: Create a **scatter plot** representing the *stellar density* (on the **x-axis**) against the `stellar_luminosity` (on the **y-axis**) of each `Star` object of **each class** in `star_classes`."
   ]
  },
  {
   "cell_type": "markdown",
   "id": "8c85f310-bf69-4fc8-ac08-41b29d631f25",
   "metadata": {
    "deletable": false,
    "editable": false
   },
   "source": [
    "You **must** ignore all `Star` objects with **missing** `stellar_mass`, `stellar_radius`, or `stellar_luminosity` data.\n",
    "\n",
    "You **must** first compute two **dictionaries**. The **keys** of both dictionaries must be the different **star classes**, and the corresponding values must be the **list** of **densities** and **list** of **luminosities** of `Star` objects of that **star class**. Then, you **must** use `plot_scatter_multiple` to plot the **density** against the **luminosity** of each **star class**."
   ]
  },
  {
   "cell_type": "markdown",
   "id": "563909e4-b5fd-46b9-a340-fcde97975721",
   "metadata": {
    "deletable": false,
    "editable": false
   },
   "source": [
    "Points possible: 4.0"
   ]
  },
  {
   "cell_type": "code",
   "execution_count": 104,
   "id": "1f9f2889-0293-4ec9-acd2-29a87c555215",
   "metadata": {
    "deletable": false,
    "editable": true,
    "tags": [
     "q7-code"
    ]
   },
   "outputs": [],
   "source": [
    "# first compute and store the dictionaries 'density_dict', and 'lum_dict'\n",
    "# do NOT plot just yet\n",
    "\n",
    "# TODO: initialize the two dictionaries 'density_dict', and 'lum_dict'\n",
    "density_dict = {}\n",
    "lum_dict = {}\n",
    "# TODO: loop through each 'star_class' in 'star_classes'\n",
    "for star_class in star_classes:\n",
    "    # TODO: add the 'star_class' key to 'density_dict' and 'lum_dict', initializing it with the value of an empty list\n",
    "    density_dict[star_class] = []\n",
    "    lum_dict[star_class] = []\n",
    "    # TODO: loop through each 'star' in the 'star_class'\n",
    "    for star in star_classes[star_class]:\n",
    "        stellar_mass = stars_dict[star].stellar_mass\n",
    "        stellar_radius = stars_dict[star].stellar_radius\n",
    "        stellar_luminosity = stars_dict[star].stellar_luminosity\n",
    "        # TODO: skip 'star' if mass, radius, or luminosity data is missing\n",
    "        if None in [stellar_mass,stellar_radius,stellar_luminosity]:\n",
    "            continue\n",
    "        density_dict[star_class].append(stellar_mass/stellar_radius**3)\n",
    "        lum_dict[star_class].append(stellar_luminosity)\n",
    "        # TODO: otherwise add the luminosity to the correct key of 'lum_dict'\n",
    "        # TODO: compute the density and add to the correct key of 'density_dict'\n",
    "\n",
    "# do not display the variable"
   ]
  },
  {
   "cell_type": "code",
   "execution_count": 105,
   "id": "f99ff197-eab6-4ae8-9018-a0a4aeed9b6f",
   "metadata": {
    "deletable": false,
    "editable": true
   },
   "outputs": [
    {
     "name": "stdout",
     "output_type": "stream",
     "text": [
      "Make sure you saved the notebook before running this cell. Running check for q7...\n",
      "Great job! You passed all test cases for this question.\n"
     ]
    },
    {
     "data": {
      "text/plain": [
       "True"
      ]
     },
     "execution_count": 105,
     "metadata": {},
     "output_type": "execute_result"
    }
   ],
   "source": [
    "student_grader.check(\"q7\", should_get_llm_feedback=False)"
   ]
  },
  {
   "cell_type": "markdown",
   "id": "ef5caf6d-1b6d-42f5-9003-d4e23be9aca2",
   "metadata": {
    "deletable": false,
    "editable": false
   },
   "source": [
    "Now, **plot** `density_dict` and `lum_dict` as **scatter plot** with the **x-axis** labelled *Density*, and the **y-axis** labelled *Luminosity*.\n",
    "\n",
    "Your plot should look like this:"
   ]
  },
  {
   "cell_type": "markdown",
   "id": "0d785cf6-f872-4895-8d55-65bede739b4b",
   "metadata": {
    "deletable": false,
    "editable": false
   },
   "source": [
    "<div style=\"text-align: center;\"><img src=\"images/q7.jpg\" style=\"height: 400px;\"/></div>"
   ]
  },
  {
   "cell_type": "code",
   "execution_count": 106,
   "id": "1696ff1d-af67-48e1-9e7e-e3d586a9dfdb",
   "metadata": {
    "deletable": false
   },
   "outputs": [
    {
     "data": {
      "image/png": "[encoded data removed]",
      "text/plain": [
       "<Figure size 640x480 with 1 Axes>"
      ]
     },
     "metadata": {},
     "output_type": "display_data"
    }
   ],
   "source": [
    "# plot 'density_dict' and 'lum_dict'\n",
    "\n",
    "plot_scatter_multiple(density_dict, lum_dict, 'Density', 'Luminosity')  \n",
    " "
   ]
  },
  {
   "cell_type": "markdown",
   "id": "b00a540c-fbe7-4172-8fcc-07f1de3a676c",
   "metadata": {
    "deletable": false,
    "editable": false
   },
   "source": [
    "**Food for thought:** As you can see, there are **two** extreme outliers with a very high density. If you are interested, you can try to find out the names of these stars, and why they have such extremely high densities (and low luminosities). What (**incorrect**) assumption did we make when we classified the `Star` objects in `star_classes`? Can you suggest a more **accurate** way of classifying the stars now, based on the data we have observed?"
   ]
  },
  {
   "cell_type": "code",
   "execution_count": 107,
   "id": "d71808fe-29fd-4600-a93e-e0e69ab93503",
   "metadata": {
    "deletable": false
   },
   "outputs": [],
   "source": [
    "# Food for thought is an entirely OPTIONAL exercise\n",
    "# you may leave your thoughts here as a comment if you wish to\n"
   ]
  },
  {
   "cell_type": "markdown",
   "id": "4ead3550-5b00-4636-85ff-044e4b56639f",
   "metadata": {
    "deletable": false,
    "editable": false
   },
   "source": [
    "As you can see, almost all the `Star` objects have low *stellar density*, and the presence of a few extreme outliers is obscuring our view of the other `Star` objects. In fact, it turns out that there are only *27* `Star` objects in the dataset with a *stellar density* **greater than** *25*. We could get a much clearer view of the relationship between *stellar density* and `stellar_luminosity` if we did **not** plot these outliers."
   ]
  },
  {
   "cell_type": "markdown",
   "id": "1c9b4948-449d-4a16-ab34-93e13b66d0a5",
   "metadata": {
    "deletable": false,
    "editable": false
   },
   "source": [
    "#### Question 8: Create the same **scatter plot** as above, but exclude stars with *stellar density* **more than** *25*."
   ]
  },
  {
   "cell_type": "markdown",
   "id": "ebebfdb9-543c-49c7-8783-8d934b4d2700",
   "metadata": {
    "deletable": false,
    "editable": false
   },
   "source": [
    "You **must** ignore all `Star` objects with **missing** `stellar_mass`, `stellar_radius`, or `stellar_luminosity` data. You **must** also ignore all `Star` objects with *stellar density* more than *25*.\n",
    "\n",
    "You **must** first compute two **dictionaries**. The **keys** of both dictionaries must be the different **star classes**, and the corresponding values must be the **list** of **densities** and **list** of **luminosities** of `Star` objects of that **star class**. Then, you **must** use `plot_scatter_multiple` to plot the **density** against the **luminosity** of each **star class**."
   ]
  },
  {
   "cell_type": "markdown",
   "id": "010a9b3a-4a05-4446-a29c-59e61d958d24",
   "metadata": {
    "deletable": false,
    "editable": false
   },
   "source": [
    "Points possible: 4.0"
   ]
  },
  {
   "cell_type": "code",
   "execution_count": 108,
   "id": "7f94e3fc-1bee-40f1-8653-e2648db110e0",
   "metadata": {
    "deletable": false,
    "editable": true,
    "tags": [
     "q8-code"
    ]
   },
   "outputs": [],
   "source": [
    "# first compute and store the dictionaries 'density_dict_no_outliers', and 'lum_dict_no_outliers'\n",
    "# do NOT plot just yet\n",
    "\n",
    "density_dict_no_outliers = {}\n",
    "lum_dict_no_outliers = {}\n",
    "\n",
    "for star_class in star_classes:\n",
    "    # TODO: add the 'star_class' key to 'density_dict' and 'lum_dict', initializing it with the value of an empty list\n",
    "    density_dict_no_outliers[star_class] = []\n",
    "    lum_dict_no_outliers[star_class] = []\n",
    "    # TODO: loop through each 'star' in the 'star_class'\n",
    "    for star in star_classes[star_class]:\n",
    "        stellar_mass = stars_dict[star].stellar_mass\n",
    "        stellar_radius = stars_dict[star].stellar_radius\n",
    "        stellar_luminosity = stars_dict[star].stellar_luminosity\n",
    "        # TODO: skip 'star' if mass, radius, or luminosity data is missing\n",
    "        if None in [stellar_mass,stellar_radius,stellar_luminosity] or stellar_mass/stellar_radius**3 >25:\n",
    "            continue\n",
    "        density_dict_no_outliers[star_class].append(stellar_mass/stellar_radius**3)\n",
    "        lum_dict_no_outliers[star_class].append(stellar_luminosity)\n",
    "        # TODO: otherwise add the luminosity to the correct key of 'lum_dict'\n",
    "       \n",
    "\n",
    "# Do not display the variable"
   ]
  },
  {
   "cell_type": "code",
   "execution_count": 109,
   "id": "ff099de4-25c7-41e6-8025-b74b79cd5129",
   "metadata": {
    "deletable": false,
    "editable": true
   },
   "outputs": [
    {
     "name": "stdout",
     "output_type": "stream",
     "text": [
      "Make sure you saved the notebook before running this cell. Running check for q8...\n",
      "Great job! You passed all test cases for this question.\n"
     ]
    },
    {
     "data": {
      "text/plain": [
       "True"
      ]
     },
     "execution_count": 109,
     "metadata": {},
     "output_type": "execute_result"
    }
   ],
   "source": [
    "student_grader.check(\"q8\", should_get_llm_feedback=False)"
   ]
  },
  {
   "cell_type": "markdown",
   "id": "59dbf811-d2a9-4fd5-a93d-289451751011",
   "metadata": {
    "deletable": false,
    "editable": false
   },
   "source": [
    "Now, **plot** `density_dict_no_outliers` and `lum_dict_no_outliers` as **scatter plot** with the **x-axis** labelled *Density*, and the **y-axis** labelled *Luminosity*.\n",
    "\n",
    "Your plot should look like this:"
   ]
  },
  {
   "cell_type": "markdown",
   "id": "1eb51c7e-f888-4e9d-ac3c-12432685ed60",
   "metadata": {
    "deletable": false,
    "editable": false
   },
   "source": [
    "<div style=\"text-align: center;\"><img src=\"images/q8.jpg\" style=\"height: 400px;\"/></div>"
   ]
  },
  {
   "cell_type": "code",
   "execution_count": 110,
   "id": "c2464d7d-c8c7-4387-b6e8-c3053d8fd041",
   "metadata": {
    "deletable": false
   },
   "outputs": [
    {
     "data": {
      "image/png": "[encoded data removed]",
      "text/plain": [
       "<Figure size 640x480 with 1 Axes>"
      ]
     },
     "metadata": {},
     "output_type": "display_data"
    }
   ],
   "source": [
    "# plot 'density_dict_no_outliers' and 'lum_dict_no_outliers'\n",
    "\n",
    "plot_scatter_multiple(density_dict_no_outliers, lum_dict_no_outliers, 'Density', 'Luminosity')\n",
    " "
   ]
  },
  {
   "cell_type": "markdown",
   "id": "2ec98f77-70f7-4905-9dd5-35344823b33f",
   "metadata": {
    "deletable": false,
    "editable": false
   },
   "source": [
    "**Food for thought:** Can you guess the relationship between **density** and **luminosity**? Can you spot the `Star` objects in this graph which will end up as White Dwarfs and Neutron Stars? Do they appear to follow the same relationship as the Red Giants? How do they compare to the outliers you found in Question 7?"
   ]
  },
  {
   "cell_type": "code",
   "execution_count": 111,
   "id": "e7b19869-bfc8-428a-82d8-6563a2abe6d6",
   "metadata": {
    "deletable": false
   },
   "outputs": [],
   "source": [
    "# Food for thought is an entirely OPTIONAL exercise\n",
    "# you may leave your thoughts here as a comment if you wish to\n"
   ]
  },
  {
   "cell_type": "markdown",
   "id": "9836cae0-c3ca-4856-aded-a2ae1231c839",
   "metadata": {
    "deletable": false,
    "editable": false
   },
   "source": [
    "### Hertzsprung–Russell Diagram"
   ]
  },
  {
   "cell_type": "markdown",
   "id": "0ebb83da-b530-4e4e-a27a-e1221436a111",
   "metadata": {
    "deletable": false,
    "editable": false
   },
   "source": [
    "The [Hertzsprung–Russell diagram](https://en.wikipedia.org/wiki/Hertzsprung%E2%80%93Russell_diagram) is a scatter plot of stars showing the relationship between the stars' `stellar_luminosity` versus their `stellar_effective_temperature`. The diagram is exceedingly useful for understanding the stellar evolution of stars. We will now use the data we have available to plot this diagram ourselves, so we can better understand stellar evolution.\n",
    "\n",
    "We want to plot the `stellar_effective_temperature` against the `stellar_luminosity`, but more importantly, we will use the **color** and **size** parameters to represent the `stellar_age` and `stellar_mass` of the `Star` objects as well. This will allow us to see the effects of `stellar_age` and `stellar_mass` on `stellar_effective_temperature` and `stellar_luminosity`."
   ]
  },
  {
   "cell_type": "markdown",
   "id": "0644bad5-3ee3-45e2-b69a-47a765c8658d",
   "metadata": {
    "deletable": false,
    "editable": false
   },
   "source": [
    "#### Question 9: Create a **scatter plot** representing the `stellar_effective_temperature` (on the **x-axis**) against the `stellar_luminosity` (on the **y-axis**) of each `Star` object in `stars_dict`. Moreover, represent the `stellar_age` of each `Star` object using the **color** and represent the `stellar_mass` of each `Star` object using the **size** of the star."
   ]
  },
  {
   "cell_type": "markdown",
   "id": "0c9c87b2-b26e-44d2-9a1b-c343c78a544f",
   "metadata": {
    "deletable": false,
    "editable": false
   },
   "source": [
    "You **must** first compute four **lists** containing the `stellar_effective_temperature`, `stellar_luminosity`, `stellar_age` and the `stellar_mass` of each `Star` object (which has **all** the data available). You **must** ignore any `Star` object which has any of these four attributes **missing**. Then, you **must** use `plot_scatter` to plot the `stellar_effective_temperature` against the `stellar_luminosity` with the `stellar_age` as the **color** and the `stellar_mass` as the **size** of the points."
   ]
  },
  {
   "cell_type": "markdown",
   "id": "fdb965a1-3b82-419b-b6dc-633bccb0e5c0",
   "metadata": {
    "deletable": false,
    "editable": false
   },
   "source": [
    "Points possible: 4.0"
   ]
  },
  {
   "cell_type": "code",
   "execution_count": 112,
   "id": "5343cab1-47e1-4440-bf1f-f64fe95d94cb",
   "metadata": {
    "deletable": false,
    "editable": true,
    "tags": [
     "q9-code"
    ]
   },
   "outputs": [],
   "source": [
    "# first compute and store the lists 'temp_list', 'lum_list', 'age_list', and 'mass_list'\n",
    "# do NOT plot just yet\n",
    "\n",
    "temp_list = []\n",
    "lum_list = []\n",
    "age_list = []\n",
    "mass_list = []\n",
    "\n",
    "for star in stars_dict.values():\n",
    "    temp = star.stellar_effective_temperature\n",
    "    lum = star.stellar_luminosity\n",
    "    age = star.stellar_age\n",
    "    mass = star.stellar_mass\n",
    "    \n",
    "    if None in [temp,lum,age,mass]:\n",
    "        continue\n",
    "        \n",
    "    temp_list.append(temp)\n",
    "    lum_list.append(lum)\n",
    "    age_list.append(age)\n",
    "    mass_list.append(mass)\n",
    "\n",
    "# Do not display the variables"
   ]
  },
  {
   "cell_type": "code",
   "execution_count": 113,
   "id": "952e4749-b706-49b4-a151-f84d5262484e",
   "metadata": {
    "deletable": false,
    "editable": true
   },
   "outputs": [
    {
     "name": "stdout",
     "output_type": "stream",
     "text": [
      "Make sure you saved the notebook before running this cell. Running check for q9...\n",
      "Great job! You passed all test cases for this question.\n"
     ]
    },
    {
     "data": {
      "text/plain": [
       "True"
      ]
     },
     "execution_count": 113,
     "metadata": {},
     "output_type": "execute_result"
    }
   ],
   "source": [
    "student_grader.check(\"q9\", should_get_llm_feedback=False)"
   ]
  },
  {
   "cell_type": "markdown",
   "id": "c62c8f93-bba1-45e8-88f2-721b9ebf09cc",
   "metadata": {
    "deletable": false,
    "editable": false
   },
   "source": [
    "Now, **plot** `temp_list` and `lum_list` as **scatter plot** with the **x-axis** labelled *Effective Temperature*, and the **y-axis** labelled *Luminosity*, **colored** using `age_list`, and **sized** using `mass_list`. Your plot should look like this:"
   ]
  },
  {
   "cell_type": "markdown",
   "id": "a5bcdd40-b304-4504-9ce9-97521877c266",
   "metadata": {
    "deletable": false,
    "editable": false
   },
   "source": [
    "<div style=\"text-align: center;\"><img src=\"images/q9.jpg\" style=\"height: 400px;\"/></div>"
   ]
  },
  {
   "cell_type": "code",
   "execution_count": 114,
   "id": "def615c1-5bb1-4d1a-9729-aedf25e29f8a",
   "metadata": {
    "deletable": false
   },
   "outputs": [
    {
     "data": {
      "image/png": "[encoded data removed]",
      "text/plain": [
       "<Figure size 640x480 with 1 Axes>"
      ]
     },
     "metadata": {},
     "output_type": "display_data"
    }
   ],
   "source": [
    "# plot 'temp_list' and 'lum_list' with 'age_list' as colors and 'mass_list' as sizes\n",
    "\n",
    "plot_scatter(temp_list, lum_list, 'Effective Temperature', 'Luminosity', c=age_list, s=mass_list)\n",
    " "
   ]
  },
  {
   "cell_type": "markdown",
   "id": "6197ab2c-855a-47f2-a121-7fb1d29ee6e8",
   "metadata": {
    "deletable": false,
    "editable": false
   },
   "source": [
    "**Food for thought:** Can you tell if there is any relationship between the **temperature**, **luminosity**, **age**, and **mass** of the stars? You might want to remove the outliers with the extremely high `stellar_effective_temperature` to get a better view of the diagram. What effect does the **age** seem to have on the **temperature**? Recall that a **lighter** color implies that the value is higher, while a **darker** color implies that the value is lower. What effect does the **mass** have?\n",
    "\n",
    "**Food for thought:** Notice that there are **two distinct** *clusters* of points in this diagram. If you are interested, look up more information on the Hertzsprung–Russell Diagram to understand what these clusters are. "
   ]
  },
  {
   "cell_type": "code",
   "execution_count": null,
   "id": "ef7a98f5-0ba7-48d7-9202-ed356d4b9ecd",
   "metadata": {
    "deletable": false
   },
   "outputs": [],
   "source": [
    "# Food for thought is an entirely OPTIONAL exercise\n",
    "# you may leave your thoughts here as a comment if you wish to\n"
   ]
  },
  {
   "cell_type": "markdown",
   "id": "de79e565-6093-4eaf-afc3-3ea34d5d000d",
   "metadata": {
    "deletable": false,
    "editable": false
   },
   "source": [
    "### Segment 3: Recursion"
   ]
  },
  {
   "cell_type": "markdown",
   "id": "26485e6b-547e-401e-be5b-1d32dfe36cd5",
   "metadata": {
    "deletable": false,
    "editable": false
   },
   "source": [
    "You are not done exploring the dataset, and you have more questions left to answer. However, something more important has happened! We have managed to find the data from the corrupted json file (`mapping_5.json`)!\n",
    "\n",
    "If you will recall, when we were parsing the files in P10, we found that `mapping_5.json` was **broken**, and we couldn't read it. Therefore, we had no choice but to leave all the planets in `planets_5.csv` out of our analysis. Luckily for you now, the data has shown up intact in the directory `broken_data`. Unfortunately, the data is now no longer stored in a single file, but has been **split up** into **multiple files** and stored in **different subdirectories**.\n",
    "\n",
    "In the lab portion, you created a function called `get_all_paths_in`. This can be used to help parse all the data stored within the `broken_data` directory."
   ]
  },
  {
   "cell_type": "markdown",
   "id": "6c320af6-3f02-4496-8c01-b898ad2bac33",
   "metadata": {
    "deletable": false,
    "editable": false
   },
   "source": [
    "#### Question 10: What are the **paths** of the files in the `toi` directory of the `broken_data` directory?"
   ]
  },
  {
   "cell_type": "markdown",
   "id": "4dcc9118-4840-475e-bccf-1c8212b0cdf7",
   "metadata": {
    "deletable": false,
    "editable": false
   },
   "source": [
    "Your output **must** be a **list** of **relative paths**. You **must** answer this question by calling the `get_all_paths_in` function.\n",
    "\n",
    "**Warning:** Remember that you **must** only use `os.path.join` to create paths."
   ]
  },
  {
   "cell_type": "markdown",
   "id": "0f53e68b-4c2b-4574-9192-dc234397e039",
   "metadata": {
    "deletable": false,
    "editable": false
   },
   "source": [
    "Points possible: 3.0"
   ]
  },
  {
   "cell_type": "code",
   "execution_count": 115,
   "id": "272a14bd-b8f8-4dda-8719-6b6bb33ef9c5",
   "metadata": {
    "deletable": false,
    "editable": true,
    "tags": [
     "q10-code"
    ]
   },
   "outputs": [
    {
     "data": {
      "text/plain": [
       "['broken_data/toi/tois.json']"
      ]
     },
     "execution_count": 115,
     "metadata": {},
     "output_type": "execute_result"
    }
   ],
   "source": [
    "# compute and store the answer in the variable 'broken_data_toi', then display it\n",
    "\n",
    "broken_data_toi = get_all_paths_in(os.path.join('broken_data','toi'))\n",
    "\n",
    "broken_data_toi"
   ]
  },
  {
   "cell_type": "code",
   "execution_count": 116,
   "id": "52a4361c-2ce1-44a2-88e2-49ce221021db",
   "metadata": {
    "deletable": false,
    "editable": true
   },
   "outputs": [
    {
     "name": "stdout",
     "output_type": "stream",
     "text": [
      "Make sure you saved the notebook before running this cell. Running check for q10...\n",
      "Great job! You passed all test cases for this question.\n"
     ]
    },
    {
     "data": {
      "text/plain": [
       "True"
      ]
     },
     "execution_count": 116,
     "metadata": {},
     "output_type": "execute_result"
    }
   ],
   "source": [
    "student_grader.check(\"q10\", should_get_llm_feedback=False)"
   ]
  },
  {
   "cell_type": "markdown",
   "id": "79fd8587-596f-4381-b91d-bace9d731e65",
   "metadata": {
    "deletable": false,
    "editable": false
   },
   "source": [
    "#### Question 11: What are the **paths** of the files in the `100` directory of the `kepler` directory of the `broken_data` directory?"
   ]
  },
  {
   "cell_type": "markdown",
   "id": "f28cb4ad-82ff-407f-985b-2718828f2f4a",
   "metadata": {
    "deletable": false,
    "editable": false
   },
   "source": [
    "Your output **must** be a **list** of **relative paths**. You **must** answer this question by calling the `get_all_paths_in` function.\n",
    "\n",
    "**Hint:** You can pass multiple **strings** as arguments to `os.path.join` to join them together at the same time. For example, to get the path of the required directory here, you could say\n",
    "```python\n",
    "os.path.join(\"broken_data\", \"kepler\", \"100\")\n",
    "```"
   ]
  },
  {
   "cell_type": "markdown",
   "id": "297c9fb6-3407-45a3-a48a-05a4e8fe53d3",
   "metadata": {
    "deletable": false,
    "editable": false
   },
   "source": [
    "Points possible: 3.0"
   ]
  },
  {
   "cell_type": "code",
   "execution_count": 117,
   "id": "5bf3fb85-2be2-41e3-a6a5-5b668392fd5f",
   "metadata": {
    "deletable": false,
    "editable": true,
    "tags": [
     "q11-code"
    ]
   },
   "outputs": [
    {
     "data": {
      "text/plain": [
       "['broken_data/kepler/100/other/others.json',\n",
       " 'broken_data/kepler/100/200/others.json',\n",
       " 'broken_data/kepler/100/200/290/290s.json',\n",
       " 'broken_data/kepler/100/200/220s.json',\n",
       " 'broken_data/kepler/100/100/others.json',\n",
       " 'broken_data/kepler/100/100/100s.json']"
      ]
     },
     "execution_count": 117,
     "metadata": {},
     "output_type": "execute_result"
    }
   ],
   "source": [
    "# compute and store the answer in the variable 'broken_data_keplers_100s', then display it\n",
    "\n",
    "broken_data_keplers_100s = get_all_paths_in(os.path.join(\"broken_data\", \"kepler\", \"100\"))\n",
    "\n",
    "broken_data_keplers_100s"
   ]
  },
  {
   "cell_type": "code",
   "execution_count": 118,
   "id": "5cfdd890-4009-4b59-93cb-ed6c5c270886",
   "metadata": {
    "deletable": false,
    "editable": true
   },
   "outputs": [
    {
     "name": "stdout",
     "output_type": "stream",
     "text": [
      "Make sure you saved the notebook before running this cell. Running check for q11...\n",
      "Great job! You passed all test cases for this question.\n"
     ]
    },
    {
     "data": {
      "text/plain": [
       "True"
      ]
     },
     "execution_count": 118,
     "metadata": {},
     "output_type": "execute_result"
    }
   ],
   "source": [
    "student_grader.check(\"q11\", should_get_llm_feedback=False)"
   ]
  },
  {
   "cell_type": "markdown",
   "id": "88d3804c-84fc-4e71-8729-eeb0915788cd",
   "metadata": {
    "deletable": false,
    "editable": false
   },
   "source": [
    "#### Question 12: What are the **paths** of the files in the `other` directory of the `100` directory of the `kepler` directory of the `broken_data` directory?"
   ]
  },
  {
   "cell_type": "markdown",
   "id": "055b52d6-6dff-46ba-8b28-5f7bed8c1f6e",
   "metadata": {
    "deletable": false,
    "editable": false
   },
   "source": [
    "Your output **must** be a **list** of **relative paths**. You **must** answer this question by calling the `get_all_paths_in` function."
   ]
  },
  {
   "cell_type": "markdown",
   "id": "17116643-ef74-404e-9c57-22547b96b02a",
   "metadata": {
    "deletable": false,
    "editable": false
   },
   "source": [
    "Points possible: 3.0"
   ]
  },
  {
   "cell_type": "code",
   "execution_count": 124,
   "id": "00a55043-d47f-446b-ae95-554c360e898b",
   "metadata": {
    "deletable": false,
    "editable": true,
    "tags": [
     "q12-code"
    ]
   },
   "outputs": [
    {
     "data": {
      "text/plain": [
       "['broken_data/kepler/100/other/others.json']"
      ]
     },
     "execution_count": 124,
     "metadata": {},
     "output_type": "execute_result"
    }
   ],
   "source": [
    "# compute and store the answer in the variable 'broken_data_kepler_100_others', then display it\n",
    "\n",
    "broken_data_kepler_100_others = get_all_paths_in(os.path.join(\"broken_data\", \"kepler\", \"100\",'other'))\n",
    "broken_data_kepler_100_others"
   ]
  },
  {
   "cell_type": "code",
   "execution_count": 125,
   "id": "4c82340a-e317-4944-90da-f64d4e6b462c",
   "metadata": {
    "deletable": false,
    "editable": true
   },
   "outputs": [
    {
     "name": "stdout",
     "output_type": "stream",
     "text": [
      "Make sure you saved the notebook before running this cell. Running check for q12...\n",
      "Great job! You passed all test cases for this question.\n"
     ]
    },
    {
     "data": {
      "text/plain": [
       "True"
      ]
     },
     "execution_count": 125,
     "metadata": {},
     "output_type": "execute_result"
    }
   ],
   "source": [
    "student_grader.check(\"q12\", should_get_llm_feedback=False)"
   ]
  },
  {
   "cell_type": "markdown",
   "id": "e87dde97-e9ba-452a-b5de-139b556d29e7",
   "metadata": {
    "deletable": false,
    "editable": false
   },
   "source": [
    "#### Question 13: What are the **paths** of the files in the `broken_data` directory?"
   ]
  },
  {
   "cell_type": "markdown",
   "id": "9139b26d-9771-4942-bb1b-a41c79422263",
   "metadata": {
    "deletable": false,
    "editable": false
   },
   "source": [
    "Your output **must** be a **list** of **relative paths**. You **must** answer this question by calling the `get_all_paths_in` function."
   ]
  },
  {
   "cell_type": "markdown",
   "id": "362867bd-81bc-40ca-8d32-6558255e4497",
   "metadata": {
    "deletable": false,
    "editable": false
   },
   "source": [
    "Points possible: 3.0"
   ]
  },
  {
   "cell_type": "code",
   "execution_count": 126,
   "id": "584f1fb3-0994-4727-aec7-7401f92b3ef0",
   "metadata": {
    "deletable": false,
    "editable": true,
    "tags": [
     "q13-code"
    ]
   },
   "outputs": [
    {
     "data": {
      "text/plain": [
       "['broken_data/toi/tois.json',\n",
       " 'broken_data/others.json',\n",
       " 'broken_data/kepler/other/others.json',\n",
       " 'broken_data/kepler/100/other/others.json',\n",
       " 'broken_data/kepler/100/200/others.json',\n",
       " 'broken_data/kepler/100/200/290/290s.json',\n",
       " 'broken_data/kepler/100/200/220s.json',\n",
       " 'broken_data/kepler/100/100/others.json',\n",
       " 'broken_data/kepler/100/100/100s.json',\n",
       " 'broken_data/kepler/10/others.json',\n",
       " 'broken_data/kepler/10/80s.json',\n",
       " 'broken_data/kepler/10/30/30s.json',\n",
       " 'broken_data/kepler/10/20s.json',\n",
       " 'broken_data/k2s.json',\n",
       " 'broken_data/hd/other/others.json',\n",
       " 'broken_data/hd/10000/10000s.json',\n",
       " 'broken_data/gj/gjs.json']"
      ]
     },
     "execution_count": 126,
     "metadata": {},
     "output_type": "execute_result"
    }
   ],
   "source": [
    "# compute and store the answer in the variable 'broken_data', then display it\n",
    "\n",
    "broken_data = get_all_paths_in(os.path.join(\"broken_data\"))\n",
    "\n",
    "broken_data"
   ]
  },
  {
   "cell_type": "code",
   "execution_count": 127,
   "id": "0e9f5eb8-b4c3-4061-bb22-51eff8b9d4cf",
   "metadata": {
    "deletable": false,
    "editable": true
   },
   "outputs": [
    {
     "name": "stdout",
     "output_type": "stream",
     "text": [
      "Make sure you saved the notebook before running this cell. Running check for q13...\n",
      "Great job! You passed all test cases for this question.\n"
     ]
    },
    {
     "data": {
      "text/plain": [
       "True"
      ]
     },
     "execution_count": 127,
     "metadata": {},
     "output_type": "execute_result"
    }
   ],
   "source": [
    "student_grader.check(\"q13\", should_get_llm_feedback=False)"
   ]
  },
  {
   "cell_type": "markdown",
   "id": "214e30b4-b933-4d35-af27-bd5a5da59ab2",
   "metadata": {
    "deletable": false,
    "editable": false
   },
   "source": [
    "### Data Structure 2: `all_planets_list`"
   ]
  },
  {
   "cell_type": "markdown",
   "id": "2c2fb7b5-db5d-446d-894d-76483d779329",
   "metadata": {
    "deletable": false,
    "editable": false
   },
   "source": [
    "We want to read the data that is stored inside the directory `broken_data`. We already have a function `get_planets` (from P10) which can read a CSV file and a JSON file and combine them to create a **list** of `Planet` objects. So, we can repeatedly call `get_planets` on the CSV file `planets_5.csv` and each of the JSON files inside `broken_data` to get a **list** of `Planet` objects of **all** the planets in `planets_5.csv`.\n",
    "\n",
    "You **must** **create** the **list** `all_planets_list` by adding in all `Planet` objects from `planets_list`, and then also adding in the `Planet` objects in `planets_5.csv` and the directory `broken_data`.\n",
    "\n",
    "**Hint:** You should loop through every file in the list `broken_data`, and use `get_planets` on `planets_5.csv` (inside the `data` directory), and this file (from the loop) to create a list of `Planet` objects, and then **extend** `all_planets_list` by the list of new `Planet` objects.\n",
    "\n",
    "**Warning:** Do **not** update the value of the **list** `planets_list` when you do this. Otherwise, your answers to some of the previous questions will become incorrect. Instead, make sure that the new `Planet` objects are only added to `all_planets_list` and **not** to `planets_list`."
   ]
  },
  {
   "cell_type": "markdown",
   "id": "47f58b64-8e03-4c15-a2e5-1a5917f9a939",
   "metadata": {
    "deletable": false,
    "editable": false
   },
   "source": [
    "Points possible: 4.0"
   ]
  },
  {
   "cell_type": "code",
   "execution_count": 134,
   "id": "3e3e4cf7-81b0-4bcf-8051-2bd1be742068",
   "metadata": {
    "deletable": false,
    "editable": true,
    "tags": [
     "all_planets_list-code"
    ]
   },
   "outputs": [],
   "source": [
    "# create the variable 'all_planets_list' here,\n",
    "# but do NOT display the variable at the end\n",
    "# TODO: initialize 'all_planets_list'\n",
    "all_planets_list = []\n",
    "# TODO: add the planets in 'planets_list' to 'all_planets_list'\n",
    "all_planets_list.extend(planets_list)\n",
    "# TODO: loop through all paths in 'broken_data'\n",
    "for path in broken_data:\n",
    "    # TODO: use 'get_planets' to get the planets in this file and add them to 'all_planets_list' \n",
    "    planets = get_planets('data/planets_5.csv',path)\n",
    "    all_planets_list.extend(planets)"
   ]
  },
  {
   "cell_type": "code",
   "execution_count": 135,
   "id": "83b9a395-b672-4b3a-9c77-56afdefe19a4",
   "metadata": {
    "deletable": false,
    "editable": true
   },
   "outputs": [
    {
     "name": "stdout",
     "output_type": "stream",
     "text": [
      "Make sure you saved the notebook before running this cell. Running check for all_planets_list...\n",
      "Great job! You passed all test cases for this question.\n"
     ]
    },
    {
     "data": {
      "text/plain": [
       "True"
      ]
     },
     "execution_count": 135,
     "metadata": {},
     "output_type": "execute_result"
    }
   ],
   "source": [
    "student_grader.check(\"all_planets_list\", should_get_llm_feedback=False)"
   ]
  },
  {
   "cell_type": "markdown",
   "id": "89514966-878c-45ca-b4b6-98c37b59f56b",
   "metadata": {
    "deletable": false,
    "editable": false
   },
   "source": [
    "You can verify that you have not made any mistakes by confirming that `all_planets_list` now has *5592* `Planet` objects in it."
   ]
  },
  {
   "cell_type": "markdown",
   "id": "22cb7a35-feca-499e-9599-e1c43b3221c1",
   "metadata": {
    "deletable": false,
    "editable": false
   },
   "source": [
    "### Segment 4: Exploring habitability of exoplanets:"
   ]
  },
  {
   "cell_type": "markdown",
   "id": "5300b63b-a03b-450d-8a0f-0a6dec425223",
   "metadata": {
    "deletable": false,
    "editable": false
   },
   "source": [
    "Now that we have gathered the data on all the `Planet` objects, we are ready to have some fun with this dataset. Over the course of the rest of this project, we will try to find out if there are any planets in our dataset which could potentially support human habitation. Naturally, using the available data, we cannot say with any certainty that any particular planet is habitable, but we *can* say with some confidence when a planet is **not** habitable (notwithstanding major technological gains). That is exactly what we will do now."
   ]
  },
  {
   "cell_type": "markdown",
   "id": "ed0a7b72-4bfe-4cfc-8158-60613f5c19e0",
   "metadata": {
    "deletable": false,
    "editable": false
   },
   "source": [
    "### Task 4.1 Surface Gravitational Force:"
   ]
  },
  {
   "cell_type": "markdown",
   "id": "e27650e1-bafc-4307-bf27-42c809c456f2",
   "metadata": {
    "deletable": false,
    "editable": false
   },
   "source": [
    "It seems reasonable to expect that for humans to be able to survive on a planet, the gravitational force of the planet on its surface is not too different from that of the Earth.\n",
    "\n",
    "We note that the `planet_mass` and `planet_radius` attributes of the `Planet` objects stores these values in units of the mass of the Earth, and the radius of the Earth respectively. So, the **ratio** of the gravitational force experienced on the surface of a given planet to the force experienced on the surface of the Earth can be computed as:\n",
    "\n",
    "$$\\frac{g_{\\texttt{planet}}}{g_{\\texttt{earth}}} = \\frac{\\texttt{planet mass}}{\\texttt{planet radius}^{2}}$$\n",
    "\n",
    "So, a **ratio** greater than 1 would imply that a person on the planet's surface would experience a greater force due to gravity than on Earth, while a value lower than 1 would imply that a person on the planet's surface would experience a lesser force due to gravity than on Earth."
   ]
  },
  {
   "cell_type": "markdown",
   "id": "a8a7b954-1716-4de6-b978-deea54b1fdd4",
   "metadata": {
    "deletable": false,
    "editable": false
   },
   "source": [
    "### Function 1: `get_surface_gravity(planet)`"
   ]
  },
  {
   "cell_type": "markdown",
   "id": "dae34562-3945-43f1-912d-622b935207eb",
   "metadata": {
    "deletable": false,
    "editable": false
   },
   "source": [
    "You **must** define this function which takes in a `Planet` object as its input, and then **returns** the **ratio** of the gravitational force experienced on the surface of a given planet to the force experienced on the surface of the Earth. If either the `planet_mass` or `planet_radius` data is **missing**, then your function **must** return `None`."
   ]
  },
  {
   "cell_type": "markdown",
   "id": "3cd22368-854b-480c-8ad7-744a4822e3e4",
   "metadata": {
    "deletable": false,
    "editable": false
   },
   "source": [
    "Points possible: 4.0"
   ]
  },
  {
   "cell_type": "code",
   "execution_count": 140,
   "id": "06987a76-38e7-4571-b293-8adcb3f3536c",
   "metadata": {
    "deletable": false,
    "editable": true,
    "tags": [
     "get_surface_gravity-code"
    ]
   },
   "outputs": [],
   "source": [
    "# define the function 'get_surface_gravity' here\n",
    "\n",
    "def get_surface_gravity(planet):\n",
    "    planet_mass = planet.planet_mass\n",
    "    planet_radius = planet.planet_radius\n",
    "    if None in [planet_mass,planet_radius]:\n",
    "        return None\n",
    "    ratios = planet_mass/planet_radius**2\n",
    "    return ratios"
   ]
  },
  {
   "cell_type": "code",
   "execution_count": 141,
   "id": "630b0b63-3375-4529-9b06-67880e938a1f",
   "metadata": {
    "deletable": false,
    "editable": true
   },
   "outputs": [
    {
     "name": "stdout",
     "output_type": "stream",
     "text": [
      "Make sure you saved the notebook before running this cell. Running check for get_surface_gravity...\n",
      "Great job! You passed all test cases for this question.\n"
     ]
    },
    {
     "data": {
      "text/plain": [
       "True"
      ]
     },
     "execution_count": 141,
     "metadata": {},
     "output_type": "execute_result"
    }
   ],
   "source": [
    "student_grader.check(\"get_surface_gravity\", should_get_llm_feedback=False)"
   ]
  },
  {
   "cell_type": "markdown",
   "id": "afe156b1-ffa7-4952-84ce-9dd60778792e",
   "metadata": {
    "deletable": false,
    "editable": false
   },
   "source": [
    "#### Question 14: What is the **ratio** of gravitational force experienced on the surface of the planet *GJ 674 b* to the gravitational force experienced on the surface of the Earth?"
   ]
  },
  {
   "cell_type": "markdown",
   "id": "54af2c40-3642-465f-8385-4401d48bcecc",
   "metadata": {
    "deletable": false,
    "editable": false
   },
   "source": [
    "You will have to first loop through `all_planets_list` to identify the correct `Planet` object by its planet_name attribute. Remember to `break` out of your loop after you identify the correct `Planet` object."
   ]
  },
  {
   "cell_type": "markdown",
   "id": "4dcb055c-b3ce-4e26-86c8-9dcdc4322909",
   "metadata": {
    "deletable": false,
    "editable": false
   },
   "source": [
    "Points possible: 4.0"
   ]
  },
  {
   "cell_type": "code",
   "execution_count": 145,
   "id": "b2c2fd9a-93c7-4aa7-9468-ca8e6da27651",
   "metadata": {
    "deletable": false,
    "editable": true,
    "tags": [
     "q14-code"
    ]
   },
   "outputs": [
    {
     "data": {
      "text/plain": [
       "1.0000991982973964"
      ]
     },
     "execution_count": 145,
     "metadata": {},
     "output_type": "execute_result"
    }
   ],
   "source": [
    "# compute and store the answer in the variable 'gj_674_b_gravity', then display it\n",
    "for planet in all_planets_list:\n",
    "    if planet.planet_name == 'GJ 674 b':\n",
    "        gj_674_b = planet\n",
    "    \n",
    "gj_674_b_gravity = get_surface_gravity(gj_674_b)\n",
    "gj_674_b_gravity"
   ]
  },
  {
   "cell_type": "code",
   "execution_count": 146,
   "id": "f1a6ac2a-7a7a-4595-895b-691b93fe5017",
   "metadata": {
    "deletable": false,
    "editable": true
   },
   "outputs": [
    {
     "name": "stdout",
     "output_type": "stream",
     "text": [
      "Make sure you saved the notebook before running this cell. Running check for q14...\n",
      "Great job! You passed all test cases for this question.\n"
     ]
    },
    {
     "data": {
      "text/plain": [
       "True"
      ]
     },
     "execution_count": 146,
     "metadata": {},
     "output_type": "execute_result"
    }
   ],
   "source": [
    "student_grader.check(\"q14\", should_get_llm_feedback=False)"
   ]
  },
  {
   "cell_type": "markdown",
   "id": "1f0f8d92-5bb1-4c48-aebe-9378e38f9a0b",
   "metadata": {
    "deletable": false,
    "editable": false
   },
   "source": [
    "### Task 4.2: Distance to the star"
   ]
  },
  {
   "cell_type": "markdown",
   "id": "c9f91099-6320-4bbc-b192-7695da6ef7dc",
   "metadata": {
    "deletable": false,
    "editable": false
   },
   "source": [
    "Planets follow **elliptical** orbits around their host star. The `eccentricity` of a planet's orbit is a number that measures *how* elliptical the orbit is. An eccentricity of *0* would imply that the orbit is in fact perfectly circular, while an eccentricity close to *1* would imply that the orbit is very skewed and elliptical. As you may expect, if a planet has a highly eccentric orbit, its distance to its host star would vary wildly, leading to a highly variable climate. To determine if a planet could support human habitation, it is therefore important to know the closest and shortest distances between the planet and its host star.\n",
    "\n",
    "We can compute these quantities using the attributes `eccentricity` and `semi_major_radius` of each `Planet` object. These distances can be computed as:\n",
    "\n",
    "$$\\texttt{shortest distance} = \\texttt{semi major radius} \\times (1 - \\texttt{abs}(\\texttt{eccentricity}))$$\n",
    "\n",
    "$$\\texttt{longest distance} = \\texttt{semi major radius} \\times (1 + \\texttt{abs}(\\texttt{eccentricity}))$$"
   ]
  },
  {
   "cell_type": "markdown",
   "id": "9907e2e4-44a3-41c2-b20a-30859463dee9",
   "metadata": {
    "deletable": false,
    "editable": false
   },
   "source": [
    "### Function 2: `get_distances_to_star(planet)`"
   ]
  },
  {
   "cell_type": "markdown",
   "id": "e99ec481-98f4-45b4-b5f0-1132fd29d54a",
   "metadata": {
    "deletable": false,
    "editable": false
   },
   "source": [
    "You **must** define this function which takes in a `Planet` object as its input, and then **returns** a **list** of two **floats**. The first float should be the **shortest distance** of the `Planet` object to its host star, and the second float should be the **longest distance** to its host star. If either the `eccentricity` or `semi_major_radius` data of the `Planet` is missing, then the function **must** return `None`."
   ]
  },
  {
   "cell_type": "markdown",
   "id": "de64d980-790b-432a-bc16-a9c2f1ec9e79",
   "metadata": {
    "deletable": false,
    "editable": false
   },
   "source": [
    "Points possible: 4.0"
   ]
  },
  {
   "cell_type": "code",
   "execution_count": 147,
   "id": "74ff0149-3122-4310-87d2-45d249bda44f",
   "metadata": {
    "deletable": false,
    "editable": true,
    "tags": [
     "get_distances_to_star-code"
    ]
   },
   "outputs": [],
   "source": [
    "# define the function 'get_distances_to_star' here\n",
    "\n",
    "def get_distances_to_star(planet):\n",
    "    planet_eccentricity = planet.eccentricity\n",
    "    planet_semi_major_radius = planet.semi_major_radius\n",
    "    if None in [planet_eccentricity,planet_semi_major_radius]:\n",
    "        return None\n",
    "    shortest_distance = planet_semi_major_radius*(1-abs(planet_eccentricity))\n",
    "    longest_distance = planet_semi_major_radius*(1+abs(planet_eccentricity))\n",
    "    return [shortest_distance,longest_distance]\n",
    " "
   ]
  },
  {
   "cell_type": "code",
   "execution_count": 148,
   "id": "3e8ce8bc-bc1e-4ee8-92b6-bd7fa02221a9",
   "metadata": {
    "deletable": false,
    "editable": true
   },
   "outputs": [
    {
     "name": "stdout",
     "output_type": "stream",
     "text": [
      "Make sure you saved the notebook before running this cell. Running check for get_distances_to_star...\n",
      "Great job! You passed all test cases for this question.\n"
     ]
    },
    {
     "data": {
      "text/plain": [
       "True"
      ]
     },
     "execution_count": 148,
     "metadata": {},
     "output_type": "execute_result"
    }
   ],
   "source": [
    "student_grader.check(\"get_distances_to_star\", should_get_llm_feedback=False)"
   ]
  },
  {
   "cell_type": "markdown",
   "id": "580601a9-9414-4d3b-81c7-9e0219a9d41f",
   "metadata": {
    "deletable": false,
    "editable": false
   },
   "source": [
    "#### Question 15: Find the **shortest** and **longest** distances for the planet *b Cen AB b* to its host star."
   ]
  },
  {
   "cell_type": "markdown",
   "id": "4c5cc7a9-1c5d-4626-b7da-067cafa8ccdc",
   "metadata": {
    "deletable": false,
    "editable": false
   },
   "source": [
    "Your output **must** be a **list** of two **floats** representing the **shortest** and **longest** distances to its host star. Remember to `break` out of your loop after you identify the correct `Planet` object."
   ]
  },
  {
   "cell_type": "markdown",
   "id": "85c5cebb-14a6-4c8f-8068-4b349a1dcade",
   "metadata": {
    "deletable": false,
    "editable": false
   },
   "source": [
    "Points possible: 4.0"
   ]
  },
  {
   "cell_type": "code",
   "execution_count": 149,
   "id": "612a0a80-2202-450f-b3fa-16d2d35f5302",
   "metadata": {
    "deletable": false,
    "editable": true,
    "tags": [
     "q15-code"
    ]
   },
   "outputs": [
    {
     "data": {
      "text/plain": [
       "[333.59999999999997, 778.4]"
      ]
     },
     "execution_count": 149,
     "metadata": {},
     "output_type": "execute_result"
    }
   ],
   "source": [
    "# compute and store the answer in the variable 'distances_to_star_b_cen_ab_b', then display it\n",
    "for planet in all_planets_list:\n",
    "    if planet.planet_name == 'b Cen AB b':\n",
    "        b_cen_ab_b = planet\n",
    "\n",
    "distances_to_star_b_cen_ab_b = get_distances_to_star(b_cen_ab_b)\n",
    "distances_to_star_b_cen_ab_b"
   ]
  },
  {
   "cell_type": "code",
   "execution_count": 150,
   "id": "7ebd4b35-5c78-4b29-9c26-3a43949aae2b",
   "metadata": {
    "deletable": false,
    "editable": true
   },
   "outputs": [
    {
     "name": "stdout",
     "output_type": "stream",
     "text": [
      "Make sure you saved the notebook before running this cell. Running check for q15...\n",
      "Great job! You passed all test cases for this question.\n"
     ]
    },
    {
     "data": {
      "text/plain": [
       "True"
      ]
     },
     "execution_count": 150,
     "metadata": {},
     "output_type": "execute_result"
    }
   ],
   "source": [
    "student_grader.check(\"q15\", should_get_llm_feedback=False)"
   ]
  },
  {
   "cell_type": "markdown",
   "id": "0a2ddbf7-1385-44ec-aa48-7eb134a4f08c",
   "metadata": {
    "deletable": false,
    "editable": false
   },
   "source": [
    "### Task 4.3: Presence of Liquid Water"
   ]
  },
  {
   "cell_type": "markdown",
   "id": "1b086960-ab04-42ba-8c69-f7a058571ea6",
   "metadata": {
    "deletable": false,
    "editable": false
   },
   "source": [
    "It is safe to say that planets which cannot sustain liquid are inhabitable. While we do not have any data on whether the `Planet` objects in our dataset have naturally occurring water, we are able to determine whether the planet can *support* liquid water based on its distance to its host star, and the luminosity of this star. \n",
    "\n",
    "Astronomers have [computed](https://pubmed.ncbi.nlm.nih.gov/11536936/) that for Earth-like planets, there is a certain range of distances that a planet can have to its host star, which depends on the `luminosity` of the star, within which, water on the planet's surface can stay in liquid form. These distances are as follows:\n",
    "\n",
    "$$\\texttt{liquid water shortest dist} = \\sqrt{\\frac{\\texttt{luminosity}}{1.15}}$$\n",
    "\n",
    "$$\\texttt{liquid water longest dist} = \\sqrt{\\frac{\\texttt{luminosity}}{0.53}}$$\n",
    "\n",
    "In our dataset, the `stellar_luminosity` is stored in units of the logarithm of the absolute luminosity. So, the distances can be computed from our dataset as follows:\n",
    "\n",
    "$$\\texttt{liquid water shortest dist} = \\sqrt{\\frac{10^{\\texttt{stellar luminosity}}}{1.15}}$$\n",
    "\n",
    "$$\\texttt{liquid water longest dist} = \\sqrt{\\frac{10^{\\texttt{stellar luminosity}}}{0.53}}$$"
   ]
  },
  {
   "cell_type": "markdown",
   "id": "62f40ca7-8cf2-4cd1-a3c5-cdec26b2a84b",
   "metadata": {
    "deletable": false,
    "editable": false
   },
   "source": [
    "### Function 3: `get_liquid_water_distances(planet)`"
   ]
  },
  {
   "cell_type": "markdown",
   "id": "b2edc694-646d-434e-b4e5-b7d670bc65eb",
   "metadata": {
    "deletable": false,
    "editable": false
   },
   "source": [
    "You **must** define this function which takes in a `Planet` object as its input, and then **returns** a **list** of two **floats**. The first float should be the **shortest distance** the `Planet` object can be to its host star while being able to support liquid water, and the second float should be the **longest distance** it can be to its host star while being able to support liquid water. If the `stellar_luminosity` data of the host `Star` object is missing, then the function **must** return `None`."
   ]
  },
  {
   "cell_type": "markdown",
   "id": "ccf07c80-7a77-4afd-98da-54fe44ebe989",
   "metadata": {
    "deletable": false,
    "editable": false
   },
   "source": [
    "Points possible: 4.0"
   ]
  },
  {
   "cell_type": "code",
   "execution_count": 151,
   "id": "c155a038-33d3-490f-a833-c7154841360a",
   "metadata": {
    "deletable": false,
    "editable": true,
    "tags": [
     "get_liquid_water_distances-code"
    ]
   },
   "outputs": [],
   "source": [
    "# define the function 'get_liquid_water_distances' here\n",
    "\n",
    "def get_liquid_water_distances(planet):\n",
    "    host_star = planet.host_name\n",
    "    stellar_luminosity = stars_dict[host_star].stellar_luminosity\n",
    "    if stellar_luminosity == None:\n",
    "        return None\n",
    "    shortest_distance = (10**(stellar_luminosity)/1.15)**0.5\n",
    "    longest_distance = (10**(stellar_luminosity)/0.53)**0.5\n",
    "    return [shortest_distance,longest_distance]\n"
   ]
  },
  {
   "cell_type": "code",
   "execution_count": 152,
   "id": "baabc575-6534-4b5e-8587-d5b27536606b",
   "metadata": {
    "deletable": false,
    "editable": true
   },
   "outputs": [
    {
     "name": "stdout",
     "output_type": "stream",
     "text": [
      "Make sure you saved the notebook before running this cell. Running check for get_liquid_water_distances...\n",
      "Great job! You passed all test cases for this question.\n"
     ]
    },
    {
     "data": {
      "text/plain": [
       "True"
      ]
     },
     "execution_count": 152,
     "metadata": {},
     "output_type": "execute_result"
    }
   ],
   "source": [
    "student_grader.check(\"get_liquid_water_distances\", should_get_llm_feedback=False)"
   ]
  },
  {
   "cell_type": "markdown",
   "id": "1e68bf88-9fdc-4c58-bfe8-366533269f1c",
   "metadata": {
    "deletable": false,
    "editable": false
   },
   "source": [
    "#### Question 16: Find the **shortest** and **longest** distances for the planet *Kepler-197 e* from its host star, at which it can support liquid water."
   ]
  },
  {
   "cell_type": "markdown",
   "id": "72747846-95f1-497d-a12f-ddac0528590c",
   "metadata": {
    "deletable": false,
    "editable": false
   },
   "source": [
    "Your output **must** be a **list** of two **floats** representing the **shortest** and **longest** distances that the planet can be from its host star and still support liquid water. Remember to `break` out of your loop after you identify the correct `Planet` object."
   ]
  },
  {
   "cell_type": "markdown",
   "id": "26ad0378-ef49-4a2e-9373-c993b77fa120",
   "metadata": {
    "deletable": false,
    "editable": false
   },
   "source": [
    "Points possible: 4.0"
   ]
  },
  {
   "cell_type": "code",
   "execution_count": 153,
   "id": "9db7c819-c59e-4f92-a345-5ef9da53aada",
   "metadata": {
    "deletable": false,
    "editable": true,
    "tags": [
     "q16-code"
    ]
   },
   "outputs": [
    {
     "data": {
      "text/plain": [
       "[1.204068181137186, 1.7736260760497164]"
      ]
     },
     "execution_count": 153,
     "metadata": {},
     "output_type": "execute_result"
    }
   ],
   "source": [
    "# compute and store the answer in the variable 'liquid_water_distances_kepler_197_e', then display it\n",
    "\n",
    "for planet in all_planets_list:\n",
    "    if planet.planet_name == 'Kepler-197 e':\n",
    "        kepler_197_e = planet\n",
    "\n",
    "liquid_water_distances_kepler_197_e = get_liquid_water_distances(kepler_197_e)\n",
    "liquid_water_distances_kepler_197_e\n"
   ]
  },
  {
   "cell_type": "code",
   "execution_count": 154,
   "id": "74e0ac2c-f235-4e12-888f-15bceae193d1",
   "metadata": {
    "deletable": false,
    "editable": true
   },
   "outputs": [
    {
     "name": "stdout",
     "output_type": "stream",
     "text": [
      "Make sure you saved the notebook before running this cell. Running check for q16...\n",
      "Great job! You passed all test cases for this question.\n"
     ]
    },
    {
     "data": {
      "text/plain": [
       "True"
      ]
     },
     "execution_count": 154,
     "metadata": {},
     "output_type": "execute_result"
    }
   ],
   "source": [
    "student_grader.check(\"q16\", should_get_llm_feedback=False)"
   ]
  },
  {
   "cell_type": "markdown",
   "id": "131ac833-53cf-414f-af0b-cc066809ce60",
   "metadata": {
    "deletable": false,
    "editable": false
   },
   "source": [
    "#### Question 17: **List** the names (`planet_name`) of all the `Planet` objects which can support liquid water when they are at **both** their **shortest** and **longest** distances to their host star."
   ]
  },
  {
   "cell_type": "markdown",
   "id": "44652a04-1d63-4626-aca7-de5153a831d1",
   "metadata": {
    "deletable": false,
    "editable": false
   },
   "source": [
    "Your output **must** be a **list**. You **must** ignore `Planet` objects with missing `eccentricity`, or `semi_major_radius` data and planets whose host `Star` has missing `stellar_luminosity` data.\n",
    "\n",
    "**Hint:** You can find the actual shortest and longest distances of the planet with the `get_distances_to_star` function, and the shortest and longest distances at which liquid water can be supported with the `get_liquid_water_distances` function. You must consider `Planet` objects for which the actual distances to their host star lie **within** the distances at which liquid water can be supported."
   ]
  },
  {
   "cell_type": "code",
   "execution_count": null,
   "id": "ab8ec258-ad9c-49be-84f2-d74d82b16334",
   "metadata": {},
   "outputs": [],
   "source": []
  },
  {
   "cell_type": "code",
   "execution_count": null,
   "id": "8966d3ff-f08d-4703-8d04-e4ddfb6724b1",
   "metadata": {},
   "outputs": [],
   "source": []
  },
  {
   "cell_type": "markdown",
   "id": "57b79038-bf6e-4382-ae12-e300189100d8",
   "metadata": {
    "deletable": false,
    "editable": false
   },
   "source": [
    "Points possible: 4.0"
   ]
  },
  {
   "cell_type": "code",
   "execution_count": 202,
   "id": "cf657a5a-07e4-4288-ac47-87f09827dca0",
   "metadata": {
    "deletable": false,
    "editable": true,
    "tags": [
     "q17-code"
    ]
   },
   "outputs": [
    {
     "data": {
      "text/plain": [
       "['GJ 422 b',\n",
       " 'HD 10697 b',\n",
       " 'HD 114729 b',\n",
       " 'HD 145934 b',\n",
       " 'HD 147379 b',\n",
       " 'HD 17674 b',\n",
       " 'HD 188015 b',\n",
       " 'HD 564 b',\n",
       " 'Kepler-1341 b',\n",
       " 'Kepler-1410 b',\n",
       " 'Kepler-1540 b',\n",
       " 'Kepler-1544 b',\n",
       " 'Kepler-1554 b',\n",
       " 'Kepler-1593 b',\n",
       " 'Kepler-1628 b',\n",
       " 'Kepler-1647 b',\n",
       " 'Kepler-1652 b',\n",
       " 'Kepler-1653 b',\n",
       " 'Kepler-1661 b',\n",
       " 'Kepler-1690 b',\n",
       " 'Kepler-1868 b',\n",
       " 'Kepler-1981 b',\n",
       " 'Kepler-442 b',\n",
       " 'Kepler-443 b',\n",
       " 'Kepler-452 b',\n",
       " 'Kepler-453 b',\n",
       " 'Kepler-705 b',\n",
       " 'Proxima Cen b',\n",
       " 'HD 156668 c',\n",
       " 'HD 159868 b',\n",
       " 'HD 28185 b',\n",
       " 'HD 45364 c',\n",
       " 'Kepler-1086 c',\n",
       " 'Kepler-1143 c',\n",
       " 'Kepler-155 c',\n",
       " 'Kepler-283 c',\n",
       " 'Kepler-553 c',\n",
       " 'Kepler-712 c',\n",
       " 'TOI-199 c',\n",
       " 'GJ 180 c',\n",
       " 'GJ 433 d',\n",
       " 'Kepler-174 d',\n",
       " 'Kepler-454 c',\n",
       " 'Kepler-47 c',\n",
       " \"Teegarden's Star b\",\n",
       " 'TOI-700 d',\n",
       " 'TRAPPIST-1 d',\n",
       " 'TRAPPIST-1 e',\n",
       " 'Kepler-68 d',\n",
       " 'HD 160691 b',\n",
       " 'HD 191939 g',\n",
       " 'HD 34445 f',\n",
       " 'GJ 667 C c',\n",
       " 'GJ 667 C f']"
      ]
     },
     "execution_count": 202,
     "metadata": {},
     "output_type": "execute_result"
    }
   ],
   "source": [
    "# compute and store the answer in the variable 'planets_with_liquid_water', then display it\n",
    "\n",
    "planets_with_liquid_water = []\n",
    "\n",
    "for planet in all_planets_list:\n",
    "    \n",
    "    planet_distances = get_distances_to_star(planet)\n",
    "    liquid_distances = get_liquid_water_distances(planet)\n",
    "    host_star = planet.host_name\n",
    "    stellar_luminosity = stars_dict[host_star].stellar_luminosity\n",
    "    \n",
    "    if stellar_luminosity == None:\n",
    "        continue\n",
    "    planet_eccentricity = planet.eccentricity\n",
    "    planet_semi_major_radius = planet.semi_major_radius\n",
    "    if None in [planet_eccentricity,planet_semi_major_radius]:\n",
    "        continue\n",
    "\n",
    "    \n",
    "    if planet_distances[0]>= liquid_distances[0] and planet_distances[1]<=liquid_distances[1]:\n",
    "        planets_with_liquid_water.append(planet.planet_name)\n",
    "\n",
    "planets_with_liquid_water"
   ]
  },
  {
   "cell_type": "code",
   "execution_count": 195,
   "id": "5911cb2e-6b01-480d-a8ed-f3d432ae23ae",
   "metadata": {
    "deletable": false,
    "editable": true
   },
   "outputs": [
    {
     "name": "stdout",
     "output_type": "stream",
     "text": [
      "Make sure you saved the notebook before running this cell. Running check for q17...\n",
      "Great job! You passed all test cases for this question.\n"
     ]
    },
    {
     "data": {
      "text/plain": [
       "True"
      ]
     },
     "execution_count": 195,
     "metadata": {},
     "output_type": "execute_result"
    }
   ],
   "source": [
    "student_grader.check(\"q17\", should_get_llm_feedback=False)"
   ]
  },
  {
   "cell_type": "markdown",
   "id": "8e33b4bb-5866-4107-ae57-abf01bf8a56a",
   "metadata": {
    "deletable": false,
    "editable": false
   },
   "source": [
    "### Task 4.4: Surface temperature"
   ]
  },
  {
   "cell_type": "markdown",
   "id": "aa58d229-ebc9-4734-8882-9c0eb75b1983",
   "metadata": {
    "deletable": false,
    "editable": false
   },
   "source": [
    "The temperature on the surface of the planet is another important criteria for deciding whether a planet is habitable. The `equilibrium_temperature` of a `Planet` is the temperature that the planet would be, if it were a [black body](https://en.wikipedia.org/wiki/Black_body) (i.e., if it were able to absorb all the radiation it receives from its host star). However, most planets are not perfect black bodies and reflect some of the radiation that they receive from their host star. Astronomers use the quantity [albedo](https://en.wikipedia.org/wiki/Albedo) to measure how much radiation is reflected by the planet. An albedo of *0* implies that the planet is a perfect black body which absorbs all its radiation, while an albedo of *1* implies that the planet is perfectly reflective, and does not retain any radiation. In the real world, most planets have an albedo value between *0* and *0.5*.\n",
    "\n",
    "Using the albedo of a planet, we can compute the temperature on the surface of a planet as follows\n",
    "\n",
    "$$ \\texttt{surface temperature} = \\left(1- \\texttt{albedo}\\right) ^{1/4} \\times \\texttt{equilibrium temperature}$$\n",
    "\n",
    "Unfortunately, we do **not** have the albedo values of the `Planet` objects in our dataset. So, we will instead make some educated guesses and find the **maximum** and **minimum** surface temperatures, assuming that the albedo is within the range of *0* to *0.5* (which is known to be the case for most planets)."
   ]
  },
  {
   "cell_type": "markdown",
   "id": "00febd25-5afd-4198-b32b-cb4ff324400d",
   "metadata": {
    "deletable": false,
    "editable": false
   },
   "source": [
    "### Function 4: `get_surface_temperatures(planet)`"
   ]
  },
  {
   "cell_type": "markdown",
   "id": "02546c65-9553-44a7-bfc6-603d25dc2d6d",
   "metadata": {
    "deletable": false,
    "editable": false
   },
   "source": [
    "You **must** define this function which takes in a `Planet` object as its input, and then **returns** a **list** of two **floats**. The first float should be the **minimum surface temperature** of the `Planet` object (which can be computed by assuming a **albedo** value of *0.5*), and the second float should be the **maximum surface temperature** (which can be computed by assuming a **albedo** value of *0.0*). If the `equilibrium_temperature` data of the `Planet` is missing, then the function **must** return `None`."
   ]
  },
  {
   "cell_type": "markdown",
   "id": "39faf287-3489-4f37-a24f-b75b683a9c0c",
   "metadata": {
    "deletable": false,
    "editable": false
   },
   "source": [
    "Points possible: 4.0"
   ]
  },
  {
   "cell_type": "code",
   "execution_count": 196,
   "id": "502ad4de-2639-4480-95ea-0387b922379f",
   "metadata": {
    "deletable": false,
    "editable": true,
    "tags": [
     "get_surface_temperatures-code"
    ]
   },
   "outputs": [],
   "source": [
    "# define the function 'get_surface_temperatures' here\n",
    "\n",
    "def get_surface_temperatures(planet):\n",
    "    if planet.equilibrium_temperature == None:\n",
    "        return None\n",
    "    equilibrium_temperature = planet.equilibrium_temperature\n",
    "    min_surface_temperature = (1-0.5)**(0.25)*equilibrium_temperature\n",
    "    max_surface_temperature = equilibrium_temperature\n",
    "    return [min_surface_temperature,max_surface_temperature]\n",
    " "
   ]
  },
  {
   "cell_type": "code",
   "execution_count": 197,
   "id": "4d5d0768-d901-479f-94da-092fb13d5563",
   "metadata": {
    "deletable": false,
    "editable": true
   },
   "outputs": [
    {
     "name": "stdout",
     "output_type": "stream",
     "text": [
      "Make sure you saved the notebook before running this cell. Running check for get_surface_temperatures...\n",
      "Great job! You passed all test cases for this question.\n"
     ]
    },
    {
     "data": {
      "text/plain": [
       "True"
      ]
     },
     "execution_count": 197,
     "metadata": {},
     "output_type": "execute_result"
    }
   ],
   "source": [
    "student_grader.check(\"get_surface_temperatures\", should_get_llm_feedback=False)"
   ]
  },
  {
   "cell_type": "markdown",
   "id": "1b7675e1-6048-4427-b9c6-9d71f2b67814",
   "metadata": {
    "deletable": false,
    "editable": false
   },
   "source": [
    "#### Question 18: Find the **minimum** and **maximum** surface temperatures for the planet *HD 20794 d*."
   ]
  },
  {
   "cell_type": "markdown",
   "id": "38cd8393-9ff7-42f6-b59d-a502da24e993",
   "metadata": {
    "deletable": false,
    "editable": false
   },
   "source": [
    "Your output **must** be a **list** of two **floats** representing the **minimum** and **maximum** surface temperatures. Remember to `break` out of your loop after you identify the correct `Planet` object."
   ]
  },
  {
   "cell_type": "markdown",
   "id": "547d1e70-d052-4ab0-975d-90f7ff28bedc",
   "metadata": {
    "deletable": false,
    "editable": false
   },
   "source": [
    "Points possible: 4.0"
   ]
  },
  {
   "cell_type": "code",
   "execution_count": 198,
   "id": "f9e99f28-f91b-47ef-b2ca-2551e7f6d66e",
   "metadata": {
    "deletable": false,
    "editable": true,
    "tags": [
     "q18-code"
    ]
   },
   "outputs": [
    {
     "data": {
      "text/plain": [
       "[326.2678091184412, 388.0]"
      ]
     },
     "execution_count": 198,
     "metadata": {},
     "output_type": "execute_result"
    }
   ],
   "source": [
    "# compute and store the answer in the variable 'surface_temp_hd_20794_d', then display it\n",
    "\n",
    "for planet in all_planets_list:\n",
    "    if planet.planet_name == 'HD 20794 d':\n",
    "        hd_20794_d = planet\n",
    "\n",
    "surface_temp_hd_20794_d = get_surface_temperatures(hd_20794_d)\n",
    "surface_temp_hd_20794_d\n",
    " "
   ]
  },
  {
   "cell_type": "code",
   "execution_count": 199,
   "id": "cecc3589-deca-46f2-bc34-11c8d3e584b8",
   "metadata": {
    "deletable": false,
    "editable": true
   },
   "outputs": [
    {
     "name": "stdout",
     "output_type": "stream",
     "text": [
      "Make sure you saved the notebook before running this cell. Running check for q18...\n",
      "Great job! You passed all test cases for this question.\n"
     ]
    },
    {
     "data": {
      "text/plain": [
       "True"
      ]
     },
     "execution_count": 199,
     "metadata": {},
     "output_type": "execute_result"
    }
   ],
   "source": [
    "student_grader.check(\"q18\", should_get_llm_feedback=False)"
   ]
  },
  {
   "cell_type": "markdown",
   "id": "cad4e3e2-1210-43f6-9024-377e1241122d",
   "metadata": {
    "deletable": false,
    "editable": false
   },
   "source": [
    "#### Question 19: **List** the names (`planet_name`) of all the `Planet` objects whose **minimum surface temperature** is **greater** than *263* (Kelvin) and **maximum surface temperature** is **less** than *323* (Kelvin)."
   ]
  },
  {
   "cell_type": "markdown",
   "id": "c9ec3e0c-d680-42c7-99aa-b2a038d4fce2",
   "metadata": {
    "deletable": false,
    "editable": false
   },
   "source": [
    "Your output **must** be a **list**. You **must** ignore `Planet` objects with missing `equilibrium_temperature` data."
   ]
  },
  {
   "cell_type": "markdown",
   "id": "482fd4a9-ab26-415c-833c-8dc8dabf4c8f",
   "metadata": {
    "deletable": false,
    "editable": false
   },
   "source": [
    "Points possible: 4.0"
   ]
  },
  {
   "cell_type": "code",
   "execution_count": 200,
   "id": "d9e040be-63ae-4e23-b7e2-209e325dcc7e",
   "metadata": {
    "deletable": false,
    "editable": true,
    "tags": [
     "q19-code"
    ]
   },
   "outputs": [
    {
     "data": {
      "text/plain": [
       "['K2-323 b',\n",
       " 'K2-9 b',\n",
       " 'Kepler-1503 b',\n",
       " 'Kepler-1512 b',\n",
       " 'Kepler-505 b',\n",
       " 'Kepler-577 b',\n",
       " 'TOI-4562 b',\n",
       " 'EPIC 212737443 c',\n",
       " 'GJ 3929 c',\n",
       " 'KOI-1783.02',\n",
       " 'Kepler-1085 b',\n",
       " 'Kepler-436 b',\n",
       " 'Kepler-610 c',\n",
       " 'Kepler-281 d',\n",
       " 'Kepler-351 d',\n",
       " 'TOI-712 d',\n",
       " 'Kepler-169 f',\n",
       " 'Kepler-186 e']"
      ]
     },
     "execution_count": 200,
     "metadata": {},
     "output_type": "execute_result"
    }
   ],
   "source": [
    "# compute and store the answer in the variable 'pleasant_planets', then display it\n",
    "\n",
    "pleasant_planets = []\n",
    "\n",
    "for planet in all_planets_list:\n",
    "    if get_surface_temperatures(planet) == None:\n",
    "        continue\n",
    "    if get_surface_temperatures(planet)[0]>263 and get_surface_temperatures(planet)[1]<323:\n",
    "        pleasant_planets.append(planet.planet_name)\n",
    "        \n",
    "pleasant_planets"
   ]
  },
  {
   "cell_type": "code",
   "execution_count": 201,
   "id": "8d474926-7a88-43a8-adaf-c5b5d3f8bded",
   "metadata": {
    "deletable": false,
    "editable": true
   },
   "outputs": [
    {
     "name": "stdout",
     "output_type": "stream",
     "text": [
      "Make sure you saved the notebook before running this cell. Running check for q19...\n",
      "Great job! You passed all test cases for this question.\n"
     ]
    },
    {
     "data": {
      "text/plain": [
       "True"
      ]
     },
     "execution_count": 201,
     "metadata": {},
     "output_type": "execute_result"
    }
   ],
   "source": [
    "student_grader.check(\"q19\", should_get_llm_feedback=False)"
   ]
  },
  {
   "cell_type": "markdown",
   "id": "788c8514-aa1b-48c7-bd1c-832463aec0b5",
   "metadata": {
    "deletable": false,
    "editable": false
   },
   "source": [
    "### Task 4.5: Putting it all together"
   ]
  },
  {
   "cell_type": "markdown",
   "id": "43351caa-fc43-4573-8e47-de400882414f",
   "metadata": {
    "deletable": false,
    "editable": false
   },
   "source": [
    "We are finally ready to combine all our various criteria of habitability to make a list of planets which satisfy all the criteria above, and could potentially be habitable. Unsurprisingly, if we are too strict with our expectations, no planets in the dataset will meet them. So, allowing for some technological improvements in the future, we will make more modest requests of the planets in our dataset."
   ]
  },
  {
   "cell_type": "markdown",
   "id": "c5687d86-a6f8-419e-86a0-3ec2eb88c875",
   "metadata": {
    "deletable": false,
    "editable": false
   },
   "source": [
    "#### Question 20: List the `planet_name` of all the `Planet` objects which satisfy the criteria below:"
   ]
  },
  {
   "cell_type": "markdown",
   "id": "7feb321a-99f4-4de0-9be1-2b00ed6b3cea",
   "metadata": {
    "deletable": false,
    "editable": false
   },
   "source": [
    "1. The gravitational force experienced on the surface of the `Planet` must be **greater** than *0.75* and **less** than *1.25* times that of the Earth.\n",
    "2. The planet must always **lie within** the range at which it is able to support liquid water.\n",
    "3. The **minimum** surface temperature must be **greater** than *200* and the **maximum** surface temperature must be **less** than *350*.\n",
    "\n",
    "Your output **must** be a **list** of **strings**. You **must** ignore any `Planet` objects for which you cannot determine if any of these criteria are met."
   ]
  },
  {
   "cell_type": "markdown",
   "id": "db92ef9c-13ab-4a89-a4fb-2c7a6729b3bd",
   "metadata": {
    "deletable": false,
    "editable": false
   },
   "source": [
    "Points possible: 4.0"
   ]
  },
  {
   "cell_type": "code",
   "execution_count": 209,
   "id": "70811726-4bac-4a9d-837c-9cf906033c55",
   "metadata": {
    "deletable": false,
    "editable": true,
    "tags": [
     "q20-code"
    ]
   },
   "outputs": [
    {
     "data": {
      "text/plain": [
       "['Kepler-1341 b',\n",
       " 'Kepler-1410 b',\n",
       " 'Kepler-1540 b',\n",
       " 'Kepler-1544 b',\n",
       " 'Kepler-1554 b',\n",
       " 'Kepler-1593 b',\n",
       " 'Kepler-1628 b',\n",
       " 'Kepler-1652 b',\n",
       " 'Kepler-1653 b',\n",
       " 'Kepler-1661 b',\n",
       " 'Kepler-1690 b',\n",
       " 'Kepler-452 b',\n",
       " 'Kepler-705 b',\n",
       " 'Kepler-155 c',\n",
       " 'Kepler-283 c',\n",
       " \"Teegarden's Star b\",\n",
       " 'TOI-700 d',\n",
       " 'TRAPPIST-1 e',\n",
       " 'HD 191939 g']"
      ]
     },
     "execution_count": 209,
     "metadata": {},
     "output_type": "execute_result"
    }
   ],
   "source": [
    "# compute and store the answer in the variable 'habitable_planets', then display it\n",
    "\n",
    "habitable_planets = []\n",
    "\n",
    "for planet in all_planets_list:\n",
    "    if get_surface_gravity(planet) != None and get_surface_gravity(planet)>0.75 and get_surface_gravity(planet)<1.25:\n",
    "        if None not in [get_distances_to_star(planet),get_liquid_water_distances(planet)]  and get_distances_to_star(planet)[0]> get_liquid_water_distances(planet)[0] and get_distances_to_star(planet)[1]< get_liquid_water_distances(planet)[1]:\n",
    "            if get_surface_temperatures(planet) != None and get_surface_temperatures(planet)[0]>200 and get_surface_temperatures(planet)[1] < 350:\n",
    "                habitable_planets.append(planet.planet_name)\n",
    "    \n",
    "habitable_planets"
   ]
  },
  {
   "cell_type": "code",
   "execution_count": 210,
   "id": "f42121c4-cb83-4ba1-ae15-cc9ee3d0054c",
   "metadata": {
    "deletable": false,
    "editable": true
   },
   "outputs": [
    {
     "name": "stdout",
     "output_type": "stream",
     "text": [
      "Make sure you saved the notebook before running this cell. Running check for q20...\n",
      "Great job! You passed all test cases for this question.\n"
     ]
    },
    {
     "data": {
      "text/plain": [
       "True"
      ]
     },
     "execution_count": 210,
     "metadata": {},
     "output_type": "execute_result"
    }
   ],
   "source": [
    "student_grader.check(\"q20\", should_get_llm_feedback=False)"
   ]
  },
  {
   "cell_type": "markdown",
   "id": "371430b7-19f4-4189-96fd-b70f1268fa5f",
   "metadata": {
    "deletable": false,
    "editable": false
   },
   "source": [
    "**Food for thought:** If you are interested, you can play around these values more, and introduce more stringent requirements to try and find the single **most** habitable planet. Notice how so many of the habitable planets we found start with the string *Kepler*. Do you know why?"
   ]
  },
  {
   "cell_type": "code",
   "execution_count": null,
   "id": "575de07e-d17f-4f6c-9a97-d1a30fc6250d",
   "metadata": {
    "deletable": false
   },
   "outputs": [],
   "source": [
    "# Food for thought is an entirely OPTIONAL exercise\n",
    "# you may leave your thoughts here as a comment if you wish to\n"
   ]
  },
  {
   "cell_type": "markdown",
   "id": "4b0e642e-7065-4627-afd4-bb1673a8bac5",
   "metadata": {
    "deletable": false,
    "editable": false
   },
   "source": [
    "## Submission"
   ]
  },
  {
   "cell_type": "markdown",
   "id": "6dc2cc31-207c-4711-b00c-5116fa93c5d9",
   "metadata": {
    "deletable": false,
    "editable": false
   },
   "source": [
    "Make sure you have run all cells in your notebook in order before submitting on Gradescope. Your notebook should not contain any uncaught Exceptions, otherwise the Gradescope autograder will not give you any points."
   ]
  }
 ],
 "metadata": {
  "kernelspec": {
   "display_name": "Python 3 (ipykernel)",
   "language": "python",
   "name": "python3"
  },
  "language_info": {
   "codemirror_mode": {
    "name": "ipython",
    "version": 3
   },
   "file_extension": ".py",
   "mimetype": "text/x-python",
   "name": "python",
   "nbconvert_exporter": "python",
   "pygments_lexer": "ipython3",
   "version": "3.10.12"
  },
  "semester": "f24"
 },
 "nbformat": 4,
 "nbformat_minor": 5
}
